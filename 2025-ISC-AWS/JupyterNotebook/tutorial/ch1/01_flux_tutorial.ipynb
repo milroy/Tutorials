{
 "cells": [
  {
   "cell_type": "markdown",
   "id": "2507d149-dcab-458a-a554-37388e0ee13a",
   "metadata": {
    "tags": []
   },
   "source": [
    "<div>\n",
    "<center><img src=\"../assets/Flux-logo.svg\" width=\"400\"/>\n",
    "</div>"
   ]
  },
  {
   "cell_type": "markdown",
   "id": "40e867ba-f689-4301-bb60-9a448556bb84",
   "metadata": {
    "tags": []
   },
   "source": [
    "# Welcome to the Flux Tutorial\n",
    "\n",
    "> What is Flux Framework? 🤔️\n",
    " \n",
    "Flux is a flexible framework for resource management, built for your site. The framework consists of a suite of projects, tools, and libraries that may be used to build site-custom resource managers for High Performance Computing centers and cloud environments. Flux is a next-generation resource manager and scheduler with many transformative capabilities like hierarchical scheduling and resource management (you can think of it as \"fractal scheduling\") and directed-graph based resource representations.\n",
    "\n",
    "## I'm ready! How do I do this tutorial? 😁️\n",
    "\n",
    "This tutorial is split into 3 chapters, each of which has a notebook.\n",
    "\n",
    "Let's get started!"
   ]
  },
  {
   "cell_type": "markdown",
   "id": "15e82c38-8465-49ac-ae2b-b0bb56a79ec9",
   "metadata": {
    "tags": []
   },
   "source": [
    "<br>\n",
    "\n",
    "# Getting started with Flux\n",
    "\n",
    "The code and examples that this tutorial is based on can be found at [flux-framework/Tutorials](https://github.com/flux-framework/Tutorials/tree/master/2024-HPCIC-AWS). You can also find python examples in the `assets/flux-workflow-examples` directory from the sidebar navigation in this JupyterLab instance. "
   ]
  },
  {
   "cell_type": "markdown",
   "id": "ae33fef6-278c-4996-8534-fd15e548b338",
   "metadata": {
    "tags": []
   },
   "source": [
    "<div class=\"alert alert-block alert-info\">\n",
    "<span style=\"font-weight:600\">Tip:</span> Did you know you can get help for flux or a flux command? For example, try \"flux help\" and \"flux help jobs\"\n",
    "</div>"
   ]
  },
  {
   "cell_type": "code",
   "execution_count": 1,
   "id": "c7d616de-70cd-4090-bd43-ffacb5ade1f6",
   "metadata": {
    "scrolled": true,
    "tags": []
   },
   "outputs": [
    {
     "name": "stdout",
     "output_type": "stream",
     "text": [
      "Usage: flux [OPTIONS] COMMAND ARGS\n",
      "  -h, --help             Display this message.\n",
      "  -v, --verbose          Be verbose about environment and command search\n",
      "  -V, --version          Display command and component versions\n",
      "  -p, --parent           Set environment of parent instead of current instance\n",
      "  -r, --root             Set environment of root instead of current instance\n",
      "\n",
      "For general Flux documentation, please visit\n",
      "    https://flux-framework.readthedocs.io\n",
      "\n",
      "run and submit jobs, allocate resources\n",
      "   submit             submit a job to a Flux instance\n",
      "   run                run a Flux job interactively\n",
      "   bulksubmit         submit jobs in bulk to a Flux instance\n",
      "   alloc              allocate a new Flux instance for interactive use\n",
      "   batch              submit a batch script to Flux\n",
      "\n",
      "list and interact with jobs\n",
      "   jobs               list jobs submitted to Flux\n",
      "   top                display running Flux jobs\n",
      "   pstree             display job hierarchies\n",
      "   cancel             cancel one or more jobs\n",
      "   pgrep/pkill        search or cancel matching jobs\n",
      "   job                get job status, info, etc (see: flux help job)\n",
      "   proxy              proxy connections to Flux jobs and instances\n",
      "   watch              monitor one or more Flux jobs\n",
      "   update             update active Flux jobs\n",
      "\n",
      "get resource, queue and other instance information\n",
      "   resource           list/manipulate Flux resource status\n",
      "   queue              list and manipulate flux queues\n",
      "   overlay            Show flux overlay network status\n",
      "   uptime             Tell how long Flux has been up and running\n",
      "\n",
      "other useful commands\n",
      "   start              bootstrap a local Flux instance\n",
      "   version            Display flux version information\n",
      "   config             Manage/query Flux configuration\n",
      "   env                Print the flux environment or execute a command inside it\n",
      "   hostlist           fetch, combine, and manipulate Flux hostlists\n",
      "\n",
      "See 'flux help COMMAND' for more information about a specific command.\n"
     ]
    }
   ],
   "source": [
    "!flux help"
   ]
  },
  {
   "cell_type": "code",
   "execution_count": 2,
   "id": "2e54f640-283a-4523-8dde-9617fd6ef0c5",
   "metadata": {
    "scrolled": true,
    "tags": []
   },
   "outputs": [
    {
     "name": "stdout",
     "output_type": "stream",
     "text": [
      "FLUX-JOBS(1)                       flux-core                      FLUX-JOBS(1)\n",
      "\n",
      "NAME\n",
      "       flux-jobs - list jobs submitted to Flux\n",
      "\n",
      "SYNOPSIS\n",
      "       flux jobs [OPTIONS] [JOBID ...]\n",
      "\n",
      "DESCRIPTION\n",
      "       flux  jobs is used to list jobs run under Flux. By default only pending\n",
      "       and running jobs for the current user are listed. Additional  jobs  and\n",
      "       information  can  be  listed  using options listed below.  Alternately,\n",
      "       specific job ids can be listed on the command line to only  list  those\n",
      "       job IDs.\n",
      "\n",
      "OPTIONS\n",
      "       -a     List  jobs  in  all  states,  including  inactive jobs.  This is\n",
      "              shorthand for --filter=pending,running,inactive.\n",
      "\n",
      "       -A     List jobs of all users. This is shorthand for --user=all.\n",
      "\n",
      "       -n, --no-header\n",
      "              For default output, do not output column headers.\n",
      "\n",
      "       -u, --user=[USERNAME|UID]\n",
      "              List jobs for a specific username or userid. Specify all for all\n",
      "              users.\n",
      "\n",
      "       --name=[JOB NAME]\n",
      "              List jobs with a specific job name.\n",
      "\n",
      "       -q, --queue=QUEUE[,...]\n",
      "              List  jobs in a specific queue or queues. Multiple queues may be\n",
      "              separated by a comma or by using the -q, --queue option multiple\n",
      "              times.\n",
      "\n",
      "       -i, --include=HOSTS|RANKS\n",
      "              List  only  jobs where the assigned resources intersect with the\n",
      "              supplied argument, which may be specified either as  an  RFC  22\n",
      "              idset of broker ranks or an RFC 29 hostlist of host names. It is\n",
      "              not an error to specify ranks or hosts which do not exist.  This\n",
      "              option  implies  -A unless a specific user has been selected via\n",
      "              the -u, --user option.\n",
      "\n",
      "       -c, --count=N\n",
      "              Limit output to N jobs. N=0 means unlimited. (default 1000)\n",
      "\n",
      "       --since=WHEN\n",
      "              Limit output to jobs that have been active since a  given  time‐\n",
      "              stamp.   In  other  words, jobs that are currently pending, cur‐\n",
      "              rently running, or became inactive since  the  given  timestamp.\n",
      "              This  option  implies -a if no other --filter options are speci‐\n",
      "              fied.  If WHEN begins with - character, then  the  remainder  is\n",
      "              considered to be a an offset in Flux standard duration (RFC 23).\n",
      "              Otherwise, any datetime expression  accepted  by  the  Python  ‐\n",
      "              parsedatetime  module is accepted. Examples: \"-6h\", \"-1d\", \"yes‐\n",
      "              terday\", \"2021-06-21 6am\", \"last Monday\", etc. It is assumed  to\n",
      "              be an error if a timestamp in the future is supplied.\n",
      "\n",
      "              NOTE:\n",
      "                 Due to a quirk in the Python argument parsing implementation,\n",
      "                 it is suggested to always use = between  the  --since  option\n",
      "                 and  its  argument, e.g. --since=-1d rather than --since -1d.\n",
      "                 In the second case Python mistakenly considers the option ar‐\n",
      "                 gument  an  unknown  option  and  will raise an error about a\n",
      "                 missing argument to --since.\n",
      "\n",
      "       -f, --filter=STATE|RESULT\n",
      "              List jobs with specific job state or result. Multiple states  or\n",
      "              results  can  be listed separated by comma. See JOB STATUS below\n",
      "              for additional information. Defaults to pending,running.\n",
      "\n",
      "       -o, --format=NAME|FORMAT\n",
      "              Specify a named output format NAME  or  a  format  string  using\n",
      "              Python's format syntax. See OUTPUT FORMAT below for field names.\n",
      "              Named formats may be listed via --format=help.  An alternate de‐\n",
      "              fault  format  can be set via the FLUX_JOBS_FORMAT_DEFAULT envi‐\n",
      "              ronment variable.  Additional named formats  may  be  registered\n",
      "              with flux jobs via configuration.  See the CONFIGURATION section\n",
      "              for more details. A configuration snippet for an existing  named\n",
      "              format may be generated with --format=get-config=NAME.\n",
      "\n",
      "       --sort=[-]KEY,..\n",
      "              Sort  jobs  based on a list of comma separated keys. If a KEY is\n",
      "              preceded by a dash -, then the sort order is reversed. Supported\n",
      "              keys  match output field names, e.g. id, t_run, etc. This option\n",
      "              overrides any sort: prefix specified in the current format.\n",
      "\n",
      "       --json Emit data for selected jobs in JSON format. The data for  multi‐\n",
      "              ple  matching  jobs  is contained in a jobs array in the emitted\n",
      "              JSON object, unless a single job was selected by  jobid  on  the\n",
      "              command  line, in which case a JSON object representing that job\n",
      "              is emitted on success. With --recursive, each job which is  also\n",
      "              an  instance  of Flux will will have any recursively listed jobs\n",
      "              in a jobs array, and so on for each sub-child.\n",
      "\n",
      "              Only the attributes which are available at the time of the  flux\n",
      "              jobs  query  will  be  present in the returned JSON object for a\n",
      "              job. For instance a pending job will not have runtime,  waitsta‐\n",
      "              tus  or  result keys, among others. A missing key should be con‐\n",
      "              sidered unavailable.\n",
      "\n",
      "              The --json option is incompatible with --stats and --stats-only,\n",
      "              and any --format is ignored.\n",
      "\n",
      "       --color[=WHEN]\n",
      "              Control  output  coloring.   The  optional  argument WHEN can be\n",
      "              auto, never, or always.  If WHEN is omitted, it defaults to  al‐\n",
      "              ways.  Otherwise the default is auto.\n",
      "\n",
      "       --stats\n",
      "              Output  a  summary  of job statistics before the header.  By de‐\n",
      "              fault shows global statistics.  If --queue is  specified,  shows\n",
      "              statistics  for  the specified queue.  May be useful in conjunc‐\n",
      "              tion with utilities like watch(1), e.g.:\n",
      "\n",
      "                 $ watch -n 2 flux jobs --stats -f running -c 25\n",
      "\n",
      "              will display a summary of statistics along with the top 25  run‐\n",
      "              ning jobs, updated every 2 seconds.\n",
      "\n",
      "              Note that all job failures, including canceled and timeout jobs,\n",
      "              are collectively counted as \"failed\" in --stats.\n",
      "\n",
      "       --stats-only\n",
      "              Output a summary of job statistics and exit.  By  default  shows\n",
      "              global  statistics.   If  --queue is specified, shows statistics\n",
      "              for the specified queue.  flux jobs will exit with non-zero exit\n",
      "              status  with  --stats-only if there are no active jobs. This al‐\n",
      "              lows the following loop to work:\n",
      "\n",
      "                 $ while flux jobs --stats-only; do sleep 2; done\n",
      "\n",
      "              All options other than --queue are ignored when --stats-only  is\n",
      "              used.\n",
      "\n",
      "              Note that all job failures, including canceled and timeout jobs,\n",
      "              are collectively counted as \"failed\" in --stats-only.\n",
      "\n",
      "       -R, --recursive\n",
      "              List jobs recursively. Each child job which is also an  instance\n",
      "              of  Flux is prefixed by its jobid \"path\" followed by the list of\n",
      "              jobs, recursively up to any defined --level. If the --stats  op‐\n",
      "              tion  is  used,  then  each  child  instance in the hierarchy is\n",
      "              listed with its stats.\n",
      "\n",
      "       --recurse-all\n",
      "              By default, jobs not owned by the user  running  flux  jobs  are\n",
      "              skipped  with  --recursive, because normally Flux instances only\n",
      "              permit the instance owner to connect.  This  option  forces  the\n",
      "              command to attempt to recurse into the jobs of other users.  Im‐\n",
      "              plies --recursive.\n",
      "\n",
      "       -L, --level=N\n",
      "              With --recursive, stop recursive job listing at level N.  Levels\n",
      "              are  counted starting at 0, so flux jobs -R --level=0 is equiva‐\n",
      "              lent to flux jobs without -R, and --level=1 would  limit  recur‐\n",
      "              sive job listing to child jobs of the current instance.\n",
      "\n",
      "       --threads=N\n",
      "              When  flux jobs recursively queries job lists (with --recursive)\n",
      "              or fetches info for jobs that are also instances (see instance.*\n",
      "              fields),  a  pool of threads is used to parallelize the required\n",
      "              RPCs. Normally, the default number of ThreadPoolExecutor threads\n",
      "              is  used,  but  by  using  the  --threads,  a specific number of\n",
      "              threads can be chosen.\n",
      "\n",
      "JOB STATUS\n",
      "       Jobs may be observed to pass through five job states in  Flux:  DEPEND,\n",
      "       PRIORITY,  SCHED,  RUN,  CLEANUP, and INACTIVE (see Flux RFC 21). Under\n",
      "       the state_single field name, these are abbreviated as D, S,  P,  R,  C,\n",
      "       and  I respectively. For convenience and clarity, the following virtual\n",
      "       job states also exist: \"pending\", an alias  for  DEPEND,PRIORITY,SCHED;\n",
      "       \"running\",  an  alias  for  RUN,CLEANUP;  \"active\", an alias for \"pend‐\n",
      "       ing,running\".\n",
      "\n",
      "       After a job has finished and is in the INACTIVE state, it can be marked\n",
      "       with one of the possible results: COMPLETED, FAILED, CANCELED, TIMEOUT.\n",
      "       Under the result_abbrev field name, these are abbreviated as CD, F, CA,\n",
      "       and TO respectively.\n",
      "\n",
      "       The  job  status is a user friendly mix of both, a job is always in one\n",
      "       of the following statuses: DEPEND, PRIORITY, SCHED, RUN, CLEANUP,  COM‐\n",
      "       PLETED,  FAILED,  CANCELED,  or  TIMEOUT. Under the status_abbrev field\n",
      "       name, these are abbreviated as D, P, S, R, C, CD, F, CA, and TO respec‐\n",
      "       tively.\n",
      "\n",
      "OUTPUT FORMAT\n",
      "       The  --format  option  can  be used to specify an output format to flux\n",
      "       jobs using Python's string format syntax. For example, the following is\n",
      "       the format used for the default format:\n",
      "\n",
      "          {id.f58:>12} ?:{queue:<8.8} {username:<8.8} {name:<10.10+} \\\n",
      "          {status_abbrev:>2.2} {ntasks:>6} {nnodes:>6h} \\\n",
      "          {contextual_time!F:>8h} {contextual_info}\n",
      "\n",
      "       If  the  format  string  begins with sort:k1[,k2,...], then k1[,k2,...]\n",
      "       will be taken to be a comma-separated list of keys on which to sort the\n",
      "       displayed  output.  If  a  sort key starts with -, then the key will be\n",
      "       sorted in reverse order. The sort order embedded in the format\n",
      "          may be overridden on the command line by the --sort option.\n",
      "\n",
      "       If a format field is preceded by the special string ?: this will  cause\n",
      "       the  field to be removed entirely from output if the result would be an\n",
      "       empty string or zero value for all jobs in the listing. E.g.:\n",
      "\n",
      "          {id.f58:>12} ?:{exception.type}\n",
      "\n",
      "       would eliminate the EXCEPTION-TYPE column if no jobs in  the  list  re‐\n",
      "       ceived  an exception. (Thus the job queue is only displayed if at least\n",
      "       one job has a queue assigned in the default format shown above).\n",
      "\n",
      "       If a format field is preceded by the special string +: this will  cause\n",
      "       the  field width to be set to the maximum width such that no entry will\n",
      "       be truncated. If the field already has a width, then this will  be  the\n",
      "       minimum width of that field. For example:\n",
      "\n",
      "          {id.f58:>12} +:{queue:>5}\n",
      "\n",
      "       would  set the width of the QUEUE field to the maximum of 5 and the ac‐\n",
      "       tual width of the largest presented queue.\n",
      "\n",
      "       If a format field is preceded by the string  ?+:,  then  the  field  is\n",
      "       eliminated if empty, or set the maximum item width.\n",
      "\n",
      "       As  a  reminder to the reader, some shells will interpret braces ({ and\n",
      "       }) in the format string.  They may need to be quoted.\n",
      "\n",
      "       The special presentation type h can be used to convert an empty string,\n",
      "       \"0s\",  \"0.0\",  \"0:00:00\",  or epoch time to a hyphen. For example, nor‐\n",
      "       mally \"{nodelist}\" would output an empty string if the job has not  yet\n",
      "       run.   By  specifying,  \"{nodelist:h}\", a hyphen would be presented in‐\n",
      "       stead.\n",
      "\n",
      "       The special suffix + can be used to indicate if a string was  truncated\n",
      "       by  including a + character when truncation occurs. If both h and + are\n",
      "       being used, then the + must appear after the h.\n",
      "\n",
      "       Additionally, the custom job formatter supports a set of  special  con‐\n",
      "       version flags. Conversion flags follow the format field and are used to\n",
      "       transform the value before formatting takes place. Currently, the  fol‐\n",
      "       lowing conversion flags are supported by flux jobs:\n",
      "\n",
      "       !D     convert  a  timestamp  field  to  ISO8601  date  and  time (e.g.\n",
      "              2020-01-07T13:31:00).  Defaults to  empty  string  if  timestamp\n",
      "              field does not exist or the timestamp is 0 (i.e epoch time).\n",
      "\n",
      "       !d     convert  a  timestamp  to  a Python datetime object. This allows\n",
      "              datetime   specific   format   to   be   used,   e.g.   {t_inac‐\n",
      "              tive!d:%H:%M:%S}. Additionally, width and alignment can be spec‐\n",
      "              ified after the time format  by  using  two  colons  (::),  e.g.\n",
      "              {t_inactive!d:%H:%M:%S::>20}. Returns an empty string (or \"-\" if\n",
      "              the h suffix is used) for an unset timestamp.\n",
      "\n",
      "       !F     convert a time duration in floating point seconds to Flux  Stan‐\n",
      "              dard  Duration  (FSD)  string  (e.g.  {runtime!F}).  Defaults to\n",
      "              empty string if field does not exist.\n",
      "\n",
      "       !H     convert a time duration in floating point seconds to  hours:min‐\n",
      "              utes:seconds  form (e.g. {runtime!H}).  Defaults to empty string\n",
      "              if time duration field does not exist.\n",
      "\n",
      "       !P     convert a floating point number into a percentage fitting  in  5\n",
      "              characters  including  the \"%\" character. E.g. 0.5 becomes \"50%\"\n",
      "              0.015 becomes 1.5%, and 0.0005 becomes 0.05% etc.\n",
      "\n",
      "       As a reminder to the reader, some shells will interpret the exclamation\n",
      "       point (!) when using a conversion flag.  The exclamation point may need\n",
      "       to be escaped (\\!).\n",
      "\n",
      "       Annotations can be retrieved via the annotations field name.   Specific\n",
      "       keys  and sub-object keys can be retrieved separated by a period (\".\").\n",
      "       For example, if the scheduler has annotated the job with a reason pend‐\n",
      "       ing  status,  it  can be retrieved via \"{annotations.sched.reason_pend‐\n",
      "       ing}\".\n",
      "\n",
      "       As a convenience, the field names sched and user can be used as substi‐\n",
      "       tutions  for  annotations.sched  and  annotations.user.  For example, a\n",
      "       reason pending status can be retrieved via \"{sched.reason_pending}\".\n",
      "\n",
      "       The field names that can be specified are:\n",
      "\n",
      "       id     job ID\n",
      "\n",
      "       id.f58 job ID in RFC 19 F58 (base58) encoding\n",
      "\n",
      "       id.f58plain\n",
      "              job ID in RFC 19 F58 encoding with ascii f\n",
      "\n",
      "       id.dec job ID in decimal representation\n",
      "\n",
      "       id.hex job ID in 0x prefix hexadecimal representation\n",
      "\n",
      "       id.dothex\n",
      "              job ID in dotted hexadecimal representation (xx.xx.xx.xx)\n",
      "\n",
      "       id.words\n",
      "              job ID in mnemonic encoding\n",
      "\n",
      "       id.emoji\n",
      "              job ID in emoji encoding\n",
      "\n",
      "       userid job submitter's userid\n",
      "\n",
      "       username\n",
      "              job submitter's username\n",
      "\n",
      "       urgency\n",
      "              job urgency\n",
      "\n",
      "       priority\n",
      "              job priority\n",
      "\n",
      "       dependencies\n",
      "              list of any currently outstanding job dependencies\n",
      "\n",
      "       status job status (DEPEND, SCHED, RUN, CLEANUP, COMPLETED, FAILED, CAN‐\n",
      "              CELED, or TIMEOUT)\n",
      "\n",
      "       status_abbrev\n",
      "              status but in a max 2 character abbreviation\n",
      "\n",
      "       status_emoji\n",
      "              status but an appropriate emoji instead of job state / result\n",
      "\n",
      "       name   job name\n",
      "\n",
      "       cwd    job current working directory\n",
      "\n",
      "       queue  job queue\n",
      "\n",
      "       project\n",
      "              job accounting project\n",
      "\n",
      "       bank   job accounting bank\n",
      "\n",
      "       ntasks job task count\n",
      "\n",
      "       ncores job core count\n",
      "\n",
      "       duration\n",
      "              job duration in seconds\n",
      "\n",
      "       nnodes job node count (if job ran / is running), empty string otherwise\n",
      "\n",
      "       ranks  job ranks (if job ran / is running), empty string otherwise\n",
      "\n",
      "       nodelist\n",
      "              job nodelist (if job ran / is running), empty string otherwise\n",
      "\n",
      "       state  job state (DEPEND, SCHED, RUN, CLEANUP, INACTIVE)\n",
      "\n",
      "       state_single\n",
      "              job state as a single character\n",
      "\n",
      "       state_emoji\n",
      "              job  state  but  an  appropriate emoji instead of DEPEND, SCHED,\n",
      "              RUN, CLEANUP, or INACTIVE\n",
      "\n",
      "       result job result if job  is  inactive  (COMPLETED,  FAILED,  CANCELED,\n",
      "              TIMEOUT), empty string otherwise\n",
      "\n",
      "       result_abbrev\n",
      "              result but in a max 2 character abbreviation\n",
      "\n",
      "       result_emoji\n",
      "              result  but  an  appropriate emoji instead of COMPLETED, FAILED,\n",
      "              CANCELED, or TIMEOUT\n",
      "\n",
      "       success\n",
      "              True of False if job completed successfully, empty string other‐\n",
      "              wise\n",
      "\n",
      "       waitstatus\n",
      "              The  raw  status of the job as returned by waitpid(2) if the job\n",
      "              exited, otherwise an empty string. Note: waitstatus is the maxi‐\n",
      "              mum  wait  status returned by all job shells in a job, which may\n",
      "              not necessarily indicate the highest task wait status. (The  job\n",
      "              shell  exits  with  the  maximum task exit status, unless a task\n",
      "              died due to a  signal,  in  which  case  the  shell  exits  with\n",
      "              128+signo)\n",
      "\n",
      "       returncode\n",
      "              The job return code if the job has exited, or an empty string if\n",
      "              the job is still active. The return code of a job is the highest\n",
      "              job  shell exit code, or negative signal number if the job shell\n",
      "              was terminated by a signal. If the job was  canceled  before  it\n",
      "              started, then the returncode is set to the special value -128.\n",
      "\n",
      "       exception.occurred\n",
      "              True of False if job had an exception, empty string otherwise\n",
      "\n",
      "       exception.severity\n",
      "              If  exception.occurred  True, the highest severity, empty string\n",
      "              otherwise\n",
      "\n",
      "       exception.type\n",
      "              If exception.occurred True, the highest severity exception type,\n",
      "              empty string otherwise\n",
      "\n",
      "       exception.note\n",
      "              If exception.occurred True, the highest severity exception note,\n",
      "              empty string otherwise\n",
      "\n",
      "       t_submit\n",
      "              time job was submitted\n",
      "\n",
      "       t_depend\n",
      "              time job entered depend state\n",
      "\n",
      "       t_run  time job entered run state\n",
      "\n",
      "       t_cleanup\n",
      "              time job entered cleanup state\n",
      "\n",
      "       t_inactive\n",
      "              time job entered inactive state\n",
      "\n",
      "       runtime\n",
      "              job runtime\n",
      "\n",
      "       expiration\n",
      "              time at which job allocation was marked to expire\n",
      "\n",
      "       t_remaining\n",
      "              If job is running, amount of time remaining before expiration\n",
      "\n",
      "       annotations\n",
      "              annotations metadata, use \".\" to get specific keys\n",
      "\n",
      "       sched  short hand for annotations.sched\n",
      "\n",
      "       user   short hand for annotations.user\n",
      "\n",
      "       Field names which are specific to jobs which are also instances of Flux\n",
      "       include:\n",
      "\n",
      "       instance.stats\n",
      "              a  short  string  describing  current job statistics for the in‐\n",
      "              stance of  the  form  PD:{pending}  R:{running}  CD:{successful}\n",
      "              F:{failed}\n",
      "\n",
      "       instance.stats.total\n",
      "              total number of jobs in any state in the instance.\n",
      "\n",
      "       instance.utilization\n",
      "              number  of cores currently allocated divided by the total number\n",
      "              of cores.  Can be formatted as a percentage with !P, e.g.   {in‐\n",
      "              stance.utilization!P:>4}.\n",
      "\n",
      "       instance.gpu_utilization\n",
      "              same as instance.utilization but for gpu resources\n",
      "\n",
      "       instance.progress\n",
      "              number  of  inactive  jobs  divided by the total number of jobs.\n",
      "              Can be formatted as a percentage with {instance.progress!P:>4}\n",
      "\n",
      "       instance.resources.<state>.{ncores,ngpus}\n",
      "              number of cores, gpus in state state, where state  can  be  all,\n",
      "              up,    down,    allocated,    or   free,   e.g.    {instance.re‐\n",
      "              sources.all.ncores}\n",
      "\n",
      "       The following fields may return different information depending on  the\n",
      "       state of the job or other context:\n",
      "\n",
      "       contextual_info\n",
      "              Returns  selected  information based on the job's current state.\n",
      "              If the job is in PRIORITY state, then the  string  priority-wait\n",
      "              is returned.  If the job is in DEPEND state, then a list of out‐\n",
      "              standing dependencies is returned. If the job is in SCHED  state\n",
      "              and  its  priority  is  currently  0, then one of held or prior‐\n",
      "              ity-hold will be printed depending on if urgency is also 0, oth‐\n",
      "              erwise  an  estimated time the job will run is returned (if sup‐\n",
      "              ported by the scheduler). In other states, the assigned nodelist\n",
      "              is returned (if resources were assigned).\n",
      "\n",
      "       contextual_info\n",
      "              Returns  the  job runtime for jobs in RUN state or later, other‐\n",
      "              wise the job duration (if set) is returned.\n",
      "\n",
      "       inactive_reason\n",
      "              If the job is inactive, returns the reason that the  job  is  no\n",
      "              longer  active.   Generally speaking, will output \"Exit\", \"Time‐\n",
      "              out\", \"Canceled\", or signal.  If available, other contextual in‐\n",
      "              formation  will  also be provided such as the exit returncode or\n",
      "              cancellation message.\n",
      "\n",
      "CONFIGURATION\n",
      "       The flux jobs command supports registration of named output formats  in\n",
      "       configuration   files.  The  command  loads  configuration  files  from\n",
      "       flux-jobs.EXT from the following paths in order  of  increasing  prece‐\n",
      "       dence:\n",
      "\n",
      "          • $XDG_CONFIG_DIRS/flux  or  /etc/xdg/flux if XDG_CONFIG_DIRS is not\n",
      "            set. Note that XDG_CONFIG_DIRS is traversed in reverse order  such\n",
      "            that  entries first in the colon separated path are highest prior‐\n",
      "            ity.\n",
      "\n",
      "          • $XDG_CONFIG_HOME/flux or $HOME/.config/flux if XDG_CONFIG_HOME  is\n",
      "            not set\n",
      "\n",
      "       where EXT can be one of toml, yaml, or json.\n",
      "\n",
      "       If there are multiple flux-jobs.* files found in a directory, then they\n",
      "       are loaded in lexical order (i.e. .json first, then .toml, then .yaml)\n",
      "\n",
      "       Named formats are registered in a formats table or  dictionary  with  a\n",
      "       key per format pointing to a table or dictionary with the keys:\n",
      "\n",
      "       format (required) The format string\n",
      "\n",
      "       description\n",
      "              (optional)  A  short  description of the named format, displayed\n",
      "              with flux jobs --format=help\n",
      "\n",
      "       If a format name is specified in more than one config  file,  then  the\n",
      "       last  one  loaded is used. Due to the order that flux jobs loads config\n",
      "       files, this allows user configuration to override system configuration.\n",
      "       It  is an error to override any internally defined formats (such as de‐\n",
      "       fault).\n",
      "\n",
      "       If a format name or string is not specified on the command line the in‐\n",
      "       ternally defined format default is used.\n",
      "\n",
      "       Example:\n",
      "\n",
      "          # $HOME/.config/flux/flux-jobs.toml\n",
      "\n",
      "          [formats.myformat]\n",
      "          description = \"My useful format\"\n",
      "          format = \"\"\"\\\n",
      "          {id.f58:>12} {name:>8.8} {t_submit!D:<19} \\\n",
      "          {t_run!D:<19} {t_remaining!F}\\\n",
      "          \"\"\"\n",
      "\n",
      "       It  may  be helpful to start with an existing named format by using the\n",
      "       --format=get-config=NAME option, e.g.:\n",
      "\n",
      "          $ flux jobs --format=get-config=default >> ~/.config/flux/flux-jobs.toml\n",
      "\n",
      "       Be sure to change the name of the format string from default. It is  an\n",
      "       error to redefine the default format string.\n",
      "\n",
      "EXAMPLES\n",
      "       The  default output of flux jobs will list the pending and running jobs\n",
      "       of the current user.  It is equivalent to:\n",
      "\n",
      "          $ flux jobs --filter=pending,running\n",
      "\n",
      "       To list all pending, running, and inactive jobs, of the  current  user,\n",
      "       you can use --filter option or the -a option:\n",
      "\n",
      "          $ flux jobs -a\n",
      "\n",
      "          OR\n",
      "\n",
      "          $ flux jobs --filter=pending,running,inactive\n",
      "\n",
      "       To alter which user's jobs are listed, specify the user with --user:\n",
      "\n",
      "          $ flux jobs --user=flux\n",
      "\n",
      "       Jobs  that  have finished may be filtered further by specifying if they\n",
      "       have completed, failed, or were canceled.  For example,  the  following\n",
      "       will list the jobs that have failed or were canceled:\n",
      "\n",
      "          $ flux jobs --filter=failed,canceled\n",
      "\n",
      "       The  --format  option  can be used to alter the output format or output\n",
      "       additional information.  For example, the following  would  output  all\n",
      "       jobids  for  the  user  in decimal form, and output any annotations the\n",
      "       scheduler attached to each job:\n",
      "\n",
      "          $ flux jobs -a --format=\"{id} {annotations.sched}\"\n",
      "\n",
      "       The following would output the job id and exception information,  so  a\n",
      "       user can learn why a job failed.\n",
      "\n",
      "          $ flux jobs --filter=failed --format=\"{id} {exception.type} {exception.note}\"\n",
      "\n",
      "RESOURCES\n",
      "       Flux: http://flux-framework.org\n",
      "\n",
      "       Flux RFC: https://flux-framework.readthedocs.io/projects/flux-rfc\n",
      "\n",
      "       Issue Tracker: https://github.com/flux-framework/flux-core/issues\n",
      "\n",
      "FLUX RFC\n",
      "       22/Idset String Representation\n",
      "       29/Hostlist Format\n",
      "\n",
      "SEE ALSO\n",
      "       flux-pstree(1)\n",
      "\n",
      "AUTHOR\n",
      "       This page is maintained by the Flux community.\n",
      "\n",
      "COPYRIGHT\n",
      "       Copyright  2014  Lawrence Livermore National Security, LLC and Flux de‐\n",
      "       velopers.\n",
      "\n",
      "       SPDX-License-Identifier: LGPL-3.0\n",
      "\n",
      "                                 May 07, 2025                     FLUX-JOBS(1)\n"
     ]
    }
   ],
   "source": [
    "!flux help jobs"
   ]
  },
  {
   "cell_type": "code",
   "execution_count": 3,
   "id": "166aed97-55c2-4e90-b35a-2479d01a6cec",
   "metadata": {
    "scrolled": true
   },
   "outputs": [
    {
     "name": "stdout",
     "output_type": "stream",
     "text": [
      "usage: flux submit [OPTIONS...] COMMAND [ARGS...]\n",
      "\n",
      "enqueue a job\n",
      "\n",
      "positional arguments:\n",
      "  command                     Job command and arguments\n",
      "\n",
      "options:\n",
      "  -h, --help                  show this help message and exit\n",
      "  -B, --bank=BANK             Submit a job to a specific named bank\n",
      "  -q, --queue=NAME            Submit a job to a specific named queue\n",
      "  -t, --time-limit=MIN|FSD    Time limit in minutes when no units provided,\n",
      "                              otherwise in Flux standard duration, e.g. 30s,\n",
      "                              2d, 1.5h\n",
      "      --urgency=N             Set job urgency (0-31), hold=0, default=16,\n",
      "                              expedite=31\n",
      "      --job-name=NAME         Set an optional name for job to NAME\n",
      "  -o, --setopt=OPT            Set shell option OPT. An optional value is\n",
      "                              supported with OPT=VAL (default VAL=1) (multiple\n",
      "                              use OK)\n",
      "  -S, --setattr=ATTR          Set job attribute ATTR. An optional value is\n",
      "                              supported with ATTR=VAL (default VAL=1). If ATTR\n",
      "                              starts with ^, then VAL is a file containing\n",
      "                              valid JSON which will be used as the value of\n",
      "                              the attribute. (multiple use OK)\n",
      "      --add-file=[NAME=]PATH  Add a file at PATH with optional NAME to\n",
      "                              jobspec. The file will be extracted to\n",
      "                              {{tmpdir}}/NAME. If NAME is not specified, then\n",
      "                              the basename of PATH will be used. If necessary,\n",
      "                              permissions may be specified via NAME:PERMS.\n",
      "                              (multiple use OK)\n",
      "      --dependency=URI        Set an RFC 26 dependency URI for this job\n",
      "      --requires=CONSTRAINT   Specify job constraints in RFC 35 syntax\n",
      "      --begin-time=+FSD|TIME  Set minimum start time as offset in FSD (e.g.\n",
      "                              +1h) or an absolute TIME (e.g. \"3pm\") for job\n",
      "      --env=RULE              Control how environment variables are exported.\n",
      "                              If RULE starts with '-' apply rest of RULE as a\n",
      "                              remove filter (see --env-remove), if '^' then\n",
      "                              read rules from a file (see --env-file).\n",
      "                              Otherwise, set matching environment variables\n",
      "                              from the current environment (--env=PATTERN) or\n",
      "                              set a value explicitly (--env=VAR=VALUE). Rules\n",
      "                              are applied in the order they are used on the\n",
      "                              command line. (multiple use OK)\n",
      "      --env-remove=PATTERN    Remove environment variables matching PATTERN.\n",
      "                              If PATTERN starts with a '/', then it is matched\n",
      "                              as a regular expression, otherwise PATTERN is a\n",
      "                              shell glob expression. (multiple use OK)\n",
      "      --env-file=FILE         Read a set of environment rules from FILE.\n",
      "                              (multiple use OK)\n",
      "      --rlimit=RULE           Control how soft resource limits are propagated\n",
      "                              to the job. If RULE starts with a '-', then do\n",
      "                              not propagate matching resource limits (e.g.\n",
      "                              '-*' propagates nothing). Otherwise, propagate\n",
      "                              the current limit or a specific value, e.g.\n",
      "                              --rlimit=core or --rlimit=core=16. The option\n",
      "                              may be used multiple times to build a reduced\n",
      "                              set of propagated limits, e.g. --rlimit=-*,core\n",
      "                              will only propagate RLIMIT_CORE.\n",
      "      --input=FILENAME        Redirect job stdin from FILENAME, bypassing KVS\n",
      "      --output=FILENAME       Redirect job stdout to FILENAME, bypassing KVS\n",
      "      --error=FILENAME        Redirect job stderr to FILENAME, bypassing KVS\n",
      "  -u, --unbuffered            Disable buffering of input and output\n",
      "  -l, --label-io              Add rank labels to stdout, stderr lines\n",
      "      --cwd=DIRECTORY         Set job working directory\n",
      "      --flags=FLAGS           Set comma separated list of job submission\n",
      "                              flags. Possible flags: debug, waitable,\n",
      "                              novalidate\n",
      "      --signal=[SIG][@TIME]   Schedule delivery of signal SIG at a defined\n",
      "                              TIME before job expiration. Default SIG is\n",
      "                              SIGUSR1, default TIME is 60s.\n",
      "      --dry-run               Don't actually submit job, just emit jobspec\n",
      "      --quiet                 Do not print jobid to stdout on submission\n",
      "      --taskmap=URI           Select the scheme for mapping task ids to nodes\n",
      "                              as a URI (i.e. SCHEME[:VALUE]). Value options\n",
      "                              include block, cyclic, cyclic:N, or\n",
      "                              manual:TASKMAP (default: block)\n",
      "  -v, --verbose               Increase verbosity on stderr (multiple use OK)\n",
      "      --cc=IDSET              Replicate job for each ID in IDSET.\n",
      "                              (FLUX_JOB_CC=ID will be set for each job\n",
      "                              submitted)\n",
      "      --bcc=IDSET             Like --cc, but FLUX_JOB_CC is not set\n",
      "      --wait-event=NAME       Wait for event NAME for all jobs after\n",
      "                              submission\n",
      "      --wait                  Wait for all jobs to complete after submission\n",
      "                              (same as --wait-event=clean)\n",
      "      --watch                 Watch all job output (implies --wait)\n",
      "      --log=FILE              Print program log messages (e.g. submitted\n",
      "                              jobid) to FILE instead of terminal\n",
      "      --log-stderr=FILE       Separate stderr messages into FILE instead of\n",
      "                              terminal or logfile destination\n",
      "      --progress              Show progress of job submission or completion\n",
      "                              (with --wait)\n",
      "      --jps                   With --progress, show job throughput\n",
      "\n",
      "Common resource options:\n",
      "  -N, --nodes=N               Number of nodes to allocate\n",
      "  -x, --exclusive             With -N, --nodes, allocate nodes exclusively\n",
      "\n",
      "Per task options:\n",
      "  The following options allow per-task specification of resources, and\n",
      "  should not be combined with per-resource options.\n",
      "\n",
      "  -n, --ntasks=N              Number of tasks to start\n",
      "  -c, --cores-per-task=N      Number of cores to allocate per task\n",
      "  -g, --gpus-per-task=N       Number of GPUs to allocate per task\n",
      "\n",
      "Per resource options:\n",
      "  The following options allow per-resource specification of tasks, and\n",
      "  should not be used with per-task options above\n",
      "\n",
      "      --cores=N               Request a total number of cores\n",
      "      --tasks-per-node=N      Force number of tasks per node\n",
      "      --tasks-per-core=N      Force number of tasks per core\n",
      "      --gpus-per-node=N       Request a number of GPUs per node with --nodes\n"
     ]
    }
   ],
   "source": [
    "!flux submit --help"
   ]
  },
  {
   "cell_type": "markdown",
   "id": "17e435d6-0927-4966-a4d7-47a128c94158",
   "metadata": {
    "jp-MarkdownHeadingCollapsed": true,
    "tags": []
   },
   "source": [
    "### What does the terminal prompt mean?\n",
    "For cases when you need a terminal, we will <button data-commandLinker-command=\"terminal:open\" data-name=\"flux\" href=\"#\">provide you with a button</button>! However, you can also select `File -> New -> Terminal` to open one on the fly. Let's next talk about visualizing Flux resources.\n",
    "\n",
    "When running shell commands in Jupyter they are prepended with a !. Jupyter natively assumes Python code in its cells."
   ]
  },
  {
   "cell_type": "markdown",
   "id": "ec052119",
   "metadata": {},
   "source": [
    "## Flux Resources\n",
    "\n",
    "When you are interacting with Flux, you will commonly want to know what resources are available to you. Flux uses [hwloc](https://github.com/open-mpi/hwloc) to detect the resources on each node and then to populate its resource graph.\n",
    "\n",
    "You can access the topology information that Flux collects with the `flux resource` subcommand. Let's run `flux resource list` to see the resources available to us in this notebook:"
   ]
  },
  {
   "cell_type": "code",
   "execution_count": 4,
   "id": "scenic-chassis",
   "metadata": {
    "tags": []
   },
   "outputs": [
    {
     "name": "stdout",
     "output_type": "stream",
     "text": [
      "     STATE NNODES NCORES NGPUS NODELIST\n",
      "      free      4     40     0 a100cf62dc4f,a100cf62dc4f,a100cf62dc4f,a100cf62dc4f\n",
      " allocated      0      0     0 \n",
      "      down      0      0     0 \n"
     ]
    }
   ],
   "source": [
    "!flux resource list"
   ]
  },
  {
   "cell_type": "markdown",
   "id": "0086e47e",
   "metadata": {},
   "source": [
    "Flux can also bootstrap its resource graph based on static input files, like in the case of a multi-user system instance setup by site administrators.  [More information on Flux's static resource configuration files](https://flux-framework.readthedocs.io/projects/flux-core/en/latest/guide/admin.html#configuration).  Flux provides a more standard interface to listing available resources that works regardless of the resource input source: `flux resource`."
   ]
  },
  {
   "cell_type": "code",
   "execution_count": 5,
   "id": "prime-equilibrium",
   "metadata": {
    "tags": []
   },
   "outputs": [
    {
     "name": "stdout",
     "output_type": "stream",
     "text": [
      "       STATE UP NNODES NODELIST\n",
      "       avail \u001b[01;32m ✔\u001b[0;0m      4 a100cf62dc4f,a100cf62dc4f,a100cf62dc4f,a100cf62dc4f\n"
     ]
    }
   ],
   "source": [
    "# To view status of resources\n",
    "!flux resource status"
   ]
  },
  {
   "cell_type": "markdown",
   "id": "e6603d7f-dd45-4743-9efb-bf65ba7e2f22",
   "metadata": {},
   "source": [
    "It might also be the case that you need to see queues. Here is how to do that:"
   ]
  },
  {
   "cell_type": "code",
   "execution_count": 6,
   "id": "c7fbe877-c0bf-4296-a20b-21809caa72d7",
   "metadata": {
    "tags": []
   },
   "outputs": [
    {
     "name": "stdout",
     "output_type": "stream",
     "text": [
      " EN ST TDEFAULT   TLIMIT     NNODES     NCORES      NGPUS\n",
      " \u001b[01;32m ✔\u001b[0;0m \u001b[01;32m ✔\u001b[0;0m      inf      inf        0-4       0-40        0-0\n"
     ]
    }
   ],
   "source": [
    "!flux queue list"
   ]
  },
  {
   "cell_type": "markdown",
   "id": "dee2d6af-43fa-490e-88e9-10f13e660125",
   "metadata": {
    "tags": []
   },
   "source": [
    "<br>\n",
    "\n",
    "# Flux Commands \n",
    "\n",
    "Here are how Flux commands map to a scheduler you are likely familiar with, Slurm. A larger table with similar mappings for LSF, Moab, and Slurm can be [viewed here](https://hpc.llnl.gov/banks-jobs/running-jobs/batch-system-cross-reference-guides). For submitting jobs, you can use the `flux` `submit`, `run`, `bulksubmit`, `batch`, and `alloc` commands.\n",
    "\n",
    "<table>\n",
    "    <tr>\n",
    "        <th>Operation</th>\n",
    "        <th>Slurm</th>\n",
    "        <th>Flux</th>\n",
    "    </tr>\n",
    "    <tr>\n",
    "        <td>One-off run of a single job (blocking)</td>\n",
    "        <td><code>srun</code></td>\n",
    "        <td><code>flux run</code></td>\n",
    "    </tr>\n",
    "    <tr>\n",
    "        <td>One-off run of a single job (interactive)</td>\n",
    "        <td><code>srun --pty</code></td>\n",
    "        <td><code>flux run -o pty.interactive</code></td>\n",
    "    </tr>\n",
    "    <tr>\n",
    "        <td>One-off run of a single job (not blocking)</td>\n",
    "        <td><code>NA</code></td>\n",
    "        <td><code>flux submit</code></td>\n",
    "    </tr>\n",
    "    <tr>\n",
    "        <td>Bulk submission of jobs (not blocking)</td>\n",
    "        <td><code>NA</code></td>\n",
    "        <td><code>flux bulksubmit</code></td>\n",
    "    </tr>    \n",
    "    <tr>\n",
    "        <td>Watching jobs</td>\n",
    "        <td><code>NA</code></td>\n",
    "        <td><code>flux watch</code></td>\n",
    "    </tr>\n",
    "    <tr>\n",
    "        <td>Querying the status of jobs</td>\n",
    "        <td><code>squeue</code>/<code>scontrol show job <i>job_id</i></code></td>\n",
    "        <td><code>flux jobs</code>/<code>flux job info <i>job_id</i></code></td>\n",
    "    </tr>\n",
    "    <tr>\n",
    "        <td>Canceling running jobs</td>\n",
    "        <td><code>scancel</code></td>\n",
    "        <td><code>flux cancel</code></td>\n",
    "    </tr>\n",
    "    <tr>\n",
    "        <td>Allocation for an interactive instance</td>\n",
    "        <td><code>salloc</code></td>\n",
    "        <td><code>flux alloc</code></td>\n",
    "    </tr>\n",
    "    <tr>\n",
    "        <td>Submitting batch jobs</td>\n",
    "        <td><code>sbatch</code></td>\n",
    "        <td><code>flux batch</code></td>\n",
    "    </tr>\n",
    "</table>"
   ]
  },
  {
   "cell_type": "markdown",
   "id": "ac798095",
   "metadata": {},
   "source": [
    "## flux run\n",
    "\n",
    "<div class=\"alert alert-block\" style=\"background-color:skyblue\">\n",
    "<span style=\"font-weight:600\">Description:</span> Running a single job (blocking)\n",
    "</div>\n",
    "\n",
    "The `flux run` command submits a job to Flux (similar to `flux submit`) but then attaches to the job with `flux job attach`, printing the job's stdout/stderr to the terminal and exiting with the same exit code as the job. It's basically doing an interactive submit, because you will be able to watch the output in your terminal, and it will block your terminal until the job completes."
   ]
  },
  {
   "cell_type": "code",
   "execution_count": 7,
   "id": "52d26496-dd1f-44f7-bb10-8a9b4b8c9c80",
   "metadata": {
    "tags": []
   },
   "outputs": [
    {
     "name": "stdout",
     "output_type": "stream",
     "text": [
      "hello\n"
     ]
    }
   ],
   "source": [
    "!flux run sh -c 'sleep 5 && echo hello'"
   ]
  },
  {
   "cell_type": "markdown",
   "id": "53357a9d-11d8-4c2d-87d8-c30ae38d01ba",
   "metadata": {},
   "source": [
    "The output from the previous command is the hostname (a container ID string in this case). If the job exits with a non-zero exit code this will be reported by `flux job attach` (occurs implicitly with `flux run`). For example, execute the following:"
   ]
  },
  {
   "cell_type": "code",
   "execution_count": 8,
   "id": "fa40cb98-a138-4771-a7ef-f1860dddf7db",
   "metadata": {
    "tags": []
   },
   "outputs": [
    {
     "name": "stdout",
     "output_type": "stream",
     "text": [
      "flux-job: task(s) exited with exit code 1\n"
     ]
    }
   ],
   "source": [
    "!flux run /bin/false"
   ]
  },
  {
   "cell_type": "markdown",
   "id": "6b2b5c3f-e24a-45a8-a10c-e10bfdbb7b87",
   "metadata": {},
   "source": [
    "A job submitted with `run` can be canceled with two rapid `Cltr-C`s in succession, or a user can detach from the job with `Ctrl-C Ctrl-Z`. The user can then re-attach to the job by using `flux job attach JOBID`."
   ]
  },
  {
   "cell_type": "markdown",
   "id": "81e5213d",
   "metadata": {},
   "source": [
    "`flux submit` and `flux run` also support many other useful flags:"
   ]
  },
  {
   "cell_type": "code",
   "execution_count": 9,
   "id": "fbb269a7-5fe8-4f5d-8873-23e1d039d9df",
   "metadata": {},
   "outputs": [
    {
     "name": "stdout",
     "output_type": "stream",
     "text": [
      "a100cf62dc4f\n"
     ]
    }
   ],
   "source": [
    "!flux run -N1 -n1 -c1 hostname"
   ]
  },
  {
   "cell_type": "code",
   "execution_count": 10,
   "id": "02032748",
   "metadata": {
    "tags": []
   },
   "outputs": [
    {
     "name": "stdout",
     "output_type": "stream",
     "text": [
      "1: a100cf62dc4f\n",
      "0: a100cf62dc4f\n",
      "3: a100cf62dc4f\n",
      "2: a100cf62dc4f\n"
     ]
    }
   ],
   "source": [
    "!flux run -n4 --label-io --time-limit=5s --env-remove=LD_LIBRARY_PATH hostname"
   ]
  },
  {
   "cell_type": "code",
   "execution_count": 11,
   "id": "f52bb357-a7ce-458d-9c3f-4d664eca4fbd",
   "metadata": {
    "tags": []
   },
   "outputs": [],
   "source": [
    "# Uncomment and run this help command if you want to see all the flags for flux run\n",
    "# !flux run --help"
   ]
  },
  {
   "cell_type": "code",
   "execution_count": 12,
   "id": "81ad1996-f35c-472d-b7a3-99ec619ac6f1",
   "metadata": {},
   "outputs": [
    {
     "name": "stdout",
     "output_type": "stream",
     "text": [
      "mpicc -o hello hello.c\n"
     ]
    }
   ],
   "source": [
    "!flux run make"
   ]
  },
  {
   "cell_type": "code",
   "execution_count": 13,
   "id": "54d090ee-f9c5-4f63-9d69-46d7ea149cc1",
   "metadata": {},
   "outputs": [
    {
     "name": "stdout",
     "output_type": "stream",
     "text": [
      "0.081s: flux-shell: ERROR: error distributing 8 tasks over R\n",
      "0.083s: flux-shell: FATAL: failed to initialize shell info\n",
      "flux-job: task(s) exited with exit code 1\n"
     ]
    }
   ],
   "source": [
    "!flux run -N1 -n8 -c2 --exclusive ./hello"
   ]
  },
  {
   "cell_type": "markdown",
   "id": "7c09708a-74a1-4e61-b678-cb337b7df435",
   "metadata": {},
   "source": [
    "## flux submit\n",
    "\n",
    "<div class=\"alert alert-block\" style=\"background-color:skyblue\">\n",
    "<span style=\"font-weight:600\">Description:</span> Running a single job (not blocking)\n",
    "</div>\n",
    "\n",
    "\n",
    "The `flux submit` command submits a job to Flux and prints out the jobid."
   ]
  },
  {
   "cell_type": "code",
   "execution_count": 14,
   "id": "cc2bddee-f454-4674-80d4-4a39c5f1bee2",
   "metadata": {
    "tags": []
   },
   "outputs": [
    {
     "name": "stdout",
     "output_type": "stream",
     "text": [
      "usage: flux submit [OPTIONS...] COMMAND [ARGS...]\n",
      "\n",
      "enqueue a job\n",
      "\n",
      "positional arguments:\n",
      "  command                     Job command and arguments\n",
      "\n",
      "options:\n",
      "  -h, --help                  show this help message and exit\n",
      "  -B, --bank=BANK             Submit a job to a specific named bank\n",
      "  -q, --queue=NAME            Submit a job to a specific named queue\n",
      "  -t, --time-limit=MIN|FSD    Time limit in minutes when no units provided,\n",
      "                              otherwise in Flux standard duration, e.g. 30s,\n",
      "                              2d, 1.5h\n",
      "      --urgency=N             Set job urgency (0-31), hold=0, default=16,\n"
     ]
    }
   ],
   "source": [
    "# Let's peek at the help for flux submit!\n",
    "!flux submit --help | head -n 15"
   ]
  },
  {
   "cell_type": "code",
   "execution_count": 15,
   "id": "8a5e7d41-1d8d-426c-8198-0ad4a57e7d04",
   "metadata": {
    "tags": []
   },
   "outputs": [
    {
     "name": "stdout",
     "output_type": "stream",
     "text": [
      "ƒ3Z6mwRWPH\n"
     ]
    }
   ],
   "source": [
    "!flux submit hostname"
   ]
  },
  {
   "cell_type": "markdown",
   "id": "809292e5-3f24-4528-916f-8733d065de47",
   "metadata": {},
   "source": [
    "But how does one get output? To quickly see output (which will block the terminal if the job is still running) after a submit, you can do:\n",
    "\n",
    "```bash\n",
    "flux job attach $(flux job last)\n",
    "```\n",
    "\n",
    "To provide a custom path to an output or error file, you can provide `--out` and `--err`, respectively. Let's try those both now."
   ]
  },
  {
   "cell_type": "code",
   "execution_count": 16,
   "id": "38a4da7f-2b84-4c67-9da1-02435005d392",
   "metadata": {},
   "outputs": [
    {
     "name": "stdout",
     "output_type": "stream",
     "text": [
      "ƒ3Z6mwRWPH\n",
      "a100cf62dc4f\n"
     ]
    }
   ],
   "source": [
    "# What was the last job id again?\n",
    "! flux job last\n",
    "\n",
    "# Attach to the last job id that was submitted (will block if still running and stream output)\n",
    "! flux job attach $(flux job last)"
   ]
  },
  {
   "cell_type": "code",
   "execution_count": 17,
   "id": "89a851d3-0179-4e5e-9e20-93bc11b5056f",
   "metadata": {},
   "outputs": [
    {
     "name": "stdout",
     "output_type": "stream",
     "text": [
      "ƒ3Z7Moo6nB\n",
      "Yer a wizard, jovyan!\n"
     ]
    }
   ],
   "source": [
    "# Now let's submit another one, and give it the same output and error file\n",
    "! flux submit --out /tmp/harry-potter.txt --err /tmp/harry-potter.txt echo \"Yer a wizard, $(whoami)!\"\n",
    "\n",
    "# Take a look!\n",
    "! cat /tmp/harry-potter.txt"
   ]
  },
  {
   "cell_type": "markdown",
   "id": "a7e4c25e-3ca8-4277-bb70-a0e94bcd223b",
   "metadata": {},
   "source": [
    "`submit` supports common options like `--nnodes`, `--ntasks`, and `--cores-per-task`. There are short option equivalents (`-N`, `-n`, and `-c`, respectively) of these options as well. `--cores-per-task=1` is the default."
   ]
  },
  {
   "cell_type": "code",
   "execution_count": 18,
   "id": "571d8c3d-b24a-415e-b9ac-f58b99a7e92c",
   "metadata": {},
   "outputs": [
    {
     "name": "stdout",
     "output_type": "stream",
     "text": [
      "ƒ3Z7jwgNpo\n"
     ]
    }
   ],
   "source": [
    "!flux submit -N1 -n2 sleep inf"
   ]
  },
  {
   "cell_type": "markdown",
   "id": "91e9ed6c",
   "metadata": {},
   "source": [
    "## flux bulksubmit\n",
    "\n",
    "<div class=\"alert alert-block\" style=\"background-color:skyblue\">\n",
    "<span style=\"font-weight:600\">Description:</span> Submitting jobs in bulk (not blocking)\n",
    "</div>\n",
    "\n",
    "The `flux bulksubmit` command enqueues jobs based on a set of inputs which are substituted on the command line, similar to `xargs` and the GNU `parallel` utility, except the jobs have access to the resources of an entire Flux instance instead of only the local system."
   ]
  },
  {
   "cell_type": "code",
   "execution_count": 19,
   "id": "f0e82702",
   "metadata": {},
   "outputs": [
    {
     "name": "stdout",
     "output_type": "stream",
     "text": [
      "ƒ3Z7z2ZZ6o\n",
      "ƒ3Z7z2ZZ6p\n",
      "ƒ3Z7z2ZZ6q\n"
     ]
    }
   ],
   "source": [
    "!flux bulksubmit --wait echo {} ::: harry ron hermione"
   ]
  },
  {
   "cell_type": "markdown",
   "id": "60ba88b4-538d-4eb6-baf9-735581b4d717",
   "metadata": {},
   "source": [
    "### carbon copy\n",
    "\n",
    "The `--cc` option (akin to \"carbon copy\") to `submit` makes repeated submission even easier via, `flux submit --cc=IDSET`:"
   ]
  },
  {
   "cell_type": "code",
   "execution_count": 20,
   "id": "0ea1962b-1831-4bd2-8dab-c61fd710df9c",
   "metadata": {},
   "outputs": [
    {
     "name": "stdout",
     "output_type": "stream",
     "text": [
      "ƒ3Z8KqXxW3\n",
      "ƒ3Z8KqXxW4\n",
      "ƒ3Z8KqXxW5\n",
      "ƒ3Z8Ks1wnP\n",
      "4\n",
      "1\n",
      "3\n",
      "2\n"
     ]
    }
   ],
   "source": [
    "!flux submit --watch --cc=1-4 echo {cc}"
   ]
  },
  {
   "cell_type": "markdown",
   "id": "27ca3706-8bb4-4fd6-a37c-e6135fb05604",
   "metadata": {},
   "source": [
    "Try it in the <button data-commandLinker-command=\"terminal:open\" data-name=\"flux\" href=\"#\">JupyterLab terminal</button> with a progress bar and jobs/s rate report: `flux submit --cc=1-100 --watch --progress --jps hostname`\n",
    "\n",
    "Note that `--wait` is implied by `--watch`, meaning that when you are watching jobs, you are also waiting for them to finish. Here are some other carbon copy commands that are useful to try:"
   ]
  },
  {
   "cell_type": "code",
   "execution_count": 21,
   "id": "8e93d8e3-9342-4edd-b262-757355ddfe9d",
   "metadata": {},
   "outputs": [
    {
     "name": "stdout",
     "output_type": "stream",
     "text": [
      "ƒ3Z8fEnZPm\n",
      "ƒ3Z8fGGYg7\n"
     ]
    }
   ],
   "source": [
    "# Use flux carbon copy to submit identical jobs with different inputs\n",
    "!flux submit --cc=\"1-2\" echo \"Hello I am job {cc}\""
   ]
  },
  {
   "cell_type": "markdown",
   "id": "4c5a18ff-8d6a-47e9-a164-931ed1275ef4",
   "metadata": {},
   "source": [
    "Here are some \"carbon copy\" jobs to try in the <button data-commandLinker-command=\"terminal:open\" data-name=\"flux\" href=\"#\">JupyterLab terminal</button>:\n",
    "\n",
    "```bash\n",
    "# Use flux carbon copy to submit identical jobs with different inputs\n",
    "flux submit --cc=\"1-10\" echo \"Hello I am job {cc}\"\n",
    "\n",
    "# Submits scripts myscript1.sh through myscript10.sh\n",
    "flux submit --cc=0-6 flux-workflow-examples/bulksubmit/{cc}.sh\n",
    "\n",
    "# Bypass the key value store and write output to file with jobid\n",
    "flux submit --cc=1-10 --output=job-{{id}}.out echo \"This is job {cc}\"\n",
    "\n",
    "# Use carbon copy to submit identical jobs with different inputs\n",
    "flux bulksubmit --dry-run --cc={1} echo {0} ::: a b c ::: 0-1 0-3 0-7\n",
    "```\n",
    "\n",
    "Of course, Flux can launch more than just single-node, single-core jobs.  We can submit multiple heterogeneous jobs and Flux will co-schedule the jobs while also ensuring no oversubscription of resources (e.g., cores). Let's run the second example here, and add a clever trick to ask for output as we submit the jobs. This is a fun one, I promise!"
   ]
  },
  {
   "cell_type": "code",
   "execution_count": 22,
   "id": "2f089be5-6d32-40db-b9e9-328e5200b754",
   "metadata": {},
   "outputs": [
    {
     "name": "stdout",
     "output_type": "stream",
     "text": [
      "Enter, stranger, but take heed\n",
      "Of what awaits the sin of greed,\n",
      "For those who take, but do not earn,\n",
      "Must pay most dearly in their turn,\n",
      "So if you seek beneath our floors\n",
      "A treasure that was never yours,\n",
      "Thief, you have been warned, beware\n",
      "Of finding more than treasure there.\n"
     ]
    }
   ],
   "source": [
    "! for jobid in $(flux submit --cc=0-7 /bin/bash bulksubmit/{cc}.sh); do flux job attach ${jobid}; sleep 1; done"
   ]
  },
  {
   "cell_type": "markdown",
   "id": "6d3623b2-ca25-4d42-8e43-0c8e038464b4",
   "metadata": {},
   "source": [
    "Note: in this tutorial, we cannot assume that the host you are running on has multiple cores, thus the examples below only vary the number of nodes per job.  Varying the `cores-per-task` is also possible on Flux when the underlying hardware supports it (e.g., a multi-core node). Let's run the middle example - it's a fun one, I promise!"
   ]
  },
  {
   "cell_type": "code",
   "execution_count": 23,
   "id": "brazilian-former",
   "metadata": {},
   "outputs": [
    {
     "name": "stdout",
     "output_type": "stream",
     "text": [
      "ƒ3ZDdkGo9q\n",
      "ƒ3ZDshk327\n"
     ]
    }
   ],
   "source": [
    "!flux submit --nodes=2 --ntasks=2 --cores-per-task=1 --job-name magic sleep inf\n",
    "!flux submit --nodes=1 --ntasks=1 --cores-per-task=1 --job-name moremagic sleep inf"
   ]
  },
  {
   "cell_type": "markdown",
   "id": "641f446c-b2e8-40d8-b6bd-eb6b9dba3c71",
   "metadata": {},
   "source": [
    "## flux watch\n",
    "\n",
    "<div class=\"alert alert-block\" style=\"background-color:skyblue\">\n",
    "<span style=\"font-weight:600\">Description:</span> 👀️ Watching jobs\n",
    "</div>\n",
    "\n",
    "Wouldn't it be cool to submit a job and then watch it? Well, yeah! We can do this now with flux watch. Let's run a fun example, and then watch the output. We have sleeps in here interspersed with echos only to show you the live action! 🥞️\n",
    "Also note a nice trick - you can always use `flux job last` to get the last JOBID.\n",
    "Here is an example (not runnable, as notebooks don't support environment variables) for getting and saving a job id:\n",
    "\n",
    "```bash\n",
    "flux submit hostname\n",
    "JOBID=$(flux job last)\n",
    "```\n",
    "\n",
    "And then you could use the variable `$JOBID` in your subsequent script or interactions with Flux! So what makes `flux watch` different from `flux job attach`? Aside from the fact that `flux watch` is read-only, `flux watch` can watch many (or even all (`flux watch --all`) jobs at once!"
   ]
  },
  {
   "cell_type": "code",
   "execution_count": 24,
   "id": "5ad231c2-4cdb-4d18-afc2-7cb3a74759c2",
   "metadata": {},
   "outputs": [
    {
     "name": "stdout",
     "output_type": "stream",
     "text": [
      "ƒ3ZE7s5B99\n",
      "Oh you may not think me pretty,\n",
      "But don’t judge on what you see,\n",
      "I’ll eat myself if you can find\n",
      "A smarter hat than me.\n",
      "[A scheduler smarter than me]!\n"
     ]
    }
   ],
   "source": [
    "!flux submit ./job-watch.sh\n",
    "!flux watch $(flux job last)"
   ]
  },
  {
   "cell_type": "markdown",
   "id": "3f8c2af2",
   "metadata": {},
   "source": [
    "## flux jobs\n",
    "\n",
    "<div class=\"alert alert-block\" style=\"background-color:skyblue\">\n",
    "<span style=\"font-weight:600\">Description:</span> Querying the status of jobs\n",
    "</div>\n",
    "\n",
    "We can now list the jobs in the queue with `flux jobs` and we should see both jobs that we just submitted. Jobs that are instances are colored blue in output, red jobs are failed jobs, and green jobs are those that completed successfully. Note that the JupyterLab notebook may not display these colors. You will be able to see them in the terminal."
   ]
  },
  {
   "cell_type": "code",
   "execution_count": 25,
   "id": "institutional-vocabulary",
   "metadata": {},
   "outputs": [
    {
     "name": "stdout",
     "output_type": "stream",
     "text": [
      "ƒ3ZJzX4FNF\n",
      "       JOBID USER     NAME       ST NTASKS NNODES     TIME INFO\n",
      "  ƒ3ZJzX4FNF jovyan   sleep       R      1      1   0.507s a100cf62dc4f\n",
      "  ƒ3ZDshk327 jovyan   moremagic   R      1      1   12.13s a100cf62dc4f\n",
      "  ƒ3ZDdkGo9q jovyan   magic       R      2      2   12.66s a100cf62dc4f,a100cf62dc4f\n",
      "  ƒ3Z7jwgNpo jovyan   sleep       R      2      1   26.04s a100cf62dc4f\n"
     ]
    }
   ],
   "source": [
    "!flux submit sleep inf\n",
    "!flux jobs"
   ]
  },
  {
   "cell_type": "markdown",
   "id": "f7228e0e-557c-455c-9903-073ef40a56a5",
   "metadata": {},
   "source": [
    "You might also want to see \"all\" jobs with `-a`."
   ]
  },
  {
   "cell_type": "code",
   "execution_count": 26,
   "id": "70dd1459-e21f-46b5-84a4-bd165cf97f4b",
   "metadata": {
    "scrolled": true
   },
   "outputs": [
    {
     "name": "stdout",
     "output_type": "stream",
     "text": [
      "       JOBID USER     NAME       ST NTASKS NNODES     TIME INFO\n",
      "  ƒ3ZJzX4FNF jovyan   sleep       R      1      1   1.026s a100cf62dc4f\n",
      "  ƒ3ZDshk327 jovyan   moremagic   R      1      1   12.64s a100cf62dc4f\n",
      "  ƒ3ZDdkGo9q jovyan   magic       R      2      2   13.18s a100cf62dc4f,a100cf62dc4f\n",
      "  ƒ3Z7jwgNpo jovyan   sleep       R      2      1   26.56s a100cf62dc4f\n"
     ]
    }
   ],
   "source": [
    "!flux jobs"
   ]
  },
  {
   "cell_type": "markdown",
   "id": "77ca4277",
   "metadata": {},
   "source": [
    "## flux cancel\n",
    "\n",
    "<div class=\"alert alert-block\" style=\"background-color:skyblue\">\n",
    "<span style=\"font-weight:600\">Description:</span> Canceling running jobs\n",
    "</div>\n",
    "\n",
    "Since some of the jobs we see in the table above won't ever exit (and we didn't specify a timelimit), let's cancel them all now and free up the resources."
   ]
  },
  {
   "cell_type": "code",
   "execution_count": 27,
   "id": "46dd8ec8-6c64-4d8d-9a00-949f5f58c07b",
   "metadata": {},
   "outputs": [
    {
     "name": "stdout",
     "output_type": "stream",
     "text": [
      "flux-cancel: Canceled 4 jobs (0 errors)\n",
      "       JOBID USER     NAME       ST NTASKS NNODES     TIME INFO\n"
     ]
    }
   ],
   "source": [
    "# This was previously flux cancelall -f\n",
    "!flux cancel --all\n",
    "!flux jobs"
   ]
  },
  {
   "cell_type": "markdown",
   "id": "2d3e314e-98eb-487a-ad8e-1442840e37d8",
   "metadata": {},
   "source": [
    "## flux alloc\n",
    "\n",
    "<div class=\"alert alert-block\" style=\"background-color:skyblue\">\n",
    "<span style=\"font-weight:600\">Description:</span> Allocation for an interactive instance\n",
    "</div>\n",
    "\n",
    "You might want to request an allocation for a set of resources (an allocation) and then attach to them interactively. This is the goal of flux alloc. Since we can't easily do that in a cell, try opening up the <button data-commandLinker-command=\"terminal:open\" data-name=\"flux\" href=\"#\">JupyterLab terminal</button> and doing: \n",
    "\n",
    "```bash\n",
    "# Look at the resources you have outside of the allocation\n",
    "flux resource list\n",
    "\n",
    "# Request an allocation with 2 \"nodes\" - a subset of what you have in total\n",
    "flux alloc -N 2\n",
    "\n",
    "# See the resources you are given\n",
    "flux resource list\n",
    "\n",
    "# You can exit from the allocation like this!\n",
    "exit\n",
    "```\n",
    "When you want to automate this, submitting work to an allocation, you would use `flux batch`."
   ]
  },
  {
   "cell_type": "markdown",
   "id": "544aa0a9",
   "metadata": {},
   "source": [
    "## flux batch\n",
    "\n",
    "<div class=\"alert alert-block\" style=\"background-color:skyblue\">\n",
    "<span style=\"font-weight:600\">Description:</span> Submitting batch jobs\n",
    "</div>\n",
    "\n",
    "We can use the `flux batch` command to easily created nested flux instances.  When `flux batch` is invoked, Flux will automatically create a nested instance that spans the resources allocated to the job, and then Flux runs the batch script passed to `flux batch` on rank 0 of the nested instance. \"Rank\" refers to the rank of the Tree-Based Overlay Network (TBON) used by the [Flux brokers](https://flux-framework.readthedocs.io/projects/flux-core/en/latest/man1/flux-broker.html).\n",
    "\n",
    "While a batch script is expected to launch parallel jobs using `flux run` or `flux submit` at this level, nothing prevents the script from further batching other sub-batch-jobs using the `flux batch` interface, if desired."
   ]
  },
  {
   "cell_type": "code",
   "execution_count": 28,
   "id": "blank-carpet",
   "metadata": {
    "jupyter": {
     "source_hidden": true
    }
   },
   "outputs": [
    {
     "name": "stdout",
     "output_type": "stream",
     "text": [
      "ƒ3ZL9YHnGP\n",
      "ƒ3ZLQDGg2K\n"
     ]
    }
   ],
   "source": [
    "!flux batch --nslots=2 --cores-per-slot=1 --nodes=2 ./sleep_batch.sh\n",
    "!flux batch --nslots=2 --cores-per-slot=1 --nodes=2 ./sleep_batch.sh"
   ]
  },
  {
   "cell_type": "markdown",
   "id": "da98bfa1",
   "metadata": {},
   "source": [
    "Take a quick look at [sleep_batch.sh](sleep_batch.sh) to see what we are about to run."
   ]
  },
  {
   "cell_type": "code",
   "execution_count": 29,
   "id": "edff8993-3c39-4f46-939d-4c8be5739fbc",
   "metadata": {},
   "outputs": [
    {
     "name": "stdout",
     "output_type": "stream",
     "text": [
      "ƒ3ZLfDXQSj\n",
      "       JOBID USER     NAME       ST NTASKS NNODES     TIME INFO\n",
      "\u001b[01;34m  ƒ3ZLQDGg2K jovyan   ./sleep_b+  R      2      2   1.138s a100cf62dc4f,a100cf62dc4f\n",
      "\u001b[0;0m\u001b[01;34m  ƒ3ZL9YHnGP jovyan   ./sleep_b+  R      2      2   1.710s a100cf62dc4f,a100cf62dc4f\n",
      "\u001b[0;0m"
     ]
    }
   ],
   "source": [
    "# Here we are submitting a job that generates output, and asking to write it to /tmp/cheese.txt\n",
    "!flux submit --out /tmp/mad-eye.txt echo \"CONSTANT VIGILANCE!\"\n",
    "\n",
    "# This will show us JOBIDs\n",
    "!flux jobs"
   ]
  },
  {
   "cell_type": "markdown",
   "id": "7f2b135c-ece7-45f7-b25d-dc90ba5f44f7",
   "metadata": {},
   "source": [
    "### `flux job`\n",
    "\n",
    "Let's next inspect the last job we ran with `flux job info` and target the last job identifier with `flux job last`. "
   ]
  },
  {
   "cell_type": "code",
   "execution_count": 30,
   "id": "429eb39d-d19c-4170-9707-ca8c3b2bfe87",
   "metadata": {},
   "outputs": [
    {
     "name": "stdout",
     "output_type": "stream",
     "text": [
      "{\"version\": 1, \"execution\": {\"R_lite\": [{\"rank\": \"0\", \"children\": {\"core\": \"1\"}}], \"starttime\": 1747878622.6577082, \"expiration\": 0.0, \"nodelist\": [\"a100cf62dc4f\"]}}\n",
      "0: stdout redirected to /tmp/mad-eye.txt\n",
      "0: stderr redirected to /tmp/mad-eye.txt\n"
     ]
    },
    {
     "data": {
      "text/html": [
       "<style>pre { line-height: 125%; }\n",
       "td.linenos .normal { color: inherit; background-color: transparent; padding-left: 5px; padding-right: 5px; }\n",
       "span.linenos { color: inherit; background-color: transparent; padding-left: 5px; padding-right: 5px; }\n",
       "td.linenos .special { color: #000000; background-color: #ffffc0; padding-left: 5px; padding-right: 5px; }\n",
       "span.linenos.special { color: #000000; background-color: #ffffc0; padding-left: 5px; padding-right: 5px; }\n",
       ".output_html .hll { background-color: #ffffcc }\n",
       ".output_html { background: #f8f8f8; }\n",
       ".output_html .c { color: #3D7B7B; font-style: italic } /* Comment */\n",
       ".output_html .err { border: 1px solid #FF0000 } /* Error */\n",
       ".output_html .k { color: #008000; font-weight: bold } /* Keyword */\n",
       ".output_html .o { color: #666666 } /* Operator */\n",
       ".output_html .ch { color: #3D7B7B; font-style: italic } /* Comment.Hashbang */\n",
       ".output_html .cm { color: #3D7B7B; font-style: italic } /* Comment.Multiline */\n",
       ".output_html .cp { color: #9C6500 } /* Comment.Preproc */\n",
       ".output_html .cpf { color: #3D7B7B; font-style: italic } /* Comment.PreprocFile */\n",
       ".output_html .c1 { color: #3D7B7B; font-style: italic } /* Comment.Single */\n",
       ".output_html .cs { color: #3D7B7B; font-style: italic } /* Comment.Special */\n",
       ".output_html .gd { color: #A00000 } /* Generic.Deleted */\n",
       ".output_html .ge { font-style: italic } /* Generic.Emph */\n",
       ".output_html .ges { font-weight: bold; font-style: italic } /* Generic.EmphStrong */\n",
       ".output_html .gr { color: #E40000 } /* Generic.Error */\n",
       ".output_html .gh { color: #000080; font-weight: bold } /* Generic.Heading */\n",
       ".output_html .gi { color: #008400 } /* Generic.Inserted */\n",
       ".output_html .go { color: #717171 } /* Generic.Output */\n",
       ".output_html .gp { color: #000080; font-weight: bold } /* Generic.Prompt */\n",
       ".output_html .gs { font-weight: bold } /* Generic.Strong */\n",
       ".output_html .gu { color: #800080; font-weight: bold } /* Generic.Subheading */\n",
       ".output_html .gt { color: #0044DD } /* Generic.Traceback */\n",
       ".output_html .kc { color: #008000; font-weight: bold } /* Keyword.Constant */\n",
       ".output_html .kd { color: #008000; font-weight: bold } /* Keyword.Declaration */\n",
       ".output_html .kn { color: #008000; font-weight: bold } /* Keyword.Namespace */\n",
       ".output_html .kp { color: #008000 } /* Keyword.Pseudo */\n",
       ".output_html .kr { color: #008000; font-weight: bold } /* Keyword.Reserved */\n",
       ".output_html .kt { color: #B00040 } /* Keyword.Type */\n",
       ".output_html .m { color: #666666 } /* Literal.Number */\n",
       ".output_html .s { color: #BA2121 } /* Literal.String */\n",
       ".output_html .na { color: #687822 } /* Name.Attribute */\n",
       ".output_html .nb { color: #008000 } /* Name.Builtin */\n",
       ".output_html .nc { color: #0000FF; font-weight: bold } /* Name.Class */\n",
       ".output_html .no { color: #880000 } /* Name.Constant */\n",
       ".output_html .nd { color: #AA22FF } /* Name.Decorator */\n",
       ".output_html .ni { color: #717171; font-weight: bold } /* Name.Entity */\n",
       ".output_html .ne { color: #CB3F38; font-weight: bold } /* Name.Exception */\n",
       ".output_html .nf { color: #0000FF } /* Name.Function */\n",
       ".output_html .nl { color: #767600 } /* Name.Label */\n",
       ".output_html .nn { color: #0000FF; font-weight: bold } /* Name.Namespace */\n",
       ".output_html .nt { color: #008000; font-weight: bold } /* Name.Tag */\n",
       ".output_html .nv { color: #19177C } /* Name.Variable */\n",
       ".output_html .ow { color: #AA22FF; font-weight: bold } /* Operator.Word */\n",
       ".output_html .w { color: #bbbbbb } /* Text.Whitespace */\n",
       ".output_html .mb { color: #666666 } /* Literal.Number.Bin */\n",
       ".output_html .mf { color: #666666 } /* Literal.Number.Float */\n",
       ".output_html .mh { color: #666666 } /* Literal.Number.Hex */\n",
       ".output_html .mi { color: #666666 } /* Literal.Number.Integer */\n",
       ".output_html .mo { color: #666666 } /* Literal.Number.Oct */\n",
       ".output_html .sa { color: #BA2121 } /* Literal.String.Affix */\n",
       ".output_html .sb { color: #BA2121 } /* Literal.String.Backtick */\n",
       ".output_html .sc { color: #BA2121 } /* Literal.String.Char */\n",
       ".output_html .dl { color: #BA2121 } /* Literal.String.Delimiter */\n",
       ".output_html .sd { color: #BA2121; font-style: italic } /* Literal.String.Doc */\n",
       ".output_html .s2 { color: #BA2121 } /* Literal.String.Double */\n",
       ".output_html .se { color: #AA5D1F; font-weight: bold } /* Literal.String.Escape */\n",
       ".output_html .sh { color: #BA2121 } /* Literal.String.Heredoc */\n",
       ".output_html .si { color: #A45A77; font-weight: bold } /* Literal.String.Interpol */\n",
       ".output_html .sx { color: #008000 } /* Literal.String.Other */\n",
       ".output_html .sr { color: #A45A77 } /* Literal.String.Regex */\n",
       ".output_html .s1 { color: #BA2121 } /* Literal.String.Single */\n",
       ".output_html .ss { color: #19177C } /* Literal.String.Symbol */\n",
       ".output_html .bp { color: #008000 } /* Name.Builtin.Pseudo */\n",
       ".output_html .fm { color: #0000FF } /* Name.Function.Magic */\n",
       ".output_html .vc { color: #19177C } /* Name.Variable.Class */\n",
       ".output_html .vg { color: #19177C } /* Name.Variable.Global */\n",
       ".output_html .vi { color: #19177C } /* Name.Variable.Instance */\n",
       ".output_html .vm { color: #19177C } /* Name.Variable.Magic */\n",
       ".output_html .il { color: #666666 } /* Literal.Number.Integer.Long */</style><div class=\"highlight\"><pre><span></span>CONSTANT VIGILANCE!\n",
       "</pre></div>\n"
      ],
      "text/latex": [
       "\\begin{Verbatim}[commandchars=\\\\\\{\\}]\n",
       "CONSTANT VIGILANCE!\n",
       "\\end{Verbatim}\n"
      ],
      "text/plain": [
       "CONSTANT VIGILANCE!"
      ]
     },
     "execution_count": 30,
     "metadata": {},
     "output_type": "execute_result"
    }
   ],
   "source": [
    "# Note here we are using flux job last to see the last job id\n",
    "# The \"R\" here asks for the resource spec\n",
    "!flux job info $(flux job last) R\n",
    "\n",
    "# When we attach it will direct us to our output file\n",
    "!flux job attach $(flux job last)\n",
    "\n",
    "# And we can look at the output file to see our expected output!\n",
    "from IPython.display import Code\n",
    "Code(filename='/tmp/mad-eye.txt', language='text')"
   ]
  },
  {
   "cell_type": "markdown",
   "id": "f4e525e2-6c89-4c14-9fae-d87a0d4fc574",
   "metadata": {},
   "source": [
    "We can again see a list all completed jobs with `flux jobs -a`:"
   ]
  },
  {
   "cell_type": "code",
   "execution_count": 31,
   "id": "df8a8b7c-f475-4a51-8bc6-9983dc9d78ab",
   "metadata": {
    "jupyter": {
     "source_hidden": true
    },
    "scrolled": true
   },
   "outputs": [
    {
     "name": "stdout",
     "output_type": "stream",
     "text": [
      "       JOBID USER     NAME       ST NTASKS NNODES     TIME INFO\n",
      "\u001b[01;34m  ƒ3ZLQDGg2K jovyan   ./sleep_b+  R      2      2   2.654s a100cf62dc4f,a100cf62dc4f\n",
      "\u001b[0;0m\u001b[01;34m  ƒ3ZL9YHnGP jovyan   ./sleep_b+  R      2      2   3.227s a100cf62dc4f,a100cf62dc4f\n",
      "\u001b[0;0m\u001b[01;32m  ƒ3ZLfDXQSj jovyan   echo       CD      1      1   0.141s a100cf62dc4f\n",
      "\u001b[0;0m\u001b[37m  ƒ3ZDdkGo9q jovyan   magic      CA      2      2   13.69s a100cf62dc4f,a100cf62dc4f\n",
      "\u001b[0;0m\u001b[37m  ƒ3ZDshk327 jovyan   moremagic  CA      1      1   13.15s a100cf62dc4f\n",
      "\u001b[0;0m\u001b[37m  ƒ3Z7jwgNpo jovyan   sleep      CA      2      1   27.07s a100cf62dc4f\n",
      "\u001b[0;0m\u001b[37m  ƒ3ZJzX4FNF jovyan   sleep      CA      1      1   1.535s a100cf62dc4f\n",
      "\u001b[0;0m\u001b[01;32m  ƒ3ZE7s5B99 jovyan   job-watch+ CD      1      1   10.28s a100cf62dc4f\n",
      "\u001b[0;0m\u001b[01;32m  ƒ3Z8uKfjfn jovyan   bash       CD      1      1   1.312s a100cf62dc4f\n",
      "\u001b[0;0m\u001b[01;32m  ƒ3Z8uNdiET jovyan   bash       CD      1      1   1.311s a100cf62dc4f\n",
      "\u001b[0;0m\u001b[01;32m  ƒ3Z8uM9ix7 jovyan   bash       CD      1      1   1.308s a100cf62dc4f\n",
      "\u001b[0;0m\u001b[01;32m  ƒ3Z8uM9ix8 jovyan   bash       CD      1      1   1.307s a100cf62dc4f\n",
      "\u001b[0;0m\u001b[01;32m  ƒ3Z8uKfjfm jovyan   bash       CD      1      1   1.304s a100cf62dc4f\n",
      "\u001b[0;0m\u001b[01;32m  ƒ3Z8uM9ix9 jovyan   bash       CD      1      1   1.296s a100cf62dc4f\n",
      "\u001b[0;0m\u001b[01;32m  ƒ3Z8uNdiEV jovyan   bash       CD      1      1   1.277s a100cf62dc4f\n",
      "\u001b[0;0m\u001b[01;32m  ƒ3Z8uNdiEU jovyan   bash       CD      1      1   1.275s a100cf62dc4f\n",
      "\u001b[0;0m\u001b[01;32m  ƒ3Z8fGGYg7 jovyan   echo       CD      1      1   0.164s a100cf62dc4f\n",
      "\u001b[0;0m\u001b[01;32m  ƒ3Z8fEnZPm jovyan   echo       CD      1      1   0.162s a100cf62dc4f\n",
      "\u001b[0;0m\u001b[01;32m  ƒ3Z8KqXxW4 jovyan   echo       CD      1      1   0.194s a100cf62dc4f\n",
      "\u001b[0;0m\u001b[01;32m  ƒ3Z8KqXxW5 jovyan   echo       CD      1      1   0.191s a100cf62dc4f\n",
      "\u001b[0;0m\u001b[01;32m  ƒ3Z8KqXxW3 jovyan   echo       CD      1      1   0.189s a100cf62dc4f\n",
      "\u001b[0;0m\u001b[01;32m  ƒ3Z8Ks1wnP jovyan   echo       CD      1      1   0.132s a100cf62dc4f\n",
      "\u001b[0;0m\u001b[01;32m  ƒ3Z7z2ZZ6o jovyan   echo       CD      1      1   0.201s a100cf62dc4f\n",
      "\u001b[0;0m\u001b[01;32m  ƒ3Z7z2ZZ6q jovyan   echo       CD      1      1   0.197s a100cf62dc4f\n",
      "\u001b[0;0m\u001b[01;32m  ƒ3Z7z2ZZ6p jovyan   echo       CD      1      1   0.195s a100cf62dc4f\n",
      "\u001b[0;0m\u001b[01;32m  ƒ3Z7Moo6nB jovyan   echo       CD      1      1   0.128s a100cf62dc4f\n",
      "\u001b[0;0m\u001b[01;32m  ƒ3Z6mwRWPH jovyan   hostname   CD      1      1   0.123s a100cf62dc4f\n",
      "\u001b[0;0m\u001b[01;31m  ƒ3Z6H49Vwd jovyan   hello       F      8      1   0.056s a100cf62dc4f\n",
      "\u001b[0;0m\u001b[01;32m  ƒ3Z5kpJ9Zh jovyan   make       CD      1      1   0.629s a100cf62dc4f\n",
      "\u001b[0;0m\u001b[01;32m  ƒ3Z5SsYqjd jovyan   hostname   CD      4      1   0.136s a100cf62dc4f\n",
      "\u001b[0;0m\u001b[01;32m  ƒ3Z59G5Na3 jovyan   hostname   CD      1      1   0.119s a100cf62dc4f\n",
      "\u001b[0;0m\u001b[01;31m  ƒ3Z4qpypNs jovyan   false       F      1      1   0.123s a100cf62dc4f\n",
      "\u001b[0;0m\u001b[01;32m  ƒ3Z2Cfa1nf jovyan   sh         CD      1      1   5.153s a100cf62dc4f\n",
      "\u001b[0;0m\u001b[01;32m  ƒ3Y4SAJutB jovyan   sleep      CD      1      1   15.13s a100cf62dc4f\n",
      "\u001b[0;0m\u001b[01;32m  ƒ3Y8ohg68X jovyan   echo       CD      1      1   0.191s a100cf62dc4f\n",
      "\u001b[0;0m\u001b[01;32m  ƒ3Y8ogC6rB jovyan   echo       CD      1      1   0.188s a100cf62dc4f\n",
      "\u001b[0;0m\u001b[01;32m  ƒ3Y8ohg68Y jovyan   echo       CD      1      1   0.185s a100cf62dc4f\n",
      "\u001b[0;0m\u001b[01;32m  ƒ3Y8ohg68a jovyan   echo       CD      1      1   0.172s a100cf62dc4f\n",
      "\u001b[0;0m\u001b[01;32m  ƒ3Y8ohg68Z jovyan   echo       CD      1      1   0.169s a100cf62dc4f\n",
      "\u001b[0;0m\u001b[01;32m  ƒ3Y8gR9cpF jovyan   echo       CD      4      1   0.151s a100cf62dc4f\n",
      "\u001b[0;0m\u001b[01;32m  ƒ3Y8cMRb1R jovyan   echo       CD      1      1   0.120s a100cf62dc4f\n",
      "\u001b[0;0m\u001b[01;32m  ƒ3Y8Y5qewq jovyan   echo       CD      1      1   0.125s a100cf62dc4f\n",
      "\u001b[0;0m\u001b[01;32m  ƒ3Y8MKgsJg jovyan   true       CD      1      1   0.191s a100cf62dc4f\n",
      "\u001b[0;0m\u001b[01;32m  ƒ3Y8MKgsJh jovyan   true       CD      1      1   0.187s a100cf62dc4f\n",
      "\u001b[0;0m\u001b[01;32m  ƒ3Y8MKgsJf jovyan   true       CD      1      1   0.185s a100cf62dc4f\n",
      "\u001b[0;0m\u001b[01;32m  ƒ3Y8MMArb2 jovyan   true       CD      1      1   0.164s a100cf62dc4f\n",
      "\u001b[0;0m\u001b[01;32m  ƒ3Y8MMArb1 jovyan   true       CD      1      1   0.157s a100cf62dc4f\n",
      "\u001b[0;0m\u001b[01;32m  ƒ3Y6iK4tqH jovyan   sleep      CD      1      1   0.557s a100cf62dc4f\n",
      "\u001b[0;0m\u001b[01;32m  ƒ3Y6iK4tq8 jovyan   sleep      CD      1      1   0.576s a100cf62dc4f\n",
      "\u001b[0;0m\u001b[01;32m  ƒ3Y6iK4tqL jovyan   sleep      CD      1      1   0.539s a100cf62dc4f\n",
      "\u001b[0;0m\u001b[01;32m  ƒ3Y6iK4tqJ jovyan   sleep      CD      1      1   0.537s a100cf62dc4f\n",
      "\u001b[0;0m\u001b[01;32m  ƒ3Y6iK4tqK jovyan   sleep      CD      1      1   0.524s a100cf62dc4f\n",
      "\u001b[0;0m\u001b[01;32m  ƒ3Y6iK4tqD jovyan   sleep      CD      1      1   0.538s a100cf62dc4f\n",
      "\u001b[0;0m\u001b[01;32m  ƒ3Y6iK4tqN jovyan   sleep      CD      1      1   0.424s a100cf62dc4f\n",
      "\u001b[0;0m\u001b[01;32m  ƒ3Y6iK4tqA jovyan   sleep      CD      1      1   0.540s a100cf62dc4f\n",
      "\u001b[0;0m\u001b[01;32m  ƒ3Y6iK4tqF jovyan   sleep      CD      1      1   0.510s a100cf62dc4f\n",
      "\u001b[0;0m\u001b[01;32m  ƒ3Y6iK4tqG jovyan   sleep      CD      1      1   0.499s a100cf62dc4f\n",
      "\u001b[0;0m\u001b[01;32m  ƒ3Y6iK4tpz jovyan   sleep      CD      1      1   0.598s a100cf62dc4f\n",
      "\u001b[0;0m\u001b[01;32m  ƒ3Y6iK4tq2 jovyan   sleep      CD      1      1   0.593s a100cf62dc4f\n",
      "\u001b[0;0m\u001b[01;32m  ƒ3Y6iK4tq4 jovyan   sleep      CD      1      1   0.541s a100cf62dc4f\n",
      "\u001b[0;0m\u001b[01;32m  ƒ3Y6iK4tqC jovyan   sleep      CD      1      1   0.509s a100cf62dc4f\n",
      "\u001b[0;0m\u001b[01;32m  ƒ3Y6iK4tqM jovyan   sleep      CD      1      1   0.411s a100cf62dc4f\n",
      "\u001b[0;0m\u001b[01;32m  ƒ3Y6iK4tq5 jovyan   sleep      CD      1      1   0.530s a100cf62dc4f\n",
      "\u001b[0;0m\u001b[01;32m  ƒ3Y6iK4tq7 jovyan   sleep      CD      1      1   0.502s a100cf62dc4f\n",
      "\u001b[0;0m\u001b[01;32m  ƒ3Y6iK4tq3 jovyan   sleep      CD      1      1   0.541s a100cf62dc4f\n",
      "\u001b[0;0m\u001b[01;32m  ƒ3Y6iK4tqE jovyan   sleep      CD      1      1   0.445s a100cf62dc4f\n",
      "\u001b[0;0m\u001b[01;32m  ƒ3Y6iK4tq6 jovyan   sleep      CD      1      1   0.483s a100cf62dc4f\n",
      "\u001b[0;0m\u001b[01;32m  ƒ3Y6iK4tq9 jovyan   sleep      CD      1      1   0.457s a100cf62dc4f\n",
      "\u001b[0;0m\u001b[01;32m  ƒ3Y6iK4tqB jovyan   sleep      CD      1      1   0.451s a100cf62dc4f\n",
      "\u001b[0;0m\u001b[01;32m  ƒ3Y6iK4tpy jovyan   sleep      CD      1      1   0.527s a100cf62dc4f\n",
      "\u001b[0;0m\u001b[01;32m  ƒ3Y6iHauZQ jovyan   sleep      CD      1      1   0.584s a100cf62dc4f\n",
      "\u001b[0;0m\u001b[01;32m  ƒ3Y6iHauZM jovyan   sleep      CD      1      1   0.619s a100cf62dc4f\n",
      "\u001b[0;0m\u001b[01;32m  ƒ3Y6iK4tpx jovyan   sleep      CD      1      1   0.530s a100cf62dc4f\n",
      "\u001b[0;0m\u001b[01;32m  ƒ3Y6iHauZJ jovyan   sleep      CD      1      1   0.599s a100cf62dc4f\n",
      "\u001b[0;0m\u001b[01;32m  ƒ3Y6iK4tpw jovyan   sleep      CD      1      1   0.504s a100cf62dc4f\n",
      "\u001b[0;0m\u001b[01;32m  ƒ3Y6iHauZR jovyan   sleep      CD      1      1   0.513s a100cf62dc4f\n",
      "\u001b[0;0m\u001b[01;32m  ƒ3Y6iHauZP jovyan   sleep      CD      1      1   0.497s a100cf62dc4f\n",
      "\u001b[0;0m\u001b[01;32m  ƒ3Y6iHauZH jovyan   sleep      CD      1      1   0.612s a100cf62dc4f\n",
      "\u001b[0;0m\u001b[01;32m  ƒ3Y6iK4tq1 jovyan   sleep      CD      1      1   0.420s a100cf62dc4f\n",
      "\u001b[0;0m\u001b[01;32m  ƒ3Y6iHauZN jovyan   sleep      CD      1      1   0.490s a100cf62dc4f\n",
      "\u001b[0;0m\u001b[01;32m  ƒ3Y6iHauZL jovyan   sleep      CD      1      1   0.472s a100cf62dc4f\n",
      "\u001b[0;0m\u001b[01;32m  ƒ3Y6iHauZK jovyan   sleep      CD      1      1   0.426s a100cf62dc4f\n",
      "\u001b[0;0m\u001b[01;32m  ƒ3Y6iHauZB jovyan   sleep      CD      1      1   0.698s a100cf62dc4f\n",
      "\u001b[0;0m\u001b[01;32m  ƒ3Y6iHauZG jovyan   sleep      CD      1      1   0.456s a100cf62dc4f\n",
      "\u001b[0;0m\u001b[01;32m  ƒ3Y6iHauZF jovyan   sleep      CD      1      1   0.464s a100cf62dc4f\n",
      "\u001b[0;0m\u001b[01;32m  ƒ3Y6iHauZE jovyan   sleep      CD      1      1   0.470s a100cf62dc4f\n",
      "\u001b[0;0m\u001b[01;32m  ƒ3Y6iHauZA jovyan   sleep      CD      1      1   0.618s a100cf62dc4f\n",
      "\u001b[0;0m\u001b[01;32m  ƒ3Y6iHauZD jovyan   sleep      CD      1      1   0.429s a100cf62dc4f\n",
      "\u001b[0;0m\u001b[01;32m  ƒ3Y6iHauZ7 jovyan   sleep      CD      1      1   0.545s a100cf62dc4f\n",
      "\u001b[0;0m\u001b[01;32m  ƒ3Y6iHauZC jovyan   sleep      CD      1      1   0.524s a100cf62dc4f\n",
      "\u001b[0;0m\u001b[01;32m  ƒ3Y6iHauZ8 jovyan   sleep      CD      1      1   0.545s a100cf62dc4f\n",
      "\u001b[0;0m\u001b[01;32m  ƒ3Y6iHauYy jovyan   sleep      CD      1      1   0.684s a100cf62dc4f\n",
      "\u001b[0;0m\u001b[01;32m  ƒ3Y6iHauYo jovyan   sleep      CD      1      1   0.733s a100cf62dc4f\n",
      "\u001b[0;0m\u001b[01;32m  ƒ3Y6iHauYr jovyan   sleep      CD      1      1   0.708s a100cf62dc4f\n",
      "\u001b[0;0m\u001b[01;32m  ƒ3Y6iHauZ4 jovyan   sleep      CD      1      1   0.608s a100cf62dc4f\n",
      "\u001b[0;0m\u001b[01;32m  ƒ3Y6iHauYu jovyan   sleep      CD      1      1   0.643s a100cf62dc4f\n",
      "\u001b[0;0m\u001b[01;32m  ƒ3Y6iHauZ5 jovyan   sleep      CD      1      1   0.578s a100cf62dc4f\n",
      "\u001b[0;0m\u001b[01;32m  ƒ3Y6iHauZ3 jovyan   sleep      CD      1      1   0.580s a100cf62dc4f\n",
      "\u001b[0;0m\u001b[01;32m  ƒ3Y6iHauYw jovyan   sleep      CD      1      1   0.620s a100cf62dc4f\n",
      "\u001b[0;0m\u001b[01;32m  ƒ3Y6iHauYt jovyan   sleep      CD      1      1   0.663s a100cf62dc4f\n",
      "\u001b[0;0m\u001b[01;32m  ƒ3Y6iHauZ2 jovyan   sleep      CD      1      1   0.577s a100cf62dc4f\n",
      "\u001b[0;0m\u001b[01;32m  ƒ3Y6iHauYq jovyan   sleep      CD      1      1   0.670s a100cf62dc4f\n",
      "\u001b[0;0m\u001b[01;32m  ƒ3Y6iHauZ1 jovyan   sleep      CD      1      1   0.592s a100cf62dc4f\n",
      "\u001b[0;0m\u001b[01;32m  ƒ3Y6iHauYp jovyan   sleep      CD      1      1   0.642s a100cf62dc4f\n",
      "\u001b[0;0m\u001b[01;32m  ƒ3Y6iHauYv jovyan   sleep      CD      1      1   0.593s a100cf62dc4f\n",
      "\u001b[0;0m\u001b[01;32m  ƒ3Y6iHauZ9 jovyan   sleep      CD      1      1   0.446s a100cf62dc4f\n",
      "\u001b[0;0m\u001b[01;32m  ƒ3Y6iHauYz jovyan   sleep      CD      1      1   0.557s a100cf62dc4f\n",
      "\u001b[0;0m\u001b[01;32m  ƒ3Y6iHauZ6 jovyan   sleep      CD      1      1   0.449s a100cf62dc4f\n",
      "\u001b[0;0m\u001b[01;32m  ƒ3Y6iHauYs jovyan   sleep      CD      1      1   0.594s a100cf62dc4f\n",
      "\u001b[0;0m\u001b[01;32m  ƒ3Y6iHauYm jovyan   sleep      CD      1      1   0.578s a100cf62dc4f\n",
      "\u001b[0;0m\u001b[01;32m  ƒ3Y6iHauYn jovyan   sleep      CD      1      1   0.574s a100cf62dc4f\n",
      "\u001b[0;0m\u001b[01;32m  ƒ3Y6iHauYi jovyan   sleep      CD      1      1   0.580s a100cf62dc4f\n",
      "\u001b[0;0m\u001b[01;32m  ƒ3Y6iHauYh jovyan   sleep      CD      1      1   0.581s a100cf62dc4f\n",
      "\u001b[0;0m\u001b[01;32m  ƒ3Y6iHauYk jovyan   sleep      CD      1      1   0.533s a100cf62dc4f\n",
      "\u001b[0;0m\u001b[01;32m  ƒ3Y6iHauYg jovyan   sleep      CD      1      1   0.590s a100cf62dc4f\n",
      "\u001b[0;0m\u001b[01;32m  ƒ3Y6iHauYj jovyan   sleep      CD      1      1   0.532s a100cf62dc4f\n",
      "\u001b[0;0m\u001b[01;32m  ƒ3Y6iHauYe jovyan   sleep      CD      1      1   0.564s a100cf62dc4f\n",
      "\u001b[0;0m\u001b[01;32m  ƒ3Y6iHauYd jovyan   sleep      CD      1      1   0.544s a100cf62dc4f\n",
      "\u001b[0;0m\u001b[01;32m  ƒ3Y6iHauYx jovyan   sleep      CD      1      1   0.407s a100cf62dc4f\n",
      "\u001b[0;0m\u001b[01;32m  ƒ3Y6iHauYb jovyan   sleep      CD      1      1   0.554s a100cf62dc4f\n",
      "\u001b[0;0m\u001b[01;32m  ƒ3Y6iHauYc jovyan   sleep      CD      1      1   0.503s a100cf62dc4f\n",
      "\u001b[0;0m\u001b[01;32m  ƒ3Y6iHauYf jovyan   sleep      CD      1      1   0.435s a100cf62dc4f\n",
      "\u001b[0;0m\u001b[01;32m  ƒ3Y6iG6vGJ jovyan   sleep      CD      1      1   0.545s a100cf62dc4f\n",
      "\u001b[0;0m\u001b[01;32m  ƒ3Y6iG6vGH jovyan   sleep      CD      1      1   0.529s a100cf62dc4f\n",
      "\u001b[0;0m\u001b[01;32m  ƒ3Y6iG6vGG jovyan   sleep      CD      1      1   0.522s a100cf62dc4f\n",
      "\u001b[0;0m\u001b[01;32m  ƒ3Y6iG6vGF jovyan   sleep      CD      1      1   0.426s a100cf62dc4f\n",
      "\u001b[0;0m\u001b[01;32m  ƒ3Y6hhVC4h jovyan   sleep      CD      1      1   0.814s a100cf62dc4f\n",
      "\u001b[0;0m\u001b[01;32m  ƒ3Y6hhVC4t jovyan   sleep      CD      1      1   0.776s a100cf62dc4f\n",
      "\u001b[0;0m\u001b[01;32m  ƒ3Y6hkTAdU jovyan   sleep      CD      1      1   0.560s a100cf62dc4f\n",
      "\u001b[0;0m\u001b[01;32m  ƒ3Y6hkTAdQ jovyan   sleep      CD      1      1   0.707s a100cf62dc4f\n",
      "\u001b[0;0m\u001b[01;32m  ƒ3Y6hhVC4p jovyan   sleep      CD      1      1   0.755s a100cf62dc4f\n",
      "\u001b[0;0m\u001b[01;32m  ƒ3Y6hkTAdV jovyan   sleep      CD      1      1   0.452s a100cf62dc4f\n",
      "\u001b[0;0m\u001b[01;32m  ƒ3Y6hkTAdS jovyan   sleep      CD      1      1   0.610s a100cf62dc4f\n",
      "\u001b[0;0m\u001b[01;32m  ƒ3Y6hkTAdN jovyan   sleep      CD      1      1   0.632s a100cf62dc4f\n",
      "\u001b[0;0m\u001b[01;32m  ƒ3Y6hkTAdM jovyan   sleep      CD      1      1   0.658s a100cf62dc4f\n",
      "\u001b[0;0m\u001b[01;32m  ƒ3Y6hiyBM1 jovyan   sleep      CD      1      1   0.667s a100cf62dc4f\n",
      "\u001b[0;0m\u001b[01;32m  ƒ3Y6hkTAdP jovyan   sleep      CD      1      1   0.601s a100cf62dc4f\n",
      "\u001b[0;0m\u001b[01;32m  ƒ3Y6hkTAdR jovyan   sleep      CD      1      1   0.600s a100cf62dc4f\n",
      "\u001b[0;0m\u001b[01;32m  ƒ3Y6hhVC4s jovyan   sleep      CD      1      1   0.649s a100cf62dc4f\n",
      "\u001b[0;0m\u001b[01;32m  ƒ3Y6hkTAdT jovyan   sleep      CD      1      1   0.558s a100cf62dc4f\n",
      "\u001b[0;0m\u001b[01;32m  ƒ3Y6hiyBM2 jovyan   sleep      CD      1      1   0.624s a100cf62dc4f\n",
      "\u001b[0;0m\u001b[01;32m  ƒ3Y6hhVC4k jovyan   sleep      CD      1      1   0.653s a100cf62dc4f\n",
      "\u001b[0;0m\u001b[01;32m  ƒ3Y6hhVC4n jovyan   sleep      CD      1      1   0.645s a100cf62dc4f\n",
      "\u001b[0;0m\u001b[01;32m  ƒ3Y6hhVC4o jovyan   sleep      CD      1      1   0.620s a100cf62dc4f\n",
      "\u001b[0;0m\u001b[01;32m  ƒ3Y6hg1CnK jovyan   sleep      CD      1      1   0.680s a100cf62dc4f\n",
      "\u001b[0;0m\u001b[01;32m  ƒ3Y6hhVC4f jovyan   sleep      CD      1      1   0.663s a100cf62dc4f\n",
      "\u001b[0;0m\u001b[01;32m  ƒ3Y6hhVC4q jovyan   sleep      CD      1      1   0.586s a100cf62dc4f\n",
      "\u001b[0;0m\u001b[01;32m  ƒ3Y6hg1CnL jovyan   sleep      CD      1      1   0.679s a100cf62dc4f\n",
      "\u001b[0;0m\u001b[01;32m  ƒ3Y6heXDW1 jovyan   sleep      CD      1      1   0.684s a100cf62dc4f\n",
      "\u001b[0;0m\u001b[01;32m  ƒ3Y6heXDW2 jovyan   sleep      CD      1      1   0.683s a100cf62dc4f\n",
      "\u001b[0;0m\u001b[01;32m  ƒ3Y6hhVC4r jovyan   sleep      CD      1      1   0.574s a100cf62dc4f\n",
      "\u001b[0;0m\u001b[01;32m  ƒ3Y6heXDVz jovyan   sleep      CD      1      1   0.673s a100cf62dc4f\n",
      "\u001b[0;0m\u001b[01;32m  ƒ3Y6hiyBM3 jovyan   sleep      CD      1      1   0.534s a100cf62dc4f\n",
      "\u001b[0;0m\u001b[01;32m  ƒ3Y6hhVC4i jovyan   sleep      CD      1      1   0.556s a100cf62dc4f\n",
      "\u001b[0;0m\u001b[01;32m  ƒ3Y6hhVC4m jovyan   sleep      CD      1      1   0.549s a100cf62dc4f\n",
      "\u001b[0;0m\u001b[01;32m  ƒ3Y6hhVC4g jovyan   sleep      CD      1      1   0.603s a100cf62dc4f\n",
      "\u001b[0;0m\u001b[01;32m  ƒ3Y6heXDW3 jovyan   sleep      CD      1      1   0.632s a100cf62dc4f\n",
      "\u001b[0;0m\u001b[01;32m  ƒ3Y6hhVC4j jovyan   sleep      CD      1      1   0.509s a100cf62dc4f\n",
      "\u001b[0;0m\u001b[01;32m  ƒ3Y6hhVC4u jovyan   sleep      CD      1      1   0.476s a100cf62dc4f\n",
      "\u001b[0;0m\u001b[01;32m  ƒ3Y6hHmPZ9 jovyan   sleep      CD      1      1   0.719s a100cf62dc4f\n",
      "\u001b[0;0m\u001b[01;32m  ƒ3Y6hHmPZD jovyan   sleep      CD      1      1   0.535s a100cf62dc4f\n",
      "\u001b[0;0m\u001b[01;32m  ƒ3Y6heXDW4 jovyan   sleep      CD      1      1   0.475s a100cf62dc4f\n",
      "\u001b[0;0m\u001b[01;32m  ƒ3Y6hHmPZB jovyan   sleep      CD      1      1   0.530s a100cf62dc4f\n",
      "\u001b[0;0m\u001b[01;32m  ƒ3Y6heXDVy jovyan   sleep      CD      1      1   0.450s a100cf62dc4f\n",
      "\u001b[0;0m\u001b[01;32m  ƒ3Y6hHmPZC jovyan   sleep      CD      1      1   0.435s a100cf62dc4f\n",
      "\u001b[0;0m\u001b[01;32m  ƒ3Y6hHmPZA jovyan   sleep      CD      1      1   0.521s a100cf62dc4f\n",
      "\u001b[0;0m\u001b[01;32m  ƒ3Y6hAMT9R jovyan   sleep      CD      1      1   0.497s a100cf62dc4f\n",
      "\u001b[0;0m\u001b[01;32m  ƒ3Y6aPUjU4 jovyan   sleep      CD      1      1   0.527s a100cf62dc4f\n",
      "\u001b[0;0m\u001b[01;32m  ƒ3Y6aMzkC5 jovyan   sleep      CD      1      1   0.638s a100cf62dc4f\n",
      "\u001b[0;0m\u001b[01;32m  ƒ3Y6aMzkBv jovyan   sleep      CD      1      1   0.665s a100cf62dc4f\n",
      "\u001b[0;0m\u001b[01;32m  ƒ3Y6aMzkBu jovyan   sleep      CD      1      1   0.652s a100cf62dc4f\n",
      "\u001b[0;0m\u001b[01;32m  ƒ3Y6aMzkC3 jovyan   sleep      CD      1      1   0.616s a100cf62dc4f\n",
      "\u001b[0;0m\u001b[01;32m  ƒ3Y6aMzkBw jovyan   sleep      CD      1      1   0.649s a100cf62dc4f\n",
      "\u001b[0;0m\u001b[01;32m  ƒ3Y6aPUjU5 jovyan   sleep      CD      1      1   0.469s a100cf62dc4f\n",
      "\u001b[0;0m\u001b[01;32m  ƒ3Y6aLWkue jovyan   sleep      CD      1      1   0.727s a100cf62dc4f\n",
      "\u001b[0;0m\u001b[01;32m  ƒ3Y6aMzkC4 jovyan   sleep      CD      1      1   0.583s a100cf62dc4f\n",
      "\u001b[0;0m\u001b[01;32m  ƒ3Y6aMzkBm jovyan   sleep      CD      1      1   0.649s a100cf62dc4f\n",
      "\u001b[0;0m\u001b[01;32m  ƒ3Y6aMzkC1 jovyan   sleep      CD      1      1   0.607s a100cf62dc4f\n",
      "\u001b[0;0m\u001b[01;32m  ƒ3Y6aMzkBy jovyan   sleep      CD      1      1   0.609s a100cf62dc4f\n",
      "\u001b[0;0m\u001b[01;32m  ƒ3Y6aMzkBt jovyan   sleep      CD      1      1   0.631s a100cf62dc4f\n",
      "\u001b[0;0m\u001b[01;32m  ƒ3Y6aMzkBs jovyan   sleep      CD      1      1   0.639s a100cf62dc4f\n",
      "\u001b[0;0m\u001b[01;32m  ƒ3Y6aMzkC2 jovyan   sleep      CD      1      1   0.578s a100cf62dc4f\n",
      "\u001b[0;0m\u001b[01;32m  ƒ3Y6aMzkBq jovyan   sleep      CD      1      1   0.639s a100cf62dc4f\n",
      "\u001b[0;0m\u001b[01;32m  ƒ3Y6aLWkuh jovyan   sleep      CD      1      1   0.676s a100cf62dc4f\n",
      "\u001b[0;0m\u001b[01;32m  ƒ3Y6aMzkBp jovyan   sleep      CD      1      1   0.614s a100cf62dc4f\n",
      "\u001b[0;0m\u001b[01;32m  ƒ3Y6aLWkuf jovyan   sleep      CD      1      1   0.677s a100cf62dc4f\n",
      "\u001b[0;0m\u001b[01;32m  ƒ3Y6aMzkBj jovyan   sleep      CD      1      1   0.623s a100cf62dc4f\n",
      "\u001b[0;0m\u001b[01;32m  ƒ3Y6aMzkBi jovyan   sleep      CD      1      1   0.636s a100cf62dc4f\n",
      "\u001b[0;0m\u001b[01;32m  ƒ3Y6aMzkBx jovyan   sleep      CD      1      1   0.581s a100cf62dc4f\n",
      "\u001b[0;0m\u001b[01;32m  ƒ3Y6aMzkBh jovyan   sleep      CD      1      1   0.632s a100cf62dc4f\n",
      "\u001b[0;0m\u001b[01;32m  ƒ3Y6aLWkua jovyan   sleep      CD      1      1   0.668s a100cf62dc4f\n",
      "\u001b[0;0m\u001b[01;32m  ƒ3Y6aMzkBk jovyan   sleep      CD      1      1   0.572s a100cf62dc4f\n",
      "\u001b[0;0m\u001b[01;32m  ƒ3Y6aMzkBn jovyan   sleep      CD      1      1   0.548s a100cf62dc4f\n",
      "\u001b[0;0m\u001b[01;32m  ƒ3Y6aLWkuc jovyan   sleep      CD      1      1   0.625s a100cf62dc4f\n",
      "\u001b[0;0m\u001b[01;32m  ƒ3Y6aMzkBz jovyan   sleep      CD      1      1   0.508s a100cf62dc4f\n",
      "\u001b[0;0m\u001b[01;32m  ƒ3Y6aMzkBr jovyan   sleep      CD      1      1   0.542s a100cf62dc4f\n",
      "\u001b[0;0m\u001b[01;32m  ƒ3Y6aLWkuZ jovyan   sleep      CD      1      1   0.635s a100cf62dc4f\n",
      "\u001b[0;0m\u001b[01;32m  ƒ3Y6aLWkuX jovyan   sleep      CD      1      1   0.635s a100cf62dc4f\n",
      "\u001b[0;0m\u001b[01;32m  ƒ3Y6aLWkub jovyan   sleep      CD      1      1   0.620s a100cf62dc4f\n",
      "\u001b[0;0m\u001b[01;32m  ƒ3Y6aPUjU3 jovyan   sleep      CD      1      1   0.378s a100cf62dc4f\n",
      "\u001b[0;0m\u001b[01;32m  ƒ3Y6aLWkuY jovyan   sleep      CD      1      1   0.608s a100cf62dc4f\n",
      "\u001b[0;0m\u001b[01;32m  ƒ3Y6aMzkBo jovyan   sleep      CD      1      1   0.502s a100cf62dc4f\n",
      "\u001b[0;0m\u001b[01;32m  ƒ3Y6aLWkud jovyan   sleep      CD      1      1   0.526s a100cf62dc4f\n",
      "\u001b[0;0m\u001b[01;32m  ƒ3Y6aLWkug jovyan   sleep      CD      1      1   0.420s a100cf62dc4f\n",
      "\u001b[0;0m\u001b[01;32m  ƒ3Y6aLWkuW jovyan   sleep      CD      1      1   0.463s a100cf62dc4f\n",
      "\u001b[0;0m\u001b[01;32m  ƒ3Y6aLWkuV jovyan   sleep      CD      1      1   0.397s a100cf62dc4f\n",
      "\u001b[0;0m\u001b[01;32m  ƒ3Y6aLWkuU jovyan   sleep      CD      1      1   0.390s a100cf62dc4f\n",
      "\u001b[0;0m\u001b[01;32m  ƒ3Y6aLWkuT jovyan   sleep      CD      1      1   0.391s a100cf62dc4f\n",
      "\u001b[0;0m\u001b[01;32m  ƒ3Y6a8erec jovyan   sleep      CD      1      1   0.711s a100cf62dc4f\n",
      "\u001b[0;0m\u001b[01;32m  ƒ3Y6aLWkuQ jovyan   sleep      CD      1      1   0.610s a100cf62dc4f\n",
      "\u001b[0;0m\u001b[01;32m  ƒ3Y6aK2md2 jovyan   sleep      CD      1      1   0.649s a100cf62dc4f\n",
      "\u001b[0;0m\u001b[01;32m  ƒ3Y6aLWkuM jovyan   sleep      CD      1      1   0.614s a100cf62dc4f\n",
      "\u001b[0;0m\u001b[01;32m  ƒ3Y6aD6pVd jovyan   sleep      CD      1      1   0.643s a100cf62dc4f\n",
      "\u001b[0;0m\u001b[01;32m  ƒ3Y6aHYnLf jovyan   sleep      CD      1      1   0.631s a100cf62dc4f\n",
      "\u001b[0;0m\u001b[01;32m  ƒ3Y6a7AsNR jovyan   sleep      CD      1      1   0.688s a100cf62dc4f\n",
      "\u001b[0;0m\u001b[01;32m  ƒ3Y6aLWkuR jovyan   sleep      CD      1      1   0.549s a100cf62dc4f\n",
      "\u001b[0;0m\u001b[01;32m  ƒ3Y6a7AsNV jovyan   sleep      CD      1      1   0.677s a100cf62dc4f\n",
      "\u001b[0;0m\u001b[01;32m  ƒ3Y6a7AsNQ jovyan   sleep      CD      1      1   0.694s a100cf62dc4f\n",
      "\u001b[0;0m\u001b[01;32m  ƒ3Y6a7AsNK jovyan   sleep      CD      1      1   0.748s a100cf62dc4f\n",
      "\u001b[0;0m\u001b[01;32m  ƒ3Y6a7AsNH jovyan   sleep      CD      1      1   0.748s a100cf62dc4f\n",
      "\u001b[0;0m\u001b[01;32m  ƒ3Y6aEaomy jovyan   sleep      CD      1      1   0.625s a100cf62dc4f\n",
      "\u001b[0;0m\u001b[01;32m  ƒ3Y6aLWkuP jovyan   sleep      CD      1      1   0.548s a100cf62dc4f\n",
      "\u001b[0;0m\u001b[01;32m  ƒ3Y6aK2md1 jovyan   sleep      CD      1      1   0.622s a100cf62dc4f\n",
      "\u001b[0;0m\u001b[01;32m  ƒ3Y6a8ereb jovyan   sleep      CD      1      1   0.630s a100cf62dc4f\n",
      "\u001b[0;0m\u001b[01;32m  ƒ3Y6a7AsNY jovyan   sleep      CD      1      1   0.668s a100cf62dc4f\n",
      "\u001b[0;0m\u001b[01;32m  ƒ3Y6a7AsNW jovyan   sleep      CD      1      1   0.672s a100cf62dc4f\n",
      "\u001b[0;0m\u001b[01;32m  ƒ3Y6a7AsNL jovyan   sleep      CD      1      1   0.728s a100cf62dc4f\n",
      "\u001b[0;0m\u001b[01;32m  ƒ3Y6a7AsNP jovyan   sleep      CD      1      1   0.727s a100cf62dc4f\n",
      "\u001b[0;0m\u001b[01;32m  ƒ3Y6aLWkuN jovyan   sleep      CD      1      1   0.526s a100cf62dc4f\n",
      "\u001b[0;0m\u001b[01;32m  ƒ3Y6a7AsNU jovyan   sleep      CD      1      1   0.648s a100cf62dc4f\n",
      "\u001b[0;0m\u001b[01;32m  ƒ3Y6a7AsNT jovyan   sleep      CD      1      1   0.641s a100cf62dc4f\n",
      "\u001b[0;0m\u001b[01;32m  ƒ3Y6aLWkuS jovyan   sleep      CD      1      1   0.512s a100cf62dc4f\n",
      "\u001b[0;0m\u001b[01;32m  ƒ3Y6a7AsNX jovyan   sleep      CD      1      1   0.608s a100cf62dc4f\n",
      "\u001b[0;0m\u001b[01;32m  ƒ3Y6a7AsNJ jovyan   sleep      CD      1      1   0.669s a100cf62dc4f\n",
      "\u001b[0;0m\u001b[01;32m  ƒ3Y6a1EvEs jovyan   sleep      CD      1      1   0.659s a100cf62dc4f\n",
      "\u001b[0;0m\u001b[01;32m  ƒ3Y6ZykvxX jovyan   sleep      CD      1      1   0.660s a100cf62dc4f\n",
      "\u001b[0;0m\u001b[01;32m  ƒ3Y6a7AsNS jovyan   sleep      CD      1      1   0.569s a100cf62dc4f\n",
      "\u001b[0;0m\u001b[01;32m  ƒ3Y6a5gt5u jovyan   sleep      CD      1      1   0.638s a100cf62dc4f\n",
      "\u001b[0;0m\u001b[01;32m  ƒ3Y6a7AsNG jovyan   sleep      CD      1      1   0.617s a100cf62dc4f\n",
      "\u001b[0;0m\u001b[01;32m  ƒ3Y6a5gt5v jovyan   sleep      CD      1      1   0.638s a100cf62dc4f\n",
      "\u001b[0;0m\u001b[01;32m  ƒ3Y6a1EvEv jovyan   sleep      CD      1      1   0.609s a100cf62dc4f\n",
      "\u001b[0;0m\u001b[01;32m  ƒ3Y6a7AsNF jovyan   sleep      CD      1      1   0.600s a100cf62dc4f\n",
      "\u001b[0;0m\u001b[01;32m  ƒ3Y6a1EvEt jovyan   sleep      CD      1      1   0.601s a100cf62dc4f\n",
      "\u001b[0;0m\u001b[01;32m  ƒ3Y6a7AsNM jovyan   sleep      CD      1      1   0.579s a100cf62dc4f\n",
      "\u001b[0;0m\u001b[01;32m  ƒ3Y6a5gt5w jovyan   sleep      CD      1      1   0.598s a100cf62dc4f\n",
      "\u001b[0;0m\u001b[01;32m  ƒ3Y6a7AsNN jovyan   sleep      CD      1      1   0.534s a100cf62dc4f\n",
      "\u001b[0;0m\u001b[01;32m  ƒ3Y6a1EvEu jovyan   sleep      CD      1      1   0.526s a100cf62dc4f\n",
      "\u001b[0;0m\u001b[01;32m  ƒ3Y4qaKa24 jovyan   sleep      CD      1      1   3.241s a100cf62dc4f\n",
      "\u001b[0;0m\u001b[01;32m  ƒ3Y4qaKa23 jovyan   sleep      CD      1      1   3.235s a100cf62dc4f\n",
      "\u001b[0;0m\u001b[01;32m  ƒ3Y4qboZJQ jovyan   sleep      CD      1      1   3.230s a100cf62dc4f\n",
      "\u001b[0;0m\u001b[01;32m  ƒ3Y4qaKa25 jovyan   sleep      CD      1      1   3.231s a100cf62dc4f\n",
      "\u001b[0;0m\u001b[01;32m  ƒ3Y4qboZJR jovyan   sleep      CD      1      1   3.230s a100cf62dc4f\n",
      "\u001b[0;0m\u001b[01;32m  ƒ3Y4qYqaji jovyan   sleep      CD      1      1   3.232s a100cf62dc4f\n",
      "\u001b[0;0m\u001b[01;32m  ƒ3Y4qYqajh jovyan   sleep      CD      1      1   3.232s a100cf62dc4f\n",
      "\u001b[0;0m\u001b[01;32m  ƒ3Y4qYqajj jovyan   sleep      CD      1      1   3.232s a100cf62dc4f\n",
      "\u001b[0;0m\u001b[01;32m  ƒ3Y4qboZJP jovyan   sleep      CD      1      1   3.231s a100cf62dc4f\n",
      "\u001b[0;0m\u001b[01;32m  ƒ3Y4qYqajk jovyan   sleep      CD      1      1   3.216s a100cf62dc4f\n",
      "\u001b[0;0m\u001b[01;32m  ƒ3Y4hejQf9 jovyan   sleep      CD      4      1   0.151s a100cf62dc4f\n",
      "\u001b[0;0m\u001b[01;32m  ƒ3Y23rFv2K jovyan   sleep      CD      1      1   5.147s a100cf62dc4f\n",
      "\u001b[0;0m\u001b[01;32m  ƒ3XwQwtBQj jovyan   sleep      CD      1      1   15.13s a100cf62dc4f\n",
      "\u001b[0;0m\u001b[01;32m  ƒ3Y1YzTts2 jovyan   echo       CD      1      1   0.161s a100cf62dc4f\n",
      "\u001b[0;0m\u001b[01;32m  ƒ3Y1YzTts4 jovyan   echo       CD      1      1   0.159s a100cf62dc4f\n",
      "\u001b[0;0m\u001b[01;32m  ƒ3Y1YzTts1 jovyan   echo       CD      1      1   0.159s a100cf62dc4f\n",
      "\u001b[0;0m\u001b[01;32m  ƒ3Y1YzTts3 jovyan   echo       CD      1      1   0.144s a100cf62dc4f\n",
      "\u001b[0;0m\u001b[01;32m  ƒ3Y1WTh7xs jovyan   echo       CD      1      1   0.129s a100cf62dc4f\n",
      "\u001b[0;0m\u001b[01;32m  ƒ3Y1SJ392f jovyan   echo       CD      4      1   0.130s a100cf62dc4f\n",
      "\u001b[0;0m\u001b[01;32m  ƒ3Y1MsZHH1 jovyan   echo       CD      1      1   0.132s a100cf62dc4f\n",
      "\u001b[0;0m\u001b[01;32m  ƒ3Y1An8eyM jovyan   true       CD      1      1   0.186s a100cf62dc4f\n",
      "\u001b[0;0m\u001b[01;32m  ƒ3Y1An8eyP jovyan   true       CD      1      1   0.183s a100cf62dc4f\n",
      "\u001b[0;0m\u001b[01;32m  ƒ3Y1An8eyN jovyan   true       CD      1      1   0.180s a100cf62dc4f\n",
      "\u001b[0;0m\u001b[01;32m  ƒ3Y1An8eyR jovyan   true       CD      1      1   0.167s a100cf62dc4f\n",
      "\u001b[0;0m\u001b[01;32m  ƒ3Y1An8eyQ jovyan   true       CD      1      1   0.155s a100cf62dc4f\n",
      "\u001b[0;0m\u001b[01;32m  ƒ3Xybugg9V jovyan   sleep      CD      1      1   0.486s a100cf62dc4f\n",
      "\u001b[0;0m\u001b[01;32m  ƒ3Xybugg9W jovyan   sleep      CD      1      1   0.474s a100cf62dc4f\n",
      "\u001b[0;0m\u001b[01;32m  ƒ3Xybugg9Y jovyan   sleep      CD      1      1   0.472s a100cf62dc4f\n",
      "\u001b[0;0m\u001b[01;32m  ƒ3XybgLnch jovyan   sleep      CD      1      1   0.477s a100cf62dc4f\n",
      "\u001b[0;0m\u001b[01;32m  ƒ3XybgLnci jovyan   sleep      CD      1      1   0.472s a100cf62dc4f\n",
      "\u001b[0;0m\u001b[01;32m  ƒ3Xybugg9X jovyan   sleep      CD      1      1   0.457s a100cf62dc4f\n",
      "\u001b[0;0m\u001b[01;32m  ƒ3XybgLncg jovyan   sleep      CD      1      1   0.496s a100cf62dc4f\n",
      "\u001b[0;0m\u001b[01;32m  ƒ3XybgLncf jovyan   sleep      CD      1      1   0.501s a100cf62dc4f\n",
      "\u001b[0;0m\u001b[01;32m  ƒ3XybgLnce jovyan   sleep      CD      1      1   0.498s a100cf62dc4f\n",
      "\u001b[0;0m\u001b[01;32m  ƒ3XybgLncj jovyan   sleep      CD      1      1   0.454s a100cf62dc4f\n",
      "\u001b[0;0m\u001b[01;32m  ƒ3XybgLncZ jovyan   sleep      CD      1      1   0.555s a100cf62dc4f\n",
      "\u001b[0;0m\u001b[01;32m  ƒ3XybgLncV jovyan   sleep      CD      1      1   0.566s a100cf62dc4f\n",
      "\u001b[0;0m\u001b[01;32m  ƒ3XybgLncY jovyan   sleep      CD      1      1   0.526s a100cf62dc4f\n",
      "\u001b[0;0m\u001b[01;32m  ƒ3XybgLncb jovyan   sleep      CD      1      1   0.472s a100cf62dc4f\n",
      "\u001b[0;0m\u001b[01;32m  ƒ3XybgLncc jovyan   sleep      CD      1      1   0.437s a100cf62dc4f\n",
      "\u001b[0;0m\u001b[01;32m  ƒ3XybgLncW jovyan   sleep      CD      1      1   0.539s a100cf62dc4f\n",
      "\u001b[0;0m\u001b[01;32m  ƒ3XyberoLB jovyan   sleep      CD      1      1   0.629s a100cf62dc4f\n",
      "\u001b[0;0m\u001b[01;32m  ƒ3XybgLncX jovyan   sleep      CD      1      1   0.493s a100cf62dc4f\n",
      "\u001b[0;0m\u001b[01;32m  ƒ3XybgLncR jovyan   sleep      CD      1      1   0.562s a100cf62dc4f\n",
      "\u001b[0;0m\u001b[01;32m  ƒ3XybgLncU jovyan   sleep      CD      1      1   0.518s a100cf62dc4f\n",
      "\u001b[0;0m\u001b[01;32m  ƒ3XybgLncT jovyan   sleep      CD      1      1   0.514s a100cf62dc4f\n",
      "\u001b[0;0m\u001b[01;32m  ƒ3XybgLncQ jovyan   sleep      CD      1      1   0.558s a100cf62dc4f\n",
      "\u001b[0;0m\u001b[01;32m  ƒ3XybgLncd jovyan   sleep      CD      1      1   0.383s a100cf62dc4f\n",
      "\u001b[0;0m\u001b[01;32m  ƒ3XyberoLA jovyan   sleep      CD      1      1   0.590s a100cf62dc4f\n",
      "\u001b[0;0m\u001b[01;32m  ƒ3XybgLncP jovyan   sleep      CD      1      1   0.570s a100cf62dc4f\n",
      "\u001b[0;0m\u001b[01;32m  ƒ3XyberoL9 jovyan   sleep      CD      1      1   0.552s a100cf62dc4f\n",
      "\u001b[0;0m\u001b[01;32m  ƒ3XyberoL6 jovyan   sleep      CD      1      1   0.552s a100cf62dc4f\n",
      "\u001b[0;0m\u001b[01;32m  ƒ3XyberoL8 jovyan   sleep      CD      1      1   0.545s a100cf62dc4f\n",
      "\u001b[0;0m\u001b[01;32m  ƒ3XybdNp3k jovyan   sleep      CD      1      1   0.601s a100cf62dc4f\n",
      "\u001b[0;0m\u001b[01;32m  ƒ3XyberoL3 jovyan   sleep      CD      1      1   0.553s a100cf62dc4f\n",
      "\u001b[0;0m\u001b[01;32m  ƒ3XybgLnca jovyan   sleep      CD      1      1   0.340s a100cf62dc4f\n",
      "\u001b[0;0m\u001b[01;32m  ƒ3XyberoL4 jovyan   sleep      CD      1      1   0.503s a100cf62dc4f\n",
      "\u001b[0;0m\u001b[01;32m  ƒ3XybdNp3j jovyan   sleep      CD      1      1   0.589s a100cf62dc4f\n",
      "\u001b[0;0m\u001b[01;32m  ƒ3XybgLncS jovyan   sleep      CD      1      1   0.393s a100cf62dc4f\n",
      "\u001b[0;0m\u001b[01;32m  ƒ3XyberoL5 jovyan   sleep      CD      1      1   0.441s a100cf62dc4f\n",
      "\u001b[0;0m\u001b[01;32m  ƒ3XyberoL7 jovyan   sleep      CD      1      1   0.408s a100cf62dc4f\n",
      "\u001b[0;0m\u001b[01;32m  ƒ3Xyb6F58W jovyan   sleep      CD      1      1   0.682s a100cf62dc4f\n",
      "\u001b[0;0m\u001b[01;32m  ƒ3XybdNp3i jovyan   sleep      CD      1      1   0.535s a100cf62dc4f\n",
      "\u001b[0;0m\u001b[01;32m  ƒ3XybdNp3h jovyan   sleep      CD      1      1   0.519s a100cf62dc4f\n",
      "\u001b[0;0m\u001b[01;32m  ƒ3Xyb6F58X jovyan   sleep      CD      1      1   0.631s a100cf62dc4f\n",
      "\u001b[0;0m\u001b[01;32m  ƒ3XybbtpmM jovyan   sleep      CD      1      1   0.502s a100cf62dc4f\n",
      "\u001b[0;0m\u001b[01;32m  ƒ3Xyb4m5rZ jovyan   sleep      CD      1      1   0.656s a100cf62dc4f\n",
      "\u001b[0;0m\u001b[01;32m  ƒ3Xyb6F58Y jovyan   sleep      CD      1      1   0.618s a100cf62dc4f\n",
      "\u001b[0;0m\u001b[01;32m  ƒ3Xyb4m5re jovyan   sleep      CD      1      1   0.619s a100cf62dc4f\n",
      "\u001b[0;0m\u001b[01;32m  ƒ3Xyb4m5rY jovyan   sleep      CD      1      1   0.625s a100cf62dc4f\n",
      "\u001b[0;0m\u001b[01;32m  ƒ3Xyb4m5rX jovyan   sleep      CD      1      1   0.642s a100cf62dc4f\n",
      "\u001b[0;0m\u001b[01;32m  ƒ3Xyb4m5rd jovyan   sleep      CD      1      1   0.588s a100cf62dc4f\n",
      "\u001b[0;0m\u001b[01;32m  ƒ3Xyb4m5rW jovyan   sleep      CD      1      1   0.619s a100cf62dc4f\n",
      "\u001b[0;0m\u001b[01;32m  ƒ3Xyb6F58Z jovyan   sleep      CD      1      1   0.518s a100cf62dc4f\n",
      "\u001b[0;0m\u001b[01;32m  ƒ3Xyb6F58V jovyan   sleep      CD      1      1   0.570s a100cf62dc4f\n",
      "\u001b[0;0m\u001b[01;32m  ƒ3Xyb4m5ra jovyan   sleep      CD      1      1   0.598s a100cf62dc4f\n",
      "\u001b[0;0m\u001b[01;32m  ƒ3Xyb6F58T jovyan   sleep      CD      1      1   0.547s a100cf62dc4f\n",
      "\u001b[0;0m\u001b[01;32m  ƒ3Xyb6F58U jovyan   sleep      CD      1      1   0.539s a100cf62dc4f\n",
      "\u001b[0;0m\u001b[01;32m  ƒ3Xyb4m5rc jovyan   sleep      CD      1      1   0.523s a100cf62dc4f\n",
      "\u001b[0;0m\u001b[01;32m  ƒ3Xyb4m5rb jovyan   sleep      CD      1      1   0.539s a100cf62dc4f\n",
      "\u001b[0;0m\u001b[01;32m  ƒ3Xyb4m5rV jovyan   sleep      CD      1      1   0.579s a100cf62dc4f\n",
      "\u001b[0;0m\u001b[01;32m  ƒ3Xyb4m5rT jovyan   sleep      CD      1      1   0.582s a100cf62dc4f\n",
      "\u001b[0;0m\u001b[01;32m  ƒ3Xyb4m5rS jovyan   sleep      CD      1      1   0.590s a100cf62dc4f\n",
      "\u001b[0;0m\u001b[01;32m  ƒ3Xyb4m5rU jovyan   sleep      CD      1      1   0.560s a100cf62dc4f\n",
      "\u001b[0;0m\u001b[01;32m  ƒ3Xyb4m5rR jovyan   sleep      CD      1      1   0.532s a100cf62dc4f\n",
      "\u001b[0;0m\u001b[01;32m  ƒ3Xyb4m5rQ jovyan   sleep      CD      1      1   0.532s a100cf62dc4f\n",
      "\u001b[0;0m\u001b[01;32m  ƒ3Xyb4m5rH jovyan   sleep      CD      1      1   0.651s a100cf62dc4f\n",
      "\u001b[0;0m\u001b[01;32m  ƒ3Xyb4m5rJ jovyan   sleep      CD      1      1   0.598s a100cf62dc4f\n",
      "\u001b[0;0m\u001b[01;32m  ƒ3Xyb4m5rM jovyan   sleep      CD      1      1   0.557s a100cf62dc4f\n",
      "\u001b[0;0m\u001b[01;32m  ƒ3Xyb4m5rL jovyan   sleep      CD      1      1   0.586s a100cf62dc4f\n",
      "\u001b[0;0m\u001b[01;32m  ƒ3Xyb4m5rK jovyan   sleep      CD      1      1   0.583s a100cf62dc4f\n",
      "\u001b[0;0m\u001b[01;32m  ƒ3Xyb4m5rF jovyan   sleep      CD      1      1   0.640s a100cf62dc4f\n",
      "\u001b[0;0m\u001b[01;32m  ƒ3Xyb4m5rE jovyan   sleep      CD      1      1   0.634s a100cf62dc4f\n",
      "\u001b[0;0m\u001b[01;32m  ƒ3Xyb4m5rP jovyan   sleep      CD      1      1   0.525s a100cf62dc4f\n",
      "\u001b[0;0m\u001b[01;32m  ƒ3Xyb4m5rD jovyan   sleep      CD      1      1   0.660s a100cf62dc4f\n",
      "\u001b[0;0m\u001b[01;32m  ƒ3Xyb4m5r8 jovyan   sleep      CD      1      1   0.711s a100cf62dc4f\n",
      "\u001b[0;0m\u001b[01;32m  ƒ3Xyb4m5rG jovyan   sleep      CD      1      1   0.583s a100cf62dc4f\n",
      "\u001b[0;0m\u001b[01;32m  ƒ3Xyb4m5rC jovyan   sleep      CD      1      1   0.629s a100cf62dc4f\n",
      "\u001b[0;0m\u001b[01;32m  ƒ3Xyb4m5rN jovyan   sleep      CD      1      1   0.475s a100cf62dc4f\n",
      "\u001b[0;0m\u001b[01;32m  ƒ3Xyb4m5rB jovyan   sleep      CD      1      1   0.628s a100cf62dc4f\n",
      "\u001b[0;0m\u001b[01;32m  ƒ3Xyb4m5r9 jovyan   sleep      CD      1      1   0.477s a100cf62dc4f\n",
      "\u001b[0;0m\u001b[01;32m  ƒ3Xyb4m5rA jovyan   sleep      CD      1      1   0.413s a100cf62dc4f\n",
      "\u001b[0;0m\u001b[01;32m  ƒ3XyaMFRxV jovyan   sleep      CD      1      1   0.798s a100cf62dc4f\n",
      "\u001b[0;0m\u001b[01;32m  ƒ3Xyb4m5r7 jovyan   sleep      CD      1      1   0.337s a100cf62dc4f\n",
      "\u001b[0;0m\u001b[01;32m  ƒ3XyaMFRxT jovyan   sleep      CD      1      1   0.715s a100cf62dc4f\n",
      "\u001b[0;0m\u001b[01;32m  ƒ3XyaMFRxW jovyan   sleep      CD      1      1   0.702s a100cf62dc4f\n",
      "\u001b[0;0m\u001b[01;32m  ƒ3XyaMFRxY jovyan   sleep      CD      1      1   0.669s a100cf62dc4f\n",
      "\u001b[0;0m\u001b[01;32m  ƒ3XyaMFRxg jovyan   sleep      CD      1      1   0.599s a100cf62dc4f\n",
      "\u001b[0;0m\u001b[01;32m  ƒ3Xyai1FuJ jovyan   sleep      CD      1      1   0.519s a100cf62dc4f\n",
      "\u001b[0;0m\u001b[01;32m  ƒ3Xyai1FuH jovyan   sleep      CD      1      1   0.517s a100cf62dc4f\n",
      "\u001b[0;0m\u001b[01;32m  ƒ3XyaKmSgD jovyan   sleep      CD      1      1   0.700s a100cf62dc4f\n",
      "\u001b[0;0m\u001b[01;32m  ƒ3XyaMFRxe jovyan   sleep      CD      1      1   0.614s a100cf62dc4f\n",
      "\u001b[0;0m\u001b[01;32m  ƒ3XyaMFRxZ jovyan   sleep      CD      1      1   0.626s a100cf62dc4f\n",
      "\u001b[0;0m\u001b[01;32m  ƒ3XyaMFRxU jovyan   sleep      CD      1      1   0.658s a100cf62dc4f\n",
      "\u001b[0;0m\u001b[01;32m  ƒ3XyaMFRxc jovyan   sleep      CD      1      1   0.600s a100cf62dc4f\n",
      "\u001b[0;0m\u001b[01;32m  ƒ3XyaKmSgF jovyan   sleep      CD      1      1   0.649s a100cf62dc4f\n",
      "\u001b[0;0m\u001b[01;32m  ƒ3XyaMFRxb jovyan   sleep      CD      1      1   0.600s a100cf62dc4f\n",
      "\u001b[0;0m\u001b[01;32m  ƒ3XyaMFRxX jovyan   sleep      CD      1      1   0.592s a100cf62dc4f\n",
      "\u001b[0;0m\u001b[01;32m  ƒ3XyaKmSgE jovyan   sleep      CD      1      1   0.653s a100cf62dc4f\n",
      "\u001b[0;0m\u001b[01;32m  ƒ3XyaMFRxd jovyan   sleep      CD      1      1   0.527s a100cf62dc4f\n",
      "\u001b[0;0m\u001b[01;32m  ƒ3XyaKmSgC jovyan   sleep      CD      1      1   0.598s a100cf62dc4f\n",
      "\u001b[0;0m\u001b[01;32m  ƒ3XyaKmSgB jovyan   sleep      CD      1      1   0.598s a100cf62dc4f\n",
      "\u001b[0;0m\u001b[01;32m  ƒ3XyaKmSg8 jovyan   sleep      CD      1      1   0.656s a100cf62dc4f\n",
      "\u001b[0;0m\u001b[01;32m  ƒ3XyaMFRxa jovyan   sleep      CD      1      1   0.521s a100cf62dc4f\n",
      "\u001b[0;0m\u001b[01;32m  ƒ3XyaMFRxf jovyan   sleep      CD      1      1   0.460s a100cf62dc4f\n",
      "\u001b[0;0m\u001b[01;32m  ƒ3XyaKmSgA jovyan   sleep      CD      1      1   0.561s a100cf62dc4f\n",
      "\u001b[0;0m\u001b[01;32m  ƒ3XyaKmSg7 jovyan   sleep      CD      1      1   0.589s a100cf62dc4f\n",
      "\u001b[0;0m\u001b[01;32m  ƒ3XyaJHTPr jovyan   sleep      CD      1      1   0.610s a100cf62dc4f\n",
      "\u001b[0;0m\u001b[01;32m  ƒ3XyaGoU7U jovyan   sleep      CD      1      1   0.695s a100cf62dc4f\n",
      "\u001b[0;0m\u001b[01;32m  ƒ3XyaKmSg9 jovyan   sleep      CD      1      1   0.530s a100cf62dc4f\n",
      "\u001b[0;0m\u001b[01;32m  ƒ3XyaJHTPq jovyan   sleep      CD      1      1   0.590s a100cf62dc4f\n",
      "\u001b[0;0m\u001b[01;32m  ƒ3XyaJHTPp jovyan   sleep      CD      1      1   0.588s a100cf62dc4f\n",
      "\u001b[0;0m\u001b[01;32m  ƒ3XyaJHTPs jovyan   sleep      CD      1      1   0.542s a100cf62dc4f\n",
      "\u001b[0;0m\u001b[01;32m  ƒ3XyaGoU7R jovyan   sleep      CD      1      1   0.652s a100cf62dc4f\n",
      "\u001b[0;0m\u001b[01;32m  ƒ3XyaJHTPt jovyan   sleep      CD      1      1   0.517s a100cf62dc4f\n",
      "\u001b[0;0m\u001b[01;32m  ƒ3XyaGoU7S jovyan   sleep      CD      1      1   0.610s a100cf62dc4f\n",
      "\u001b[0;0m\u001b[01;32m  ƒ3XyaJHTPm jovyan   sleep      CD      1      1   0.586s a100cf62dc4f\n",
      "\u001b[0;0m\u001b[01;32m  ƒ3XyaJHTPn jovyan   sleep      CD      1      1   0.582s a100cf62dc4f\n",
      "\u001b[0;0m\u001b[01;32m  ƒ3XyaJHTPo jovyan   sleep      CD      1      1   0.506s a100cf62dc4f\n",
      "\u001b[0;0m\u001b[01;32m  ƒ3XyaJHTPu jovyan   sleep      CD      1      1   0.442s a100cf62dc4f\n",
      "\u001b[0;0m\u001b[01;32m  ƒ3XyaGoU7V jovyan   sleep      CD      1      1   0.548s a100cf62dc4f\n",
      "\u001b[0;0m\u001b[01;32m  ƒ3XyaGoU7T jovyan   sleep      CD      1      1   0.537s a100cf62dc4f\n",
      "\u001b[0;0m\u001b[01;32m  ƒ3XySou5pr jovyan   sleep      CD      1      1   0.454s a100cf62dc4f\n",
      "\u001b[0;0m\u001b[01;32m  ƒ3XySou5pq jovyan   sleep      CD      1      1   0.509s a100cf62dc4f\n",
      "\u001b[0;0m\u001b[01;32m  ƒ3XySou5pp jovyan   sleep      CD      1      1   0.424s a100cf62dc4f\n",
      "\u001b[0;0m\u001b[01;32m  ƒ3XySou5po jovyan   sleep      CD      1      1   0.551s a100cf62dc4f\n",
      "\u001b[0;0m\u001b[01;32m  ƒ3XySou5pk jovyan   sleep      CD      1      1   0.641s a100cf62dc4f\n",
      "\u001b[0;0m\u001b[01;32m  ƒ3XySnR6Yf jovyan   sleep      CD      1      1   0.734s a100cf62dc4f\n",
      "\u001b[0;0m\u001b[01;32m  ƒ3XySnR6Ys jovyan   sleep      CD      1      1   0.654s a100cf62dc4f\n",
      "\u001b[0;0m\u001b[01;32m  ƒ3XySnR6Yt jovyan   sleep      CD      1      1   0.645s a100cf62dc4f\n",
      "\u001b[0;0m\u001b[01;32m  ƒ3XySnR6Yj jovyan   sleep      CD      1      1   0.716s a100cf62dc4f\n",
      "\u001b[0;0m\u001b[01;32m  ƒ3XySnR6Yi jovyan   sleep      CD      1      1   0.697s a100cf62dc4f\n",
      "\u001b[0;0m\u001b[01;32m  ƒ3XySnR6Yo jovyan   sleep      CD      1      1   0.652s a100cf62dc4f\n",
      "\u001b[0;0m\u001b[01;32m  ƒ3XySou5pm jovyan   sleep      CD      1      1   0.570s a100cf62dc4f\n",
      "\u001b[0;0m\u001b[01;32m  ƒ3XySnR6Yh jovyan   sleep      CD      1      1   0.669s a100cf62dc4f\n",
      "\u001b[0;0m\u001b[01;32m  ƒ3XySnR6Yp jovyan   sleep      CD      1      1   0.618s a100cf62dc4f\n",
      "\u001b[0;0m\u001b[01;32m  ƒ3XySou5pj jovyan   sleep      CD      1      1   0.575s a100cf62dc4f\n",
      "\u001b[0;0m\u001b[01;32m  ƒ3XySnR6Yn jovyan   sleep      CD      1      1   0.612s a100cf62dc4f\n",
      "\u001b[0;0m\u001b[01;32m  ƒ3XySnR6Yu jovyan   sleep      CD      1      1   0.566s a100cf62dc4f\n",
      "\u001b[0;0m\u001b[01;32m  ƒ3XySnR6Yd jovyan   sleep      CD      1      1   0.639s a100cf62dc4f\n",
      "\u001b[0;0m\u001b[01;32m  ƒ3XySnR6Yg jovyan   sleep      CD      1      1   0.638s a100cf62dc4f\n",
      "\u001b[0;0m\u001b[01;32m  ƒ3XySnR6Ym jovyan   sleep      CD      1      1   0.601s a100cf62dc4f\n",
      "\u001b[0;0m\u001b[01;32m  ƒ3XySnR6Yq jovyan   sleep      CD      1      1   0.575s a100cf62dc4f\n",
      "\u001b[0;0m\u001b[01;32m  ƒ3XySou5pn jovyan   sleep      CD      1      1   0.410s a100cf62dc4f\n",
      "\u001b[0;0m\u001b[01;32m  ƒ3XySnR6Yk jovyan   sleep      CD      1      1   0.591s a100cf62dc4f\n",
      "\u001b[0;0m\u001b[01;32m  ƒ3XySnR6Yb jovyan   sleep      CD      1      1   0.642s a100cf62dc4f\n",
      "\u001b[0;0m\u001b[01;32m  ƒ3XySnR6Ye jovyan   sleep      CD      1      1   0.579s a100cf62dc4f\n",
      "\u001b[0;0m\u001b[01;32m  ƒ3XySnR6Yc jovyan   sleep      CD      1      1   0.633s a100cf62dc4f\n",
      "\u001b[0;0m\u001b[01;32m  ƒ3XySnR6YY jovyan   sleep      CD      1      1   0.623s a100cf62dc4f\n",
      "\u001b[0;0m\u001b[01;32m  ƒ3XySnR6YZ jovyan   sleep      CD      1      1   0.623s a100cf62dc4f\n",
      "\u001b[0;0m\u001b[01;32m  ƒ3XySnR6YT jovyan   sleep      CD      1      1   0.646s a100cf62dc4f\n",
      "\u001b[0;0m\u001b[01;32m  ƒ3XySnR6YU jovyan   sleep      CD      1      1   0.580s a100cf62dc4f\n",
      "\u001b[0;0m\u001b[01;32m  ƒ3XySnR6Ya jovyan   sleep      CD      1      1   0.559s a100cf62dc4f\n",
      "\u001b[0;0m\u001b[01;32m  ƒ3XySnR6Yr jovyan   sleep      CD      1      1   0.419s a100cf62dc4f\n",
      "\u001b[0;0m\u001b[01;32m  ƒ3XySnR6YQ jovyan   sleep      CD      1      1   0.534s a100cf62dc4f\n",
      "\u001b[0;0m\u001b[01;32m  ƒ3XySkw7GD jovyan   sleep      CD      1      1   0.562s a100cf62dc4f\n",
      "\u001b[0;0m\u001b[01;32m  ƒ3XySnR6YR jovyan   sleep      CD      1      1   0.534s a100cf62dc4f\n",
      "\u001b[0;0m\u001b[01;32m  ƒ3XySnR6YW jovyan   sleep      CD      1      1   0.507s a100cf62dc4f\n",
      "\u001b[0;0m\u001b[01;32m  ƒ3XySnR6YX jovyan   sleep      CD      1      1   0.489s a100cf62dc4f\n",
      "\u001b[0;0m\u001b[01;32m  ƒ3XySnR6YS jovyan   sleep      CD      1      1   0.534s a100cf62dc4f\n",
      "\u001b[0;0m\u001b[01;32m  ƒ3XySkw7GE jovyan   sleep      CD      1      1   0.546s a100cf62dc4f\n",
      "\u001b[0;0m\u001b[01;32m  ƒ3XySnR6YV jovyan   sleep      CD      1      1   0.446s a100cf62dc4f\n",
      "\u001b[0;0m\u001b[01;32m  ƒ3XySnR6YP jovyan   sleep      CD      1      1   0.428s a100cf62dc4f\n",
      "\u001b[0;0m\u001b[01;32m  ƒ3XySkw7GC jovyan   sleep      CD      1      1   0.439s a100cf62dc4f\n",
      "\u001b[0;0m\u001b[01;32m  ƒ3XySkw7GB jovyan   sleep      CD      1      1   0.342s a100cf62dc4f\n",
      "\u001b[0;0m\u001b[01;32m  ƒ3XySkw7GA jovyan   sleep      CD      1      1   0.380s a100cf62dc4f\n",
      "\u001b[0;0m\u001b[01;32m  ƒ3XySkw7G7 jovyan   sleep      CD      1      1   0.671s a100cf62dc4f\n",
      "\u001b[0;0m\u001b[01;32m  ƒ3XySkw7G8 jovyan   sleep      CD      1      1   0.633s a100cf62dc4f\n",
      "\u001b[0;0m\u001b[01;32m  ƒ3XySjT7yi jovyan   sleep      CD      1      1   0.706s a100cf62dc4f\n",
      "\u001b[0;0m\u001b[01;32m  ƒ3XySkw7G9 jovyan   sleep      CD      1      1   0.627s a100cf62dc4f\n",
      "\u001b[0;0m\u001b[01;32m  ƒ3XySkw7G4 jovyan   sleep      CD      1      1   0.646s a100cf62dc4f\n",
      "\u001b[0;0m\u001b[01;32m  ƒ3XySkw7G3 jovyan   sleep      CD      1      1   0.665s a100cf62dc4f\n",
      "\u001b[0;0m\u001b[01;32m  ƒ3XySkw7G6 jovyan   sleep      CD      1      1   0.627s a100cf62dc4f\n",
      "\u001b[0;0m\u001b[01;32m  ƒ3XySjT7yh jovyan   sleep      CD      1      1   0.654s a100cf62dc4f\n",
      "\u001b[0;0m\u001b[01;32m  ƒ3XySZ5D1H jovyan   sleep      CD      1      1   0.644s a100cf62dc4f\n",
      "\u001b[0;0m\u001b[01;32m  ƒ3XySXbDj3 jovyan   sleep      CD      1      1   0.749s a100cf62dc4f\n",
      "\u001b[0;0m\u001b[01;32m  ƒ3XySdXArK jovyan   sleep      CD      1      1   0.641s a100cf62dc4f\n",
      "\u001b[0;0m\u001b[01;32m  ƒ3XySXbDj9 jovyan   sleep      CD      1      1   0.729s a100cf62dc4f\n",
      "\u001b[0;0m\u001b[01;32m  ƒ3XySjT7yj jovyan   sleep      CD      1      1   0.639s a100cf62dc4f\n",
      "\u001b[0;0m\u001b[01;32m  ƒ3XySZ5D1J jovyan   sleep      CD      1      1   0.623s a100cf62dc4f\n",
      "\u001b[0;0m\u001b[01;32m  ƒ3XySXbDj4 jovyan   sleep      CD      1      1   0.729s a100cf62dc4f\n",
      "\u001b[0;0m\u001b[01;32m  ƒ3XySXbDj8 jovyan   sleep      CD      1      1   0.711s a100cf62dc4f\n",
      "\u001b[0;0m\u001b[01;32m  ƒ3XySXbDj5 jovyan   sleep      CD      1      1   0.729s a100cf62dc4f\n",
      "\u001b[0;0m\u001b[01;32m  ƒ3XySXbDiy jovyan   sleep      CD      1      1   0.759s a100cf62dc4f\n",
      "\u001b[0;0m\u001b[01;32m  ƒ3XySXbDjA jovyan   sleep      CD      1      1   0.708s a100cf62dc4f\n",
      "\u001b[0;0m\u001b[01;32m  ƒ3XySkw7G5 jovyan   sleep      CD      1      1   0.564s a100cf62dc4f\n",
      "\u001b[0;0m\u001b[01;32m  ƒ3XySjT7yk jovyan   sleep      CD      1      1   0.595s a100cf62dc4f\n",
      "\u001b[0;0m\u001b[01;32m  ƒ3XySXbDj7 jovyan   sleep      CD      1      1   0.701s a100cf62dc4f\n",
      "\u001b[0;0m\u001b[01;32m  ƒ3XyST9Fsw jovyan   sleep      CD      1      1   0.746s a100cf62dc4f\n",
      "\u001b[0;0m\u001b[01;32m  ƒ3XyST9Fsx jovyan   sleep      CD      1      1   0.745s a100cf62dc4f\n",
      "\u001b[0;0m\u001b[01;32m  ƒ3XySW7ESb jovyan   sleep      CD      1      1   0.745s a100cf62dc4f\n",
      "\u001b[0;0m\u001b[01;32m  ƒ3XyST9Fsv jovyan   sleep      CD      1      1   0.743s a100cf62dc4f\n",
      "\u001b[0;0m\u001b[01;32m  ƒ3XySRfGbZ jovyan   sleep      CD      1      1   0.724s a100cf62dc4f\n",
      "\u001b[0;0m\u001b[01;32m  ƒ3XyShy8hM jovyan   sleep      CD      1      1   0.569s a100cf62dc4f\n",
      "\u001b[0;0m\u001b[01;32m  ƒ3XySW7ESd jovyan   sleep      CD      1      1   0.696s a100cf62dc4f\n",
      "\u001b[0;0m\u001b[01;32m  ƒ3XyST9Fsu jovyan   sleep      CD      1      1   0.685s a100cf62dc4f\n",
      "\u001b[0;0m\u001b[01;32m  ƒ3XySXbDiw jovyan   sleep      CD      1      1   0.672s a100cf62dc4f\n",
      "\u001b[0;0m\u001b[01;32m  ƒ3XySW7ESe jovyan   sleep      CD      1      1   0.672s a100cf62dc4f\n",
      "\u001b[0;0m\u001b[01;32m  ƒ3XySXbDj1 jovyan   sleep      CD      1      1   0.671s a100cf62dc4f\n",
      "\u001b[0;0m\u001b[01;32m  ƒ3XySXbDj2 jovyan   sleep      CD      1      1   0.671s a100cf62dc4f\n",
      "\u001b[0;0m\u001b[01;32m  ƒ3XySRfGba jovyan   sleep      CD      1      1   0.652s a100cf62dc4f\n",
      "\u001b[0;0m\u001b[01;32m  ƒ3XySXbDiz jovyan   sleep      CD      1      1   0.639s a100cf62dc4f\n",
      "\u001b[0;0m\u001b[01;32m  ƒ3XySXbDj6 jovyan   sleep      CD      1      1   0.600s a100cf62dc4f\n",
      "\u001b[0;0m\u001b[01;32m  ƒ3XySXbDix jovyan   sleep      CD      1      1   0.622s a100cf62dc4f\n",
      "\u001b[0;0m\u001b[01;32m  ƒ3XySW7ESc jovyan   sleep      CD      1      1   0.619s a100cf62dc4f\n",
      "\u001b[0;0m\u001b[01;32m  ƒ3XwkrnXwQ jovyan   sleep      CD      1      1   3.243s a100cf62dc4f\n",
      "\u001b[0;0m\u001b[01;32m  ƒ3XwkrnXwP jovyan   sleep      CD      1      1   3.240s a100cf62dc4f\n",
      "\u001b[0;0m\u001b[01;32m  ƒ3XwktGXDh jovyan   sleep      CD      1      1   3.237s a100cf62dc4f\n",
      "\u001b[0;0m\u001b[01;32m  ƒ3XwktGXDk jovyan   sleep      CD      1      1   3.231s a100cf62dc4f\n",
      "\u001b[0;0m\u001b[01;32m  ƒ3XwkrnXwM jovyan   sleep      CD      1      1   3.232s a100cf62dc4f\n",
      "\u001b[0;0m\u001b[01;32m  ƒ3XwktGXDj jovyan   sleep      CD      1      1   3.230s a100cf62dc4f\n",
      "\u001b[0;0m\u001b[01;32m  ƒ3XwkqJYf1 jovyan   sleep      CD      1      1   3.231s a100cf62dc4f\n",
      "\u001b[0;0m\u001b[01;32m  ƒ3XwkqJYf2 jovyan   sleep      CD      1      1   3.228s a100cf62dc4f\n",
      "\u001b[0;0m\u001b[01;32m  ƒ3XwktGXDi jovyan   sleep      CD      1      1   3.227s a100cf62dc4f\n",
      "\u001b[0;0m\u001b[01;32m  ƒ3XwkrnXwN jovyan   sleep      CD      1      1   3.226s a100cf62dc4f\n",
      "\u001b[0;0m\u001b[01;32m  ƒ3XwfWw83H jovyan   sleep      CD      4      1   0.154s a100cf62dc4f\n",
      "\u001b[0;0m\u001b[01;32m  ƒ3Xu2nj7Ew jovyan   sleep      CD      1      1   5.141s a100cf62dc4f\n",
      "\u001b[0;0m\u001b[01;32m  ƒ3Xog1wf2X jovyan   sleep      CD      1      1   15.14s a100cf62dc4f\n",
      "\u001b[0;0m\u001b[01;32m  ƒ3KaQMY4kX jovyan   echo       CD      1      1   0.117s a100cf62dc4f\n",
      "\u001b[0;0m\u001b[37m  ƒ3EFFFcUAL jovyan   sleep      CA      1      1   5.168m a100cf62dc4f\n",
      "\u001b[0;0m\u001b[37m  ƒ3EFFFcUAK jovyan   sleep      CA      1      1   5.168m a100cf62dc4f\n",
      "\u001b[0;0m\u001b[37m  ƒ3EFFE8Usy jovyan   sleep      CA      1      1   5.168m a100cf62dc4f\n",
      "\u001b[0;0m\u001b[01;31m  ƒ3EEVpmWNU jovyan   sleep       F      1      1   0.135s a100cf62dc4f\n",
      "\u001b[0;0m\u001b[01;31m  ƒ3EEVpmWNV jovyan   sleep       F      1      1   0.134s a100cf62dc4f\n",
      "\u001b[0;0m\u001b[01;31m  ƒ3EEVpmWNT jovyan   sleep       F      1      1   0.135s a100cf62dc4f\n",
      "\u001b[0;0m\u001b[01;32m  ƒ28G7V4TKD jovyan   echo       CD      1      1   0.139s a100cf62dc4f\n",
      "\u001b[0;0m\u001b[01;32m  ƒ28G7TaU2v jovyan   echo       CD      1      1   0.131s a100cf62dc4f\n",
      "\u001b[0;0m\u001b[01;32m  ƒ28G7TaU2u jovyan   echo       CD      1      1   0.130s a100cf62dc4f\n",
      "\u001b[0;0m\u001b[01;32m  ƒ28G7TaU2s jovyan   echo       CD      1      1   0.128s a100cf62dc4f\n",
      "\u001b[0;0m\u001b[01;32m  ƒ28G7TaU2t jovyan   echo       CD      1      1   0.126s a100cf62dc4f\n",
      "\u001b[0;0m\u001b[01;32m  ƒ286xAsqfd jovyan   echo       CD      4      1   0.128s a100cf62dc4f\n",
      "\u001b[0;0m\u001b[01;32m  ƒ283fwmzTR jovyan   echo       CD      1      1   0.118s a100cf62dc4f\n",
      "\u001b[0;0m\u001b[01;32m  ƒ27p3Bm4Tu jovyan   true       CD      1      1   0.129s a100cf62dc4f\n",
      "\u001b[0;0m\u001b[01;32m  ƒ27p3Bm4Tt jovyan   true       CD      1      1   0.128s a100cf62dc4f\n",
      "\u001b[0;0m\u001b[01;32m  ƒ27p3Bm4Tq jovyan   true       CD      1      1   0.126s a100cf62dc4f\n",
      "\u001b[0;0m\u001b[01;32m  ƒ27p3Bm4Ts jovyan   true       CD      1      1   0.125s a100cf62dc4f\n",
      "\u001b[0;0m\u001b[01;32m  ƒ27p3Bm4Tr jovyan   true       CD      1      1   0.123s a100cf62dc4f\n",
      "\u001b[0;0m\u001b[01;32m  ƒ27eK12NQu jovyan   sleep      CD      1      1   3.202s a100cf62dc4f\n",
      "\u001b[0;0m\u001b[01;32m  ƒ27eK12NQo jovyan   sleep      CD      1      1   3.200s a100cf62dc4f\n",
      "\u001b[0;0m\u001b[01;32m  ƒ27eJyYP8U jovyan   sleep      CD      1      1   3.197s a100cf62dc4f\n",
      "\u001b[0;0m\u001b[01;32m  ƒ27eK12NQr jovyan   sleep      CD      1      1   3.194s a100cf62dc4f\n",
      "\u001b[0;0m\u001b[01;32m  ƒ27eK12NQs jovyan   sleep      CD      1      1   3.192s a100cf62dc4f\n",
      "\u001b[0;0m\u001b[01;32m  ƒ27eJyYP8T jovyan   sleep      CD      1      1   3.193s a100cf62dc4f\n",
      "\u001b[0;0m\u001b[01;32m  ƒ27eK12NQt jovyan   sleep      CD      1      1   3.190s a100cf62dc4f\n",
      "\u001b[0;0m\u001b[01;32m  ƒ27eJyYP8V jovyan   sleep      CD      1      1   3.186s a100cf62dc4f\n",
      "\u001b[0;0m\u001b[01;32m  ƒ27eK12NQq jovyan   sleep      CD      1      1   3.182s a100cf62dc4f\n",
      "\u001b[0;0m\u001b[01;32m  ƒ27eK12NQp jovyan   sleep      CD      1      1   3.180s a100cf62dc4f\n",
      "\u001b[0;0m\u001b[01;32m  ƒ27PW9WRgb jovyan   sleep      CD      1      1   15.15s a100cf62dc4f\n",
      "\u001b[0;0m\u001b[01;32m  ƒ27LxJU3i7 jovyan   sleep      CD      1      1   15.14s a100cf62dc4f\n",
      "\u001b[0;0m\u001b[01;32m  ƒ272SFQMSo jovyan   sleep      CD      1      1   15.15s a100cf62dc4f\n",
      "\u001b[0;0m\u001b[01;32m  ƒ26oxcYuUj jovyan   sleep      CD      1      1   15.14s a100cf62dc4f\n",
      "\u001b[0;0m\u001b[01;32m  ƒ26Xevq2T9 jovyan   sleep      CD      1      1   5.140s a100cf62dc4f\n",
      "\u001b[0;0m\u001b[01;32m  ƒ238cKZQqd jovyan   echo       CD      1      1   0.139s a100cf62dc4f\n",
      "\u001b[0;0m\u001b[01;32m  ƒ238cJ5RZL jovyan   echo       CD      1      1   0.138s a100cf62dc4f\n",
      "\u001b[0;0m\u001b[01;32m  ƒ238cJ5RZK jovyan   echo       CD      1      1   0.137s a100cf62dc4f\n",
      "\u001b[0;0m\u001b[01;32m  ƒ238cJ5RZJ jovyan   echo       CD      1      1   0.134s a100cf62dc4f\n",
      "\u001b[0;0m\u001b[01;32m  ƒ238cJ5RZH jovyan   echo       CD      1      1   0.132s a100cf62dc4f\n",
      "\u001b[0;0m\u001b[01;32m  ƒ223F6Fp1h jovyan   echo       CD      1      1   0.147s a100cf62dc4f\n",
      "\u001b[0;0m\u001b[01;32m  ƒ223F6Fp1g jovyan   echo       CD      1      1   0.142s a100cf62dc4f\n",
      "\u001b[0;0m\u001b[01;32m  ƒ223F6Fp1f jovyan   echo       CD      1      1   0.134s a100cf62dc4f\n",
      "\u001b[0;0m\u001b[01;32m  ƒ223F6Fp1e jovyan   echo       CD      1      1   0.131s a100cf62dc4f\n",
      "\u001b[0;0m\u001b[01;32m  ƒ223F6Fp1d jovyan   echo       CD      1      1   0.131s a100cf62dc4f\n",
      "\u001b[0;0m\u001b[01;32m  ƒ21wNBYxYj jovyan   echo       CD      1      1   0.140s a100cf62dc4f\n",
      "\u001b[0;0m\u001b[01;32m  ƒ21wNBYxYi jovyan   echo       CD      1      1   0.140s a100cf62dc4f\n",
      "\u001b[0;0m\u001b[01;32m  ƒ21wNBYxYh jovyan   echo       CD      1      1   0.132s a100cf62dc4f\n",
      "\u001b[0;0m\u001b[01;32m  ƒ21wNBYxYf jovyan   echo       CD      1      1   0.132s a100cf62dc4f\n",
      "\u001b[0;0m\u001b[01;32m  ƒ21wNBYxYg jovyan   echo       CD      1      1   0.131s a100cf62dc4f\n",
      "\u001b[0;0m\u001b[01;32m  ƒ21cxEpJdm jovyan   true       CD      1      1   0.135s a100cf62dc4f\n",
      "\u001b[0;0m\u001b[01;32m  ƒ21cxDLKMU jovyan   true       CD      1      1   0.131s a100cf62dc4f\n",
      "\u001b[0;0m\u001b[01;32m  ƒ21cxDLKMT jovyan   true       CD      1      1   0.131s a100cf62dc4f\n",
      "\u001b[0;0m\u001b[01;32m  ƒ21cxDLKMS jovyan   true       CD      1      1   0.128s a100cf62dc4f\n",
      "\u001b[0;0m\u001b[01;32m  ƒ21cxDLKMR jovyan   true       CD      1      1   0.128s a100cf62dc4f\n",
      "\u001b[0;0m\u001b[01;32m  ƒ21WDjyUTu jovyan   true       CD      1      1   0.130s a100cf62dc4f\n",
      "\u001b[0;0m\u001b[01;32m  ƒ21WDjyUTq jovyan   true       CD      1      1   0.131s a100cf62dc4f\n",
      "\u001b[0;0m\u001b[01;32m  ƒ21WDjyUTr jovyan   true       CD      1      1   0.131s a100cf62dc4f\n",
      "\u001b[0;0m\u001b[01;32m  ƒ21WDjyUTt jovyan   true       CD      1      1   0.127s a100cf62dc4f\n",
      "\u001b[0;0m\u001b[01;32m  ƒ21WDjyUTs jovyan   true       CD      1      1   0.127s a100cf62dc4f\n",
      "\u001b[0;0m\u001b[01;32m  ƒ21S1dfjCo jovyan   true       CD      1      1   0.135s a100cf62dc4f\n",
      "\u001b[0;0m\u001b[01;32m  ƒ21S1dfjCn jovyan   true       CD      1      1   0.134s a100cf62dc4f\n",
      "\u001b[0;0m\u001b[01;32m  ƒ21S1dfjCm jovyan   true       CD      1      1   0.129s a100cf62dc4f\n",
      "\u001b[0;0m\u001b[01;32m  ƒ21S1dfjCj jovyan   true       CD      1      1   0.130s a100cf62dc4f\n",
      "\u001b[0;0m\u001b[01;32m  ƒ21S1dfjCk jovyan   true       CD      1      1   0.128s a100cf62dc4f\n",
      "\u001b[0;0m\u001b[01;32m  ƒ21DbSxcHG jovyan   true       CD      1      1   0.134s a100cf62dc4f\n",
      "\u001b[0;0m\u001b[01;32m  ƒ21DbUSbZZ jovyan   true       CD      1      1   0.134s a100cf62dc4f\n",
      "\u001b[0;0m\u001b[01;32m  ƒ21DbSxcHF jovyan   true       CD      1      1   0.126s a100cf62dc4f\n",
      "\u001b[0;0m\u001b[01;32m  ƒ21DbSxcHE jovyan   true       CD      1      1   0.122s a100cf62dc4f\n",
      "\u001b[0;0m\u001b[01;32m  ƒ21DbSxcHD jovyan   true       CD      1      1   0.120s a100cf62dc4f\n",
      "\u001b[0;0m\u001b[01;32m   ƒzwKNdx1N jovyan   true       CD      1      1   0.138s a100cf62dc4f\n",
      "\u001b[0;0m\u001b[01;32m   ƒzwKM9xj2 jovyan   true       CD      1      1   0.139s a100cf62dc4f\n",
      "\u001b[0;0m\u001b[01;32m   ƒzwKM9xj1 jovyan   true       CD      1      1   0.139s a100cf62dc4f\n",
      "\u001b[0;0m\u001b[01;32m   ƒzwKNdx1M jovyan   true       CD      1      1   0.138s a100cf62dc4f\n",
      "\u001b[0;0m\u001b[01;32m   ƒzwKNdx1P jovyan   true       CD      1      1   0.138s a100cf62dc4f\n",
      "\u001b[0;0m\u001b[01;32m   ƒzuAjkKuz jovyan   true       CD      1      1   0.135s a100cf62dc4f\n",
      "\u001b[0;0m\u001b[01;32m   ƒzuAjkKuy jovyan   true       CD      1      1   0.134s a100cf62dc4f\n",
      "\u001b[0;0m\u001b[01;32m   ƒzuAiGLdf jovyan   true       CD      1      1   0.127s a100cf62dc4f\n",
      "\u001b[0;0m\u001b[01;32m   ƒzuAiGLde jovyan   true       CD      1      1   0.126s a100cf62dc4f\n",
      "\u001b[0;0m\u001b[01;32m   ƒzuAiGLdd jovyan   true       CD      1      1   0.127s a100cf62dc4f\n",
      "\u001b[0;0m\u001b[01;32m   ƒzisMBio2 jovyan   true       CD      1      1   0.133s a100cf62dc4f\n",
      "\u001b[0;0m\u001b[01;32m   ƒzisMBio3 jovyan   true       CD      1      1   0.133s a100cf62dc4f\n",
      "\u001b[0;0m\u001b[01;32m   ƒzisMBio5 jovyan   true       CD      1      1   0.129s a100cf62dc4f\n",
      "\u001b[0;0m\u001b[01;32m   ƒzisMBio4 jovyan   true       CD      1      1   0.129s a100cf62dc4f\n",
      "\u001b[0;0m\u001b[01;32m   ƒzisMBio1 jovyan   true       CD      1      1   0.129s a100cf62dc4f\n",
      "\u001b[0;0m\u001b[01;32m   ƒuTPXcoc3 jovyan   echo       CD      4      1   0.134s a100cf62dc4f\n",
      "\u001b[0;0m\u001b[01;32m   ƒrmPWDxZM jovyan   echo       CD      4      1   0.137s a100cf62dc4f\n",
      "\u001b[0;0m\u001b[01;32m   ƒZmnNxb1q jovyan   echo       CD      4      1   0.141s a100cf62dc4f\n",
      "\u001b[0;0m\u001b[01;32m   ƒZhsPxYZm jovyan   echo       CD      4      1   0.146s a100cf62dc4f\n",
      "\u001b[0;0m\u001b[01;32m   ƒZbZsZcij jovyan   echo       CD      4      1   0.156s a100cf62dc4f\n",
      "\u001b[0;0m\u001b[01;32m   ƒZZcdtUK9 jovyan   echo       CD      4      1   0.143s a100cf62dc4f\n",
      "\u001b[0;0m\u001b[01;32m   ƒXHdD31R1 jovyan   echo       CD      4      1   0.166s a100cf62dc4f\n",
      "\u001b[0;0m"
     ]
    }
   ],
   "source": [
    "!flux jobs -a"
   ]
  },
  {
   "cell_type": "markdown",
   "id": "3e415ecc-f451-4909-a2bf-351a639cd7fa",
   "metadata": {},
   "source": [
    "To restrict the output to failed (i.e., jobs that exit with nonzero exit code, time out, or are canceled or killed) jobs, run:"
   ]
  },
  {
   "cell_type": "code",
   "execution_count": 32,
   "id": "032597d2-4b02-47ea-a5e5-915313cdd7f9",
   "metadata": {
    "jupyter": {
     "source_hidden": true
    }
   },
   "outputs": [
    {
     "name": "stdout",
     "output_type": "stream",
     "text": [
      "       JOBID USER     NAME       ST NTASKS NNODES     TIME INFO\n",
      "\u001b[01;31m  ƒ3Z6H49Vwd jovyan   hello       F      8      1   0.056s a100cf62dc4f\n",
      "\u001b[0;0m\u001b[01;31m  ƒ3Z4qpypNs jovyan   false       F      1      1   0.123s a100cf62dc4f\n",
      "\u001b[0;0m\u001b[01;31m  ƒ3EEVpmWNU jovyan   sleep       F      1      1   0.135s a100cf62dc4f\n",
      "\u001b[0;0m\u001b[01;31m  ƒ3EEVpmWNV jovyan   sleep       F      1      1   0.134s a100cf62dc4f\n",
      "\u001b[0;0m\u001b[01;31m  ƒ3EEVpmWNT jovyan   sleep       F      1      1   0.135s a100cf62dc4f\n",
      "\u001b[0;0m"
     ]
    }
   ],
   "source": [
    "!flux jobs -f failed"
   ]
  },
  {
   "cell_type": "markdown",
   "id": "6bc17bac-2fc4-4418-8939-e930f9929976",
   "metadata": {},
   "source": [
    "### flux submit from within a batch\n",
    "\n",
    "Next open up [hello-batch.sh](hello-batch.sh) to see an example of using `flux batch` to submit jobs within the instance, and then wait for them to finish. This script is going to:\n",
    "\n",
    "1. Create a flux instance with the top level resources you specify\n",
    "2. Submit jobs to the scheduler controlled by the broker of that sub-instance\n",
    "3. Run the four jobs, with `--flags=waitable` and `flux job wait --all` to wait for the output file\n",
    "4. Within the batch script, you can add `--wait` or `--flags=waitable` to individual jobs, and use `flux queue drain` to wait for the queue to drain, _or_ `flux job wait --all` to wait for the jobs you flagged to finish. \n",
    "\n",
    "Note that when you submit a batch job, you'll get a job id back for the _batch job_, and usually when you look at the output of that with `flux job attach $jobid` you will see the output file(s) where the internal contents are written. Since we want to print the output file easily to the terminal, we are waiting for the batch job by adding the `--flags=waitable` and then waiting for it. Let's try to run our batch job now."
   ]
  },
  {
   "cell_type": "code",
   "execution_count": 33,
   "id": "72358a03-6f1f-4c5e-91eb-cab71883a232",
   "metadata": {},
   "outputs": [
    {
     "name": "stdout",
     "output_type": "stream",
     "text": [
      "ƒ3ZN74Gnmm\n",
      "ƒ3ZN74Gnmm\n",
      "Hello job 1 from a100cf62dc4f 💛️\n",
      "Hello job 2 from a100cf62dc4f 💚️\n",
      "Hello job 3 from a100cf62dc4f 💙️\n",
      "Hello job 4 from a100cf62dc4f 💜️\n"
     ]
    }
   ],
   "source": [
    "! flux batch --flags=waitable --out /tmp/flux-batch.out -N2 ./hello-batch.sh\n",
    "! flux job wait\n",
    "! cat /tmp/hello-batch-1.out\n",
    "! cat /tmp/hello-batch-2.out\n",
    "! cat /tmp/hello-batch-3.out\n",
    "! cat /tmp/hello-batch-4.out"
   ]
  },
  {
   "cell_type": "markdown",
   "id": "75c0ae3f-2813-4ae8-83be-00be3df92a4b",
   "metadata": {},
   "source": [
    "Each of `flux batch` and `flux alloc` hints at creating a Flux instance. How deep can we go into that rabbit hole, perhaps for jobs and workflows with nested logic or more orchestration complexity?"
   ]
  },
  {
   "cell_type": "markdown",
   "id": "04b405b1-219f-489c-abfc-e2983e82124a",
   "metadata": {},
   "source": [
    "### The Flux Hierarchy 🍇️\n",
    "\n",
    "One feature of the Flux Framework scheduler that is unique is its ability to submit jobs within instances, where an instance can be thought of as a level in a graph. Let's start with a basic image - this is what it might look like to submit to a scheduler that is not graph-based (left), where all jobs go to a central job queue or database. Note that our maximum job throughput is one job per second. The throughput is limited by the workload manager's ability to process a single job. We can improve upon this by simply adding another level, perhaps with three instances. For example, let's say we create a flux allocation or batch that has control of some number of child nodes. We might launch three new instances (each with its own scheduler and queue, right image) at that level two, and all of a sudden, we get a throughput of 1x3, or three jobs per second.\n",
    "\n",
    "<table>\n",
    "<tr>\n",
    "    <td>\n",
    "<img src=\"../img/single-submit.png\" style=\"float:left; margin-top:30px\" width=\"350px\">        \n",
    "    </td>\n",
    "    <td>\n",
    "<img src=\"../img/instance-submit.png\" style=\"float:right; margin-top:-20px\" width=\"550px\">        \n",
    "    </td>\n",
    "    </tr>\n",
    "</table>\n",
    "\n",
    "All of a sudden, the throughout can increase exponentially because we are essentially submitting to different schedulers. The example above is not impressive, but our [learning guide](https://flux-framework.readthedocs.io/en/latest/guides/learning_guide.html#fully-hierarchical-resource-management-techniques) (Figure 10) has a beautiful example of how it can scale, done via an actual experiment. We were able to submit 500 jobs/second using only three levels, vs. close to 1 job/second with one level. For an interesting detail, you can vary the scheduler algorithm or topology within each sub-instance, meaning that you can do some fairly interesting things with scheduling work, and all without stressing the top level system instance. \n",
    "\n",
    "Now that we understand nested instances, let's look at another batch example that better uses them. Here we have two job scripts:\n",
    "\n",
    "- [sub_job1.sh](sub_job1.sh): Is going to be run with `flux batch` and submit sub_job2.sh\n",
    "- [sub_job2.sh](sub_job2.sh): Is going to be submitted by sub_job1.sh.\n",
    "\n",
    "Take a look at each script to see how they work, and then submit it!"
   ]
  },
  {
   "cell_type": "code",
   "execution_count": 41,
   "id": "8640a611-38e4-42b1-a913-89e0c76c8014",
   "metadata": {
    "tags": []
   },
   "outputs": [
    {
     "name": "stdout",
     "output_type": "stream",
     "text": [
      "ƒ3aSwyH5No\n"
     ]
    }
   ],
   "source": [
    "!flux batch ./sub_job1.sh"
   ]
  },
  {
   "cell_type": "markdown",
   "id": "b29c3a4a-2b77-4ab9-8e0c-9f5228e61016",
   "metadata": {},
   "source": [
    "And now that we've submitted, let's look at the hierarchy for all the jobs we just ran. Here is how to try flux pstree, which normally can show jobs in an instance, but it has limited functionality given we are in a notebook! So instead of just running the single command, let's add \"-a\" to indicate \"show me ALL jobs.\"\n",
    "More complex jobs and in a different environment would have deeper nesting. You can [see examples here](https://flux-framework.readthedocs.io/en/latest/jobs/hierarchies.html?h=pstree#flux-pstree-command)."
   ]
  },
  {
   "cell_type": "code",
   "execution_count": 42,
   "id": "2d2b1f0b-e6c2-4583-8068-7c76fa341884",
   "metadata": {
    "tags": []
   },
   "outputs": [
    {
     "name": "stdout",
     "output_type": "stream",
     "text": [
      ".\n",
      "├── ./sub_job1.sh\n",
      "│   └── ./sub_job2.sh\n",
      "│       └── sleep:R\n",
      "├── 2*[./sub_job1.sh:CD]\n",
      "├── 2*[hello:F]\n",
      "├── ./hello-batch.sh:CD\n",
      "├── 2*[./sleep_batch.sh:CD]\n",
      "├── 56*[echo:CD]\n",
      "├── magic:CA\n",
      "├── moremagic:CA\n",
      "├── 5*[sleep:CA]\n",
      "├── job-watch.sh:CD\n",
      "├── 8*[bash:CD]\n",
      "├── 3*[hostname:CD]\n",
      "├── make:CD\n",
      "├── false:F\n",
      "├── sh:CD\n",
      "├── 442*[sleep:CD]\n",
      "├── 50*[true:CD]\n",
      "└── 3*[sleep:F]\n"
     ]
    }
   ],
   "source": [
    "!flux pstree -a"
   ]
  },
  {
   "cell_type": "markdown",
   "id": "7724130f-b0db-4ccf-a01e-98907b9a27ca",
   "metadata": {},
   "source": [
    "You can also try a more detailed view with `flux pstree -a -X`!"
   ]
  },
  {
   "cell_type": "markdown",
   "id": "70e3df1d-32c9-4996-b6f7-2fa85f4c02ad",
   "metadata": {
    "tags": []
   },
   "source": [
    "### flux start\n",
    "\n",
    "<div class=\"alert alert-block\" style=\"background-color:lightgreen\">\n",
    "<span style=\"font-weight:600\">Description:</span> Interactively starting a set of resources\n",
    "</div>\n",
    "\n",
    "Sometimes you need to interactively start a set of compute resources. We call this subset a flux instance. You can launch jobs under this instance, akin to how you've done above! In fact, this entire tutorial is started (to give you 4 faux nodes) with a `flux start` command: \n",
    "\n",
    "```bash\n",
    "flux start --test-size=4\n",
    "```\n",
    "\n",
    "A Flux instance may be running as the default resource manager on a cluster, a job in a resource manager such as Slurm, LSF, or Flux itself, or as a test instance launched locally. This is really neat because it means you can launch Flux under other resource managers where it is not installed as the system workload manager. You can also execute \"one off\" commands to it, for example, to see the instance size:"
   ]
  },
  {
   "cell_type": "code",
   "execution_count": 38,
   "id": "d568de50-f9e0-452f-8364-e52853013d83",
   "metadata": {
    "jupyter": {
     "source_hidden": true
    }
   },
   "outputs": [
    {
     "name": "stdout",
     "output_type": "stream",
     "text": [
      "4\n"
     ]
    }
   ],
   "source": [
    "!flux start --test-size=4 flux getattr size"
   ]
  },
  {
   "cell_type": "markdown",
   "id": "e693f2d9-651f-4f58-bf53-62528caa83d9",
   "metadata": {},
   "source": [
    "When you run `flux start` without a command, it will give you an interactive shell to the instance. When you provide a command (as we do above) it will run it and exit. This is what happens for the command above! The output indicates the number of brokers started successfully. As soon as we get and print the size, we exit."
   ]
  },
  {
   "cell_type": "markdown",
   "id": "926bd17b-b288-4b51-b984-1478dd382954",
   "metadata": {
    "tags": []
   },
   "source": [
    "#### **Wrap up: All the Different Ways to Do Work (from the CLI)**\n",
    "Here's a basic table that shows the four submission commands we use in Flux. \n",
    "\n",
    "|                        | creates subinstance           | runs distributed application          |\n",
    "|------------------------|-------------------------------|---------------------------------------|\n",
    "| interactive            | `flux alloc`                  | `flux run`                            |\n",
    "| backgrounded           | `flux batch`                  | `flux submit`👀                       |\n",
    "\n",
    "* `flux alloc` will allocate resources and start an interactive Flux sub-instance underneath those resources. Within that subinstance, you can submit as many jobs as you like, with no worry about backing up the parent (usually system) instance.\n",
    "* `flux batch` will also allocate resources and start a Flux sub-instance, but the job is not interactive, and thus `batch` requires a script outlining the work to do.\n",
    "* `flux run` runs a program under a Flux instance. It does not create a new sub-instance, and will watch until the program completes.\n",
    "* `flux submit` does not exist in other resource managers, notably Slurm. It does the same thing as `flux run`, but does not watch for job output, instead writing this to a file. \n",
    "\n",
    "It can be kind of hard to think about this in the abstract, so here's a program that we'll run under each of the commands to display different behavior.\n",
    "\n",
    "```c\n",
    "#include <mpi.h>\n",
    "#include <stdio.h>\n",
    "#include <unistd.h>\n",
    "#include <stdlib.h>\n",
    "#include <time.h>\n",
    "#include <stdbool.h>\n",
    "\n",
    "int main (int argc, char *argv[])\n",
    "{\n",
    "    int id, ntasks;\n",
    "    struct timespec t;\n",
    "    const char *label;\n",
    "\n",
    "    if (!(label = getenv (\"FLUX_JOB_CC\")))\n",
    "        if (!(label = getenv (\"FLUX_JOB_ID\")))\n",
    "            label = \"0\";\n",
    "\n",
    "    monotime (&t);\n",
    "    MPI_Init (&argc, &argv);\n",
    "    MPI_Comm_rank (MPI_COMM_WORLD, &id);\n",
    "    MPI_Comm_size (MPI_COMM_WORLD, &ntasks);\n",
    "    if (id == 0) {\n",
    "        printf (\"%s: completed MPI_Init in %0.3fs.  There are %d tasks\\n\",\n",
    "                label,\n",
    "                monotime_since (t) / 1000, ntasks);\n",
    "        fflush (stdout);\n",
    "    }\n",
    "\n",
    "    monotime (&t);\n",
    "    MPI_Barrier (MPI_COMM_WORLD);\n",
    "    if (id == 0) {\n",
    "        printf (\"%s: completed first barrier in %0.3fs\\n\",\n",
    "                label,\n",
    "                monotime_since (t) / 1000);\n",
    "        fflush (stdout);\n",
    "    }\n",
    "\n",
    "    monotime (&t);\n",
    "    MPI_Finalize ();\n",
    "    if (id == 0) {\n",
    "        printf (\"%s: completed MPI_Finalize in %0.3fs\\n\",\n",
    "                label,\n",
    "                monotime_since (t) / 1000);\n",
    "        fflush (stdout);\n",
    "    }\n",
    "    return 0;\n",
    "}\n",
    "```\n",
    "\n",
    "Try not to dwell too much on what the program is doing -- it's basically an MPI \"Hello, World\" with a barrier in the middle. Let's try it with `flux run` first.\n"
   ]
  },
  {
   "cell_type": "code",
   "execution_count": 43,
   "id": "13b08b7a-85e7-4ba3-a787-b1461a4c853a",
   "metadata": {},
   "outputs": [
    {
     "name": "stdout",
     "output_type": "stream",
     "text": [
      "mpicc -o hello hello.c\n"
     ]
    }
   ],
   "source": [
    "!flux run make"
   ]
  },
  {
   "cell_type": "code",
   "execution_count": 46,
   "id": "b77dfbde-80b0-412b-8afd-b5f2ed3e9000",
   "metadata": {},
   "outputs": [
    {
     "name": "stdout",
     "output_type": "stream",
     "text": [
      "ƒ3b1EwHkXh: completed MPI_Init in 0.379s.  There are 10 tasks\n",
      "ƒ3b1EwHkXh: completed first barrier in 0.004s\n",
      "ƒ3b1EwHkXh: completed MPI_Finalize in 0.020s\n"
     ]
    }
   ],
   "source": [
    "!flux run -N1 -n10 ./hello"
   ]
  },
  {
   "cell_type": "markdown",
   "id": "a664792b-9fcd-4f8f-a4e3-f3575b560f10",
   "metadata": {},
   "source": [
    "The `-N 1` flag told Flux to allocate one node, and the `-n 16` flag told Flux to run 16 tasks, hence there were 16 MPI tasks communicating in `MPI_COMM_WORLD`. Let's try the same flags with `flux alloc`."
   ]
  },
  {
   "cell_type": "code",
   "execution_count": 47,
   "id": "37c76e4a-58f9-4d09-acc8-18a091aad365",
   "metadata": {},
   "outputs": [
    {
     "name": "stdout",
     "output_type": "stream",
     "text": [
      "0: completed MPI_Init in 0.443s.  There are 1 tasks\n",
      "0: completed first barrier in 0.000s\n",
      "0: completed MPI_Finalize in 0.063s\n",
      "\u001b[999H[detached: session exiting]\u001b[K\n",
      "\u001b[?25h"
     ]
    }
   ],
   "source": [
    "!flux alloc -N1 -n10 ./hello"
   ]
  },
  {
   "cell_type": "markdown",
   "id": "da4e4e2e-a9c6-47ee-9670-8c7d670c269a",
   "metadata": {},
   "source": [
    "The `-N1 -n16` flags mean something different in this context. The `./hellompi` is passed as the \"initial program\" to `flux alloc`, which allocates 1 node with 16 cores, then starts the initial program -- only one copy of it. Think about it, this makes sense for `flux batch` which must take a script: "
   ]
  },
  {
   "cell_type": "code",
   "execution_count": 48,
   "id": "460ff0ae-d68e-42d7-881b-e94e7f884dcb",
   "metadata": {},
   "outputs": [
    {
     "name": "stdout",
     "output_type": "stream",
     "text": [
      "flux-batch: ERROR: ./hello does not appear to be a script, or failed to encode as utf-8\n"
     ]
    }
   ],
   "source": [
    "!flux batch -N1 -n10 ./hello"
   ]
  },
  {
   "cell_type": "code",
   "execution_count": 49,
   "id": "5e0af324-af78-4309-b239-f6bda2a3b897",
   "metadata": {},
   "outputs": [
    {
     "name": "stdout",
     "output_type": "stream",
     "text": [
      "ƒ3b88at9b5\n"
     ]
    }
   ],
   "source": [
    "!flux batch -N1 -n10 --wrap --output=./hello.out --error=./hello.err ./hello"
   ]
  },
  {
   "cell_type": "code",
   "execution_count": 50,
   "id": "152594b3-b700-4966-9118-8f3dbc31b29f",
   "metadata": {},
   "outputs": [
    {
     "name": "stdout",
     "output_type": "stream",
     "text": [
      "0: stdout redirected to ./hello.out\n",
      "0: stderr redirected to ./hello.err\n"
     ]
    }
   ],
   "source": [
    "!flux watch $(flux job last)"
   ]
  },
  {
   "cell_type": "code",
   "execution_count": 52,
   "id": "37e95742-6c35-4bc5-be73-11f80fc4b5bf",
   "metadata": {},
   "outputs": [
    {
     "name": "stdout",
     "output_type": "stream",
     "text": [
      "0: completed MPI_Init in 0.438s.  There are 1 tasks\n",
      "0: completed first barrier in 0.000s\n",
      "0: completed MPI_Finalize in 0.061s\n"
     ]
    }
   ],
   "source": [
    "## Use this to `cat` the file\n",
    "!cat ./hello.out\n",
    "!cat ./hello.err"
   ]
  },
  {
   "cell_type": "markdown",
   "id": "ac11328b-bcd2-4d92-84db-b2f5f4e1a81c",
   "metadata": {},
   "source": [
    "#### Some submission flags of note\n",
    "\n",
    "* `-N` specifies a number of nodes\n",
    "* `-n` specifies a number of tasks for distributed applications, and cores for interactive allocations\n",
    "* `-c` specifies a number of cores per task\n",
    "* `--requires` constrains a job to run on a specific rank or hostname\n",
    "* `--dependency` makes a job depend on another job\n",
    "* `-cc` submits carbon copies of the same job many times\n",
    "* `--out` and `--err` redirect output and error to files\n",
    "\n",
    "Let's work through some examples of these flags!"
   ]
  },
  {
   "cell_type": "code",
   "execution_count": 60,
   "id": "5848637f-9bd4-4b97-9e60-34cf7ec38128",
   "metadata": {},
   "outputs": [
    {
     "name": "stdout",
     "output_type": "stream",
     "text": [
      "ƒ3bhmY93Y3\n"
     ]
    }
   ],
   "source": [
    "!flux submit -N1 -n4 -c2 --requires=hosts:$(hostname) --output /tmp/file.txt --error /dev/null ./hello"
   ]
  },
  {
   "cell_type": "code",
   "execution_count": 59,
   "id": "a3bc2f0b-4eab-4d8a-a1e6-928e0f2089c0",
   "metadata": {},
   "outputs": [
    {
     "name": "stdout",
     "output_type": "stream",
     "text": [
      "ƒ3bdXQiH1h: completed MPI_Init in 0.337s.  There are 4 tasks\n",
      "ƒ3bdXQiH1h: completed first barrier in 0.002s\n",
      "ƒ3bdXQiH1h: completed MPI_Finalize in 0.012s\n"
     ]
    }
   ],
   "source": [
    "!flux run -N1 --dependency=afterok:$(flux job last) cat /tmp/file.txt"
   ]
  },
  {
   "cell_type": "markdown",
   "id": "c9c3e767-0459-4218-a8cf-0f98bd32d6bf",
   "metadata": {},
   "source": [
    "# This concludes Chapter 1! 📗️\n",
    "\n",
    "In this module, we covered:\n",
    "1. Submitting jobs with Flux\n",
    "2. The differences in submission commands.\n",
    "\n",
    "To continue with the tutorial, open [Chapter 2](../ch2/02_flux_framework.ipynb)"
   ]
  }
 ],
 "metadata": {
  "kernelspec": {
   "display_name": "Python 3 (ipykernel)",
   "language": "python",
   "name": "python3"
  },
  "language_info": {
   "codemirror_mode": {
    "name": "ipython",
    "version": 3
   },
   "file_extension": ".py",
   "mimetype": "text/x-python",
   "name": "python",
   "nbconvert_exporter": "python",
   "pygments_lexer": "ipython3",
   "version": "3.10.12"
  }
 },
 "nbformat": 4,
 "nbformat_minor": 5
}
