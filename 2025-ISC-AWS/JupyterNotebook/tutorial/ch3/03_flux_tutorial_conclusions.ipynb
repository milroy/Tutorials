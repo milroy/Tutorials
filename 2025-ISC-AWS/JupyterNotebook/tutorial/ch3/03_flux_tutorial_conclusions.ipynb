{
 "cells": [
  {
   "cell_type": "markdown",
   "metadata": {},
   "source": [
    "<div>\n",
    "<center><img src=\"../assets/Flux-logo.svg\" width=\"400\"/>\n",
    "</div>\n",
    "\n",
    "# Chapter 3: Process, Monitoring, Utilities, and More, Oh My!\n",
    "\n",
    "Now that we have learned about basic flux commands, and hierarchical scheduling and its benefits, let's dive deeper into the structure of the individual Flux instances that comprise a hierarchy and talk about some additional \"plumbing\" that helps Flux to run. In this module, we cover:\n",
    "1. More advanced flux commands for querying data\n",
    "2. The structure of Flux instances\n",
    "3. Examples `flux kvs` that powers a lot of higher level commands\n",
    "4. Advanced job specification interaction with flux job\n",
    "<br>"
   ]
  },
  {
   "cell_type": "markdown",
   "metadata": {
    "tags": []
   },
   "source": [
    "# Process, Monitoring, and Job Utilities ⚙️\n",
    "## flux exec 👊️\n",
    "\n",
    "<div class=\"alert alert-block\" style=\"background-color:lightgreen\">\n",
    "<span style=\"font-weight:600\">Description:</span> Executing commands across ranks\n",
    "</div>\n",
    "\n",
    "Have you ever wanted a quick way to execute a command to all of your nodes in a flux instance? It might be to create a directory, or otherwise interact with a file. This can be hugely useful in environments where you don't have a shared filesystem, for example. This is a job for flux exec! Here is a toy example to execute the command to every rank (`-r all`) to print."
   ]
  },
  {
   "cell_type": "code",
   "execution_count": 23,
   "metadata": {},
   "outputs": [
    {
     "name": "stdout",
     "output_type": "stream",
     "text": [
      "Hello from a flux rank!\n",
      "Hello from a flux rank!\n",
      "Hello from a flux rank!\n",
      "Hello from a flux rank!\n"
     ]
    }
   ],
   "source": [
    "!flux exec -r all echo \"Hello from a flux rank!\""
   ]
  },
  {
   "cell_type": "markdown",
   "metadata": {},
   "source": [
    "You can also use `-x` to exclude ranks. For example, we often do custom actions on the main or \"leader\" rank, and just want to issue commands to the workers."
   ]
  },
  {
   "cell_type": "code",
   "execution_count": 24,
   "metadata": {},
   "outputs": [
    {
     "name": "stdout",
     "output_type": "stream",
     "text": [
      "Hello from everyone except the lead (0) rank!\n",
      "Hello from everyone except the lead (0) rank!\n",
      "Hello from everyone except the lead (0) rank!\n"
     ]
    }
   ],
   "source": [
    "! flux exec -r all -x 0 echo \"Hello from everyone except the lead (0) rank!\""
   ]
  },
  {
   "cell_type": "markdown",
   "metadata": {},
   "source": [
    "Here is a similar example, but asking to execute only on rank 2, and to have it print the rank."
   ]
  },
  {
   "cell_type": "code",
   "execution_count": 25,
   "metadata": {},
   "outputs": [
    {
     "name": "stdout",
     "output_type": "stream",
     "text": [
      "2\n"
     ]
    }
   ],
   "source": [
    "!flux exec -r 2 flux getattr rank "
   ]
  },
  {
   "cell_type": "markdown",
   "metadata": {},
   "source": [
    "And of course, we could do the same to print for all ranks! This is a derivative of the first example we showed you."
   ]
  },
  {
   "cell_type": "code",
   "execution_count": 26,
   "metadata": {},
   "outputs": [
    {
     "name": "stdout",
     "output_type": "stream",
     "text": [
      "0\n",
      "3\n",
      "1\n",
      "2\n"
     ]
    }
   ],
   "source": [
    "!flux exec flux getattr rank"
   ]
  },
  {
   "cell_type": "markdown",
   "metadata": {},
   "source": [
    "You can imagine that `flux exec` is hugely useful in the context of batch jobs."
   ]
  },
  {
   "cell_type": "markdown",
   "metadata": {},
   "source": [
    "## flux jobs\n",
    "\n",
    "<div class=\"alert alert-block\" style=\"background-color:lightgreen\">\n",
    "<span style=\"font-weight:600\">Description:</span> Querying all jobs on a cluster\n",
    "</div>\n",
    "\n",
    "Flux provides a way to query information about all of the jobs on a cluster, which was discussed in Chapter 1. We sort of skipped over the powerful ways through which you can customize this command."
   ]
  },
  {
   "cell_type": "code",
   "execution_count": 31,
   "metadata": {},
   "outputs": [
    {
     "name": "stdout",
     "output_type": "stream",
     "text": [
      "       JOBID USER     NAME       ST NTASKS NNODES     TIME INFO\n"
     ]
    }
   ],
   "source": [
    "!flux jobs"
   ]
  },
  {
   "cell_type": "code",
   "execution_count": 33,
   "metadata": {},
   "outputs": [
    {
     "name": "stdout",
     "output_type": "stream",
     "text": [
      "       JOBID USER     NAME       ST NTASKS NNODES     TIME INFO\n",
      "\u001b[01;32m  ƒ28G7V4TKD jovyan   echo       CD      1      1   0.139s a100cf62dc4f\n",
      "\u001b[0;0m\u001b[01;32m  ƒ28G7TaU2v jovyan   echo       CD      1      1   0.131s a100cf62dc4f\n",
      "\u001b[0;0m\u001b[01;32m  ƒ28G7TaU2u jovyan   echo       CD      1      1   0.130s a100cf62dc4f\n",
      "\u001b[0;0m\u001b[01;32m  ƒ28G7TaU2s jovyan   echo       CD      1      1   0.128s a100cf62dc4f\n",
      "\u001b[0;0m\u001b[01;32m  ƒ28G7TaU2t jovyan   echo       CD      1      1   0.126s a100cf62dc4f\n",
      "\u001b[0;0m\u001b[01;32m  ƒ286xAsqfd jovyan   echo       CD      4      1   0.128s a100cf62dc4f\n",
      "\u001b[0;0m\u001b[01;32m  ƒ283fwmzTR jovyan   echo       CD      1      1   0.118s a100cf62dc4f\n",
      "\u001b[0;0m\u001b[01;32m  ƒ27p3Bm4Tu jovyan   true       CD      1      1   0.129s a100cf62dc4f\n",
      "\u001b[0;0m\u001b[01;32m  ƒ27p3Bm4Tt jovyan   true       CD      1      1   0.128s a100cf62dc4f\n",
      "\u001b[0;0m\u001b[01;32m  ƒ27p3Bm4Tq jovyan   true       CD      1      1   0.126s a100cf62dc4f\n",
      "\u001b[0;0m\u001b[01;32m  ƒ27p3Bm4Ts jovyan   true       CD      1      1   0.125s a100cf62dc4f\n",
      "\u001b[0;0m\u001b[01;32m  ƒ27p3Bm4Tr jovyan   true       CD      1      1   0.123s a100cf62dc4f\n",
      "\u001b[0;0m\u001b[01;32m  ƒ27eK12NQu jovyan   sleep      CD      1      1   3.202s a100cf62dc4f\n",
      "\u001b[0;0m\u001b[01;32m  ƒ27eK12NQo jovyan   sleep      CD      1      1   3.200s a100cf62dc4f\n",
      "\u001b[0;0m\u001b[01;32m  ƒ27eJyYP8U jovyan   sleep      CD      1      1   3.197s a100cf62dc4f\n",
      "\u001b[0;0m\u001b[01;32m  ƒ27eK12NQr jovyan   sleep      CD      1      1   3.194s a100cf62dc4f\n",
      "\u001b[0;0m\u001b[01;32m  ƒ27eK12NQs jovyan   sleep      CD      1      1   3.192s a100cf62dc4f\n",
      "\u001b[0;0m\u001b[01;32m  ƒ27eJyYP8T jovyan   sleep      CD      1      1   3.193s a100cf62dc4f\n",
      "\u001b[0;0m\u001b[01;32m  ƒ27eK12NQt jovyan   sleep      CD      1      1   3.190s a100cf62dc4f\n",
      "\u001b[0;0m\u001b[01;32m  ƒ27eJyYP8V jovyan   sleep      CD      1      1   3.186s a100cf62dc4f\n",
      "\u001b[0;0m\u001b[01;32m  ƒ27eK12NQq jovyan   sleep      CD      1      1   3.182s a100cf62dc4f\n",
      "\u001b[0;0m\u001b[01;32m  ƒ27eK12NQp jovyan   sleep      CD      1      1   3.180s a100cf62dc4f\n",
      "\u001b[0;0m\u001b[01;32m  ƒ27PW9WRgb jovyan   sleep      CD      1      1   15.15s a100cf62dc4f\n",
      "\u001b[0;0m\u001b[01;32m  ƒ27LxJU3i7 jovyan   sleep      CD      1      1   15.14s a100cf62dc4f\n",
      "\u001b[0;0m\u001b[01;32m  ƒ272SFQMSo jovyan   sleep      CD      1      1   15.15s a100cf62dc4f\n",
      "\u001b[0;0m\u001b[01;32m  ƒ26oxcYuUj jovyan   sleep      CD      1      1   15.14s a100cf62dc4f\n",
      "\u001b[0;0m\u001b[01;32m  ƒ26Xevq2T9 jovyan   sleep      CD      1      1   5.140s a100cf62dc4f\n",
      "\u001b[0;0m\u001b[01;32m  ƒ238cKZQqd jovyan   echo       CD      1      1   0.139s a100cf62dc4f\n",
      "\u001b[0;0m\u001b[01;32m  ƒ238cJ5RZL jovyan   echo       CD      1      1   0.138s a100cf62dc4f\n",
      "\u001b[0;0m\u001b[01;32m  ƒ238cJ5RZK jovyan   echo       CD      1      1   0.137s a100cf62dc4f\n",
      "\u001b[0;0m\u001b[01;32m  ƒ238cJ5RZJ jovyan   echo       CD      1      1   0.134s a100cf62dc4f\n",
      "\u001b[0;0m\u001b[01;32m  ƒ238cJ5RZH jovyan   echo       CD      1      1   0.132s a100cf62dc4f\n",
      "\u001b[0;0m\u001b[01;32m  ƒ223F6Fp1h jovyan   echo       CD      1      1   0.147s a100cf62dc4f\n",
      "\u001b[0;0m\u001b[01;32m  ƒ223F6Fp1g jovyan   echo       CD      1      1   0.142s a100cf62dc4f\n",
      "\u001b[0;0m\u001b[01;32m  ƒ223F6Fp1f jovyan   echo       CD      1      1   0.134s a100cf62dc4f\n",
      "\u001b[0;0m\u001b[01;32m  ƒ223F6Fp1e jovyan   echo       CD      1      1   0.131s a100cf62dc4f\n",
      "\u001b[0;0m\u001b[01;32m  ƒ223F6Fp1d jovyan   echo       CD      1      1   0.131s a100cf62dc4f\n",
      "\u001b[0;0m\u001b[01;32m  ƒ21wNBYxYj jovyan   echo       CD      1      1   0.140s a100cf62dc4f\n",
      "\u001b[0;0m\u001b[01;32m  ƒ21wNBYxYi jovyan   echo       CD      1      1   0.140s a100cf62dc4f\n",
      "\u001b[0;0m\u001b[01;32m  ƒ21wNBYxYh jovyan   echo       CD      1      1   0.132s a100cf62dc4f\n",
      "\u001b[0;0m\u001b[01;32m  ƒ21wNBYxYf jovyan   echo       CD      1      1   0.132s a100cf62dc4f\n",
      "\u001b[0;0m\u001b[01;32m  ƒ21wNBYxYg jovyan   echo       CD      1      1   0.131s a100cf62dc4f\n",
      "\u001b[0;0m\u001b[01;32m  ƒ21cxEpJdm jovyan   true       CD      1      1   0.135s a100cf62dc4f\n",
      "\u001b[0;0m\u001b[01;32m  ƒ21cxDLKMU jovyan   true       CD      1      1   0.131s a100cf62dc4f\n",
      "\u001b[0;0m\u001b[01;32m  ƒ21cxDLKMT jovyan   true       CD      1      1   0.131s a100cf62dc4f\n",
      "\u001b[0;0m\u001b[01;32m  ƒ21cxDLKMS jovyan   true       CD      1      1   0.128s a100cf62dc4f\n",
      "\u001b[0;0m\u001b[01;32m  ƒ21cxDLKMR jovyan   true       CD      1      1   0.128s a100cf62dc4f\n",
      "\u001b[0;0m\u001b[01;32m  ƒ21WDjyUTu jovyan   true       CD      1      1   0.130s a100cf62dc4f\n",
      "\u001b[0;0m\u001b[01;32m  ƒ21WDjyUTq jovyan   true       CD      1      1   0.131s a100cf62dc4f\n",
      "\u001b[0;0m\u001b[01;32m  ƒ21WDjyUTr jovyan   true       CD      1      1   0.131s a100cf62dc4f\n",
      "\u001b[0;0m\u001b[01;32m  ƒ21WDjyUTt jovyan   true       CD      1      1   0.127s a100cf62dc4f\n",
      "\u001b[0;0m\u001b[01;32m  ƒ21WDjyUTs jovyan   true       CD      1      1   0.127s a100cf62dc4f\n",
      "\u001b[0;0m\u001b[01;32m  ƒ21S1dfjCo jovyan   true       CD      1      1   0.135s a100cf62dc4f\n",
      "\u001b[0;0m\u001b[01;32m  ƒ21S1dfjCn jovyan   true       CD      1      1   0.134s a100cf62dc4f\n",
      "\u001b[0;0m\u001b[01;32m  ƒ21S1dfjCm jovyan   true       CD      1      1   0.129s a100cf62dc4f\n",
      "\u001b[0;0m\u001b[01;32m  ƒ21S1dfjCj jovyan   true       CD      1      1   0.130s a100cf62dc4f\n",
      "\u001b[0;0m\u001b[01;32m  ƒ21S1dfjCk jovyan   true       CD      1      1   0.128s a100cf62dc4f\n",
      "\u001b[0;0m\u001b[01;32m  ƒ21DbSxcHG jovyan   true       CD      1      1   0.134s a100cf62dc4f\n",
      "\u001b[0;0m\u001b[01;32m  ƒ21DbUSbZZ jovyan   true       CD      1      1   0.134s a100cf62dc4f\n",
      "\u001b[0;0m\u001b[01;32m  ƒ21DbSxcHF jovyan   true       CD      1      1   0.126s a100cf62dc4f\n",
      "\u001b[0;0m\u001b[01;32m  ƒ21DbSxcHE jovyan   true       CD      1      1   0.122s a100cf62dc4f\n",
      "\u001b[0;0m\u001b[01;32m  ƒ21DbSxcHD jovyan   true       CD      1      1   0.120s a100cf62dc4f\n",
      "\u001b[0;0m\u001b[01;32m   ƒzwKNdx1N jovyan   true       CD      1      1   0.138s a100cf62dc4f\n",
      "\u001b[0;0m\u001b[01;32m   ƒzwKM9xj2 jovyan   true       CD      1      1   0.139s a100cf62dc4f\n",
      "\u001b[0;0m\u001b[01;32m   ƒzwKM9xj1 jovyan   true       CD      1      1   0.139s a100cf62dc4f\n",
      "\u001b[0;0m\u001b[01;32m   ƒzwKNdx1M jovyan   true       CD      1      1   0.138s a100cf62dc4f\n",
      "\u001b[0;0m\u001b[01;32m   ƒzwKNdx1P jovyan   true       CD      1      1   0.138s a100cf62dc4f\n",
      "\u001b[0;0m\u001b[01;32m   ƒzuAjkKuz jovyan   true       CD      1      1   0.135s a100cf62dc4f\n",
      "\u001b[0;0m\u001b[01;32m   ƒzuAjkKuy jovyan   true       CD      1      1   0.134s a100cf62dc4f\n",
      "\u001b[0;0m\u001b[01;32m   ƒzuAiGLdf jovyan   true       CD      1      1   0.127s a100cf62dc4f\n",
      "\u001b[0;0m\u001b[01;32m   ƒzuAiGLde jovyan   true       CD      1      1   0.126s a100cf62dc4f\n",
      "\u001b[0;0m\u001b[01;32m   ƒzuAiGLdd jovyan   true       CD      1      1   0.127s a100cf62dc4f\n",
      "\u001b[0;0m\u001b[01;32m   ƒzisMBio2 jovyan   true       CD      1      1   0.133s a100cf62dc4f\n",
      "\u001b[0;0m\u001b[01;32m   ƒzisMBio3 jovyan   true       CD      1      1   0.133s a100cf62dc4f\n",
      "\u001b[0;0m\u001b[01;32m   ƒzisMBio5 jovyan   true       CD      1      1   0.129s a100cf62dc4f\n",
      "\u001b[0;0m\u001b[01;32m   ƒzisMBio4 jovyan   true       CD      1      1   0.129s a100cf62dc4f\n",
      "\u001b[0;0m\u001b[01;32m   ƒzisMBio1 jovyan   true       CD      1      1   0.129s a100cf62dc4f\n",
      "\u001b[0;0m\u001b[01;32m   ƒuTPXcoc3 jovyan   echo       CD      4      1   0.134s a100cf62dc4f\n",
      "\u001b[0;0m\u001b[01;32m   ƒrmPWDxZM jovyan   echo       CD      4      1   0.137s a100cf62dc4f\n",
      "\u001b[0;0m\u001b[01;32m   ƒZmnNxb1q jovyan   echo       CD      4      1   0.141s a100cf62dc4f\n",
      "\u001b[0;0m\u001b[01;32m   ƒZhsPxYZm jovyan   echo       CD      4      1   0.146s a100cf62dc4f\n",
      "\u001b[0;0m\u001b[01;32m   ƒZbZsZcij jovyan   echo       CD      4      1   0.156s a100cf62dc4f\n",
      "\u001b[0;0m\u001b[01;32m   ƒZZcdtUK9 jovyan   echo       CD      4      1   0.143s a100cf62dc4f\n",
      "\u001b[0;0m\u001b[01;32m   ƒXHdD31R1 jovyan   echo       CD      4      1   0.166s a100cf62dc4f\n",
      "\u001b[0;0m"
     ]
    }
   ],
   "source": [
    "!flux jobs -a"
   ]
  },
  {
   "cell_type": "code",
   "execution_count": 38,
   "metadata": {},
   "outputs": [
    {
     "name": "stdout",
     "output_type": "stream",
     "text": [
      "flux-jobs: WARNING: Filtering options ignored with jobid list\n",
      "\u001b[01;32mCOMPLETED\n",
      "\u001b[0;0m"
     ]
    }
   ],
   "source": [
    "!flux jobs -a --no-header --format=\"{status}\" ƒ28G7V4TKD"
   ]
  },
  {
   "cell_type": "markdown",
   "metadata": {},
   "source": [
    "## flux job info\n",
    "\n",
    "<div class=\"alert alert-block\" style=\"background-color:lightgreen\">\n",
    "<span style=\"font-weight:600\">Description:</span> Querying information about a Flux job\n",
    "</div>\n",
    "\n",
    "Flux provides a way to get information from a JOBID, like jobspec, eventlog, and R (resource set)."
   ]
  },
  {
   "cell_type": "code",
   "execution_count": 45,
   "metadata": {},
   "outputs": [
    {
     "name": "stdout",
     "output_type": "stream",
     "text": [
      "Querying the jobspec\n",
      "\u001b[1;39m[\n",
      "  \u001b[1;39m{\n",
      "    \u001b[0m\u001b[34;1m\"type\"\u001b[0m\u001b[1;39m: \u001b[0m\u001b[0;32m\"slot\"\u001b[0m\u001b[1;39m,\n",
      "    \u001b[0m\u001b[34;1m\"count\"\u001b[0m\u001b[1;39m: \u001b[0m\u001b[0;39m1\u001b[0m\u001b[1;39m,\n",
      "    \u001b[0m\u001b[34;1m\"with\"\u001b[0m\u001b[1;39m: \u001b[0m\u001b[1;39m[\n",
      "      \u001b[1;39m{\n",
      "        \u001b[0m\u001b[34;1m\"type\"\u001b[0m\u001b[1;39m: \u001b[0m\u001b[0;32m\"core\"\u001b[0m\u001b[1;39m,\n",
      "        \u001b[0m\u001b[34;1m\"count\"\u001b[0m\u001b[1;39m: \u001b[0m\u001b[0;39m1\u001b[0m\u001b[1;39m\n",
      "      \u001b[1;39m}\u001b[0m\u001b[1;39m\n",
      "    \u001b[1;39m]\u001b[0m\u001b[1;39m,\n",
      "    \u001b[0m\u001b[34;1m\"label\"\u001b[0m\u001b[1;39m: \u001b[0m\u001b[0;32m\"task\"\u001b[0m\u001b[1;39m\n",
      "  \u001b[1;39m}\u001b[0m\u001b[1;39m\n",
      "\u001b[1;39m]\u001b[0m\n",
      "Querying the resource set\n",
      "\u001b[1;39m[\n",
      "  \u001b[0;32m\"a100cf62dc4f\"\u001b[0m\u001b[1;39m\n",
      "\u001b[1;39m]\u001b[0m\n"
     ]
    }
   ],
   "source": [
    "!echo \"Querying the jobspec\"\n",
    "!flux job info $(flux job last) jobspec | jq .resources\n",
    "!echo \"Querying the resource set\"\n",
    "!flux job info $(flux job last) R | jq .execution.nodelist"
   ]
  },
  {
   "cell_type": "code",
   "execution_count": 10,
   "metadata": {},
   "outputs": [
    {
     "name": "stdout",
     "output_type": "stream",
     "text": [
      "Querying the job eventlog\n",
      "\u001b[1m\u001b[32m[May21 22:47]\u001b[0m \u001b[33msubmit\u001b[0m \u001b[34muserid\u001b[0m=\u001b[37m1000\u001b[0m \u001b[34murgency\u001b[0m=\u001b[37m16\u001b[0m \u001b[34mflags\u001b[0m=\u001b[37m0\u001b[0m \u001b[34mversion\u001b[0m=\u001b[37m1\u001b[0m\n",
      "\u001b[32m[  +0.016689]\u001b[0m \u001b[33mvalidate\u001b[0m\n",
      "\u001b[32m[  +0.030445]\u001b[0m \u001b[33mdepend\u001b[0m\n",
      "\u001b[32m[  +0.030472]\u001b[0m \u001b[33mpriority\u001b[0m \u001b[34mpriority\u001b[0m=\u001b[37m16\u001b[0m\n",
      "\u001b[32m[  +0.034623]\u001b[0m \u001b[33malloc\u001b[0m\n",
      "\u001b[32m[  +0.047154]\u001b[0m \u001b[33mstart\u001b[0m\n",
      "\u001b[32m[  +0.174103]\u001b[0m \u001b[33mfinish\u001b[0m \u001b[34mstatus\u001b[0m=\u001b[37m0\u001b[0m\n",
      "\u001b[32m[  +0.175727]\u001b[0m \u001b[33mrelease\u001b[0m \u001b[34mranks\u001b[0m=\u001b[35m\"all\"\u001b[0m \u001b[34mfinal\u001b[0m=\u001b[35mtrue\u001b[0m\n",
      "\u001b[32m[  +0.175769]\u001b[0m \u001b[33mfree\u001b[0m\n",
      "\u001b[32m[  +0.175785]\u001b[0m \u001b[33mclean\u001b[0m\n",
      "Querying the exec eventlog\n",
      "\u001b[1m\u001b[32m[May21 22:47]\u001b[0m \u001b[33minit\u001b[0m\n",
      "\u001b[32m[  +0.001631]\u001b[0m \u001b[33mstarting\u001b[0m\n",
      "\u001b[32m[  +0.107334]\u001b[0m \u001b[33mshell.init\u001b[0m \u001b[34mservice\u001b[0m=\u001b[35m\"1000-shell-f28G7V4TKD\"\u001b[0m \u001b[34mleader-rank\u001b[0m=\u001b[37m2\u001b[0m \u001b[34msize\u001b[0m=\u001b[37m1\u001b[0m\n",
      "\u001b[32m[  +0.112651]\u001b[0m \u001b[33mshell.start\u001b[0m \u001b[34mtaskmap\u001b[0m=\u001b[35m{\"version\":1,\"map\":[[0,1,1,1]]}\u001b[0m\n",
      "\u001b[32m[  +0.132207]\u001b[0m \u001b[33mshell.task-exit\u001b[0m \u001b[34mlocalid\u001b[0m=\u001b[37m0\u001b[0m \u001b[34mrank\u001b[0m=\u001b[37m0\u001b[0m \u001b[34mstate\u001b[0m=\u001b[35m\"Exited\"\u001b[0m \u001b[34mpid\u001b[0m=\u001b[37m996\u001b[0m \u001b[34mwait_status\u001b[0m=\u001b[37m0\u001b[0m \u001b[34msignaled\u001b[0m=\u001b[37m0\u001b[0m \u001b[34mexitcode\u001b[0m=\u001b[37m0\u001b[0m\n",
      "\u001b[32m[  +0.138682]\u001b[0m \u001b[33mcomplete\u001b[0m \u001b[34mstatus\u001b[0m=\u001b[37m0\u001b[0m\n",
      "\u001b[32m[  +0.138712]\u001b[0m \u001b[33mdone\u001b[0m\n",
      "Querying the eventlog\n",
      "\u001b[1m\u001b[32m[May21 22:47]\u001b[0m \u001b[33mheader\u001b[0m \u001b[34mversion\u001b[0m=\u001b[37m1\u001b[0m \u001b[34mencoding\u001b[0m=\u001b[35m{\"stdout\":\"UTF-8\",\"stderr\":\"UTF-8\"}\u001b[0m \u001b[34mcount\u001b[0m=\u001b[35m{\"stdout\":1,\"stderr\":1}\u001b[0m \u001b[34moptions\u001b[0m=\u001b[35m{}\u001b[0m\n",
      "\u001b[32m[  +0.042486]\u001b[0m \u001b[33mdata\u001b[0m \u001b[34mstream\u001b[0m=\u001b[35m\"stdout\"\u001b[0m \u001b[34mrank\u001b[0m=\u001b[35m\"0\"\u001b[0m \u001b[34mdata\u001b[0m=\u001b[35m\"Wingardium Leviosa!\\n\"\u001b[0m\n",
      "\u001b[32m[  +0.044103]\u001b[0m \u001b[33mdata\u001b[0m \u001b[34mstream\u001b[0m=\u001b[35m\"stderr\"\u001b[0m \u001b[34mrank\u001b[0m=\u001b[35m\"0\"\u001b[0m \u001b[34meof\u001b[0m=\u001b[35mtrue\u001b[0m\n",
      "\u001b[32m[  +0.044179]\u001b[0m \u001b[33mdata\u001b[0m \u001b[34mstream\u001b[0m=\u001b[35m\"stdout\"\u001b[0m \u001b[34mrank\u001b[0m=\u001b[35m\"0\"\u001b[0m \u001b[34meof\u001b[0m=\u001b[35mtrue\u001b[0m\n"
     ]
    }
   ],
   "source": [
    "!echo \"Querying the job eventlog\"\n",
    "!flux job eventlog -H $(flux job last)\n",
    "!echo \"Querying the exec eventlog\"\n",
    "!flux job eventlog -H -p exec $(flux job last)\n",
    "!echo \"Querying the eventlog\"\n",
    "!flux job eventlog -H -p output $(flux job last)"
   ]
  },
  {
   "cell_type": "markdown",
   "metadata": {},
   "source": [
    "## flux uptime\n",
    "\n",
    "<div class=\"alert alert-block\" style=\"background-color:lightgreen\">\n",
    "<span style=\"font-weight:600\">Description:</span> Showing how long a flux instance has been running\n",
    "</div>\n",
    "\n",
    "Flux provides an `uptime` utility to display properties of the Flux instance such as state of the current instance, how long it has been running, its size and if scheduling is disabled or stopped. The output shows how long the instance has been up, the instance owner, the instance depth (depth in the Flux hierarchy), and the size of the instance (number of brokers)."
   ]
  },
  {
   "cell_type": "code",
   "execution_count": 46,
   "metadata": {},
   "outputs": [
    {
     "name": "stdout",
     "output_type": "stream",
     "text": [
      " 01:07:51 run 5.3h,  owner jovyan,  depth 0,  size 4\n"
     ]
    }
   ],
   "source": [
    "!flux uptime"
   ]
  },
  {
   "cell_type": "markdown",
   "metadata": {},
   "source": [
    "## flux top \n",
    "\n",
    "<div class=\"alert alert-block\" style=\"background-color:lightgreen\">\n",
    "<span style=\"font-weight:600\">Description:</span> Showing a table of real-time Flux processes\n",
    "</div>\n",
    "\n",
    "Flux provides a feature-full version of `top` for nested Flux instances and jobs. In the <button data-commandLinker-command=\"terminal:open\" data-name=\"flux\" href=\"#\">JupyterLab terminal</button> invoke `flux top` to see the \"sleep\" jobs. If they have already completed you can resubmit them. \n",
    "\n",
    "We recommend not running `flux top` in the notebook as it is not designed to display output from a command that runs continuously.\n",
    "\n",
    "## flux pstree \n",
    "\n",
    "<div class=\"alert alert-block\" style=\"background-color:lightgreen\">\n",
    "<span style=\"font-weight:600\">Description:</span> Showing a flux process tree (and seeing nesting in instances)\n",
    "</div>\n",
    "\n",
    "In analogy to `top`, Flux provides `flux pstree`. Try it out in the <button data-commandLinker-command=\"terminal:open\" data-name=\"flux\" href=\"#\">JupyterLab terminal</button> or here in the notebook.\n",
    "\n",
    "## flux proxy\n",
    "\n",
    "<div class=\"alert alert-block\" style=\"background-color:lightgreen\">\n",
    "<span style=\"font-weight:600\">Description:</span> Interacting with a job hierarchy\n",
    "</div>\n",
    "\n",
    "Flux proxy is used to route messages to and from a Flux instance. We can use `flux proxy` to connect to a running Flux instance and then submit more nested jobs inside it. From the <button data-commandLinker-command=\"terminal:open\" data-name=\"flux\" href=\"#\">JupyterLab terminal</button> run the commands below!\n",
    "\n",
    "```bash\n",
    "# Outputs the JOBID\n",
    "flux batch --nslots=2 --cores-per-slot=1 --nodes=2 ./sleep_batch.sh\n",
    "\n",
    "# Put the JOBID into an environment variable\n",
    "JOBID=$(flux job last)\n",
    "\n",
    "# See the flux process tree\n",
    "flux pstree -a\n",
    "\n",
    "# Connect to the Flux instance corresponding to JOBID above\n",
    "flux proxy ${JOBID}\n",
    "\n",
    "# Note the depth is now 1 and the size is 2: we're one level deeper in a Flux hierarchy and we have only 2 brokers now.\n",
    "flux uptime\n",
    "\n",
    "# This instance has 2 \"nodes\" and 2 cores allocated to it\n",
    "flux resource list\n",
    "```"
   ]
  },
  {
   "cell_type": "markdown",
   "metadata": {},
   "source": [
    "## flux queue\n",
    "\n",
    "<div class=\"alert alert-block\" style=\"background-color:lightgreen\">\n",
    "<span style=\"font-weight:600\">Description:</span> Interacting with and inspecting Flux queues\n",
    "</div>\n",
    "\n",
    "Flux has a command for controlling the queue within the `job-manager`: `flux queue`.  This includes disabling job submission, re-enabling it, waiting for the queue to become idle or empty, and checking the queue status:"
   ]
  },
  {
   "cell_type": "code",
   "execution_count": 51,
   "metadata": {},
   "outputs": [
    {
     "name": "stdout",
     "output_type": "stream",
     "text": [
      "Job submission is enabled\n",
      "usage: flux-queue [-h] {list,status,enable,disable,start,stop,drain,idle} ...\n",
      "\n",
      "options:\n",
      "  -h, --help            show this help message and exit\n",
      "\n",
      "subcommands:\n",
      "\n",
      "  {list,status,enable,disable,start,stop,drain,idle}\n"
     ]
    }
   ],
   "source": [
    "!flux queue enable\n",
    "!flux queue -h"
   ]
  },
  {
   "cell_type": "markdown",
   "metadata": {},
   "source": [
    "## flux getattr\n",
    "\n",
    "<div class=\"alert alert-block\" style=\"background-color:lightgreen\">\n",
    "<span style=\"font-weight:600\">Description:</span> Getting attributes about your system and environment\n",
    "</div>\n",
    "\n",
    "Each Flux instance has a set of attributes that are set at startup that affect the operation of Flux, such as `rank`, `size`, and `local-uri` (the Unix socket usable for communicating with Flux).  Many of these attributes can be modified at runtime, such as `log-stderr-level` (1 logs only critical messages to stderr while 7 logs everything, including debug messages). Here is an example set that you might be interested in looking at:"
   ]
  },
  {
   "cell_type": "code",
   "execution_count": 52,
   "metadata": {
    "scrolled": true
   },
   "outputs": [
    {
     "name": "stdout",
     "output_type": "stream",
     "text": [
      "0\n",
      "4\n",
      "local:///tmp/flux-nygpcr/local-0\n",
      "broker.boot-method                      simple\n",
      "broker.cleanup-timeout                  none\n",
      "broker.critical-ranks                   0\n",
      "broker.mapping                          [[0,1,4,1]]\n",
      "broker.pid                              8\n",
      "broker.quorum                           4\n",
      "broker.quorum-warn                      1m\n",
      "broker.rc1_path                         /etc/flux/rc1\n",
      "broker.rc3_path                         /etc/flux/rc3\n",
      "broker.sd-stop-timeout                  none\n",
      "broker.shutdown-warn                    1m\n",
      "broker.starttime                        1747857107.61\n",
      "conf.shell_initrc                       /etc/flux/shell/initrc.lua\n",
      "conf.shell_pluginpath                   /usr/lib/flux/shell/plugins\n",
      "config.path                             -\n",
      "content.backing-module                  content-sqlite\n",
      "content.hash                            sha1\n",
      "hostlist                                a100cf62dc4f,a100cf62dc4f,a100cf62dc4f,a100cf62dc4f\n",
      "instance-level                          0\n",
      "local-uri                               local:///tmp/flux-nygpcr/local-0\n",
      "log-critical-level                      2\n",
      "log-filename                            -\n",
      "log-forward-level                       7\n",
      "log-level                               7\n",
      "log-ring-size                           1024\n",
      "log-stderr-level                        3\n",
      "log-stderr-mode                         leader\n",
      "parent-uri                              -\n",
      "rank                                    0\n",
      "rundir                                  /tmp/flux-nygpcr\n",
      "security.owner                          1000\n",
      "size                                    4\n",
      "statedir                                -\n",
      "tbon.child_rcvhwm                       0\n",
      "tbon.connect_timeout                    30s\n",
      "tbon.descendants                        3\n",
      "tbon.endpoint                           ipc:///tmp/flux-nygpcr/tbon-0\n",
      "tbon.interface-hint                     default-route\n",
      "tbon.level                              0\n",
      "tbon.maxlevel                           1\n",
      "tbon.parent-endpoint                    -\n",
      "tbon.prefertcp                          0\n",
      "tbon.tcp_user_timeout                   20s\n",
      "tbon.topo                               kary:32\n",
      "tbon.torpid_max                         30s\n",
      "tbon.torpid_min                         5s\n",
      "tbon.zmq_io_threads                     1\n",
      "tbon.zmqdebug                           0\n",
      "version                                 0.73.0-64-g63e85e328\n"
     ]
    }
   ],
   "source": [
    "!flux getattr rank\n",
    "!flux getattr size\n",
    "!flux getattr local-uri\n",
    "!flux setattr log-stderr-level 3\n",
    "!flux lsattr -v"
   ]
  },
  {
   "cell_type": "markdown",
   "metadata": {},
   "source": [
    "## flux module\n",
    "\n",
    "<div class=\"alert alert-block\" style=\"background-color:lightgreen\">\n",
    "<span style=\"font-weight:600\">Description:</span> Managing Flux extension modules\n",
    "</div>\n",
    "\n",
    "Services within a Flux instance are implemented by modules. To query and manage broker modules, use `flux module`.  Modules that we have already directly interacted with in this tutorial include `resource` (via `flux resource`), `job-ingest` (via `flux` and the Python API) `job-list` (via `flux jobs`) and `job-manager` (via `flux queue`). For the most part, services are implemented by modules of the same name.  In some circumstances, where multiple implementations for a service exist, a module of a different name implements a given service (e.g., in this instance, `sched-fluxion-qmanager` provides the `sched` service and thus `sched.alloc`, but in another instance `sched-simple` might provide the `sched` service)."
   ]
  },
  {
   "cell_type": "code",
   "execution_count": 53,
   "metadata": {},
   "outputs": [
    {
     "name": "stdout",
     "output_type": "stream",
     "text": [
      "Module                   Idle  S Sendq Recvq Service\n",
      "job-manager                57  R     0     0 \n",
      "job-exec                   60  R     0     0 \n",
      "resource                   63  R     0     0 \n",
      "content-sqlite             60  R     0     0 content-backing\n",
      "sched-fluxion-qmanager     60  R     0     0 sched\n",
      "kvs                        60  R     0     0 \n",
      "heartbeat                   1  R     0     0 \n",
      "cron                     idle  R     0     0 \n",
      "connector-local             0  R     0     0 \n",
      "job-ingest               idle  R     0     0 \n",
      "sched-fluxion-resource     60  R     0     0 feasibility\n",
      "job-info                 idle  R     0     0 \n",
      "job-list                 idle  R     0     0 \n",
      "kvs-watch                idle  R     0     0 \n",
      "barrier                  idle  R     0     0 \n",
      "content                    60  R     0     0 \n"
     ]
    }
   ],
   "source": [
    "!flux module list"
   ]
  },
  {
   "cell_type": "code",
   "execution_count": 57,
   "metadata": {},
   "outputs": [
    {
     "name": "stdout",
     "output_type": "stream",
     "text": [
      "Module                   Idle  S Sendq Recvq Service\n",
      "job-manager                 0  R     0     0 \n",
      "job-exec                 idle  R     0     0 \n",
      "resource                    0  R     0     0 \n",
      "content-sqlite           idle  R     0     0 content-backing\n",
      "kvs                      idle  R     0     0 \n",
      "heartbeat                   0  R     0     0 \n",
      "cron                     idle  R     0     0 \n",
      "connector-local             0  R     0     0 \n",
      "job-ingest               idle  R     0     0 \n",
      "sched-simple                0  R     0     0 feasibility,sched\n",
      "job-info                 idle  R     0     0 \n",
      "job-list                 idle  R     0     0 \n",
      "kvs-watch                idle  R     0     0 \n",
      "barrier                  idle  R     0     0 \n",
      "content                  idle  R     0     0 \n"
     ]
    }
   ],
   "source": [
    "!flux module unload sched-fluxion-resource\n",
    "!flux module load sched-simple\n",
    "!flux module list"
   ]
  },
  {
   "cell_type": "markdown",
   "metadata": {},
   "source": [
    "## flux dmesg\n",
    "\n",
    "<div class=\"alert alert-block\" style=\"background-color:lightgreen\">\n",
    "<span style=\"font-weight:600\">Description:</span> Viewing Flux system messages\n",
    "</div>\n",
    "\n",
    "\n",
    "If you need some additional help debugging your Flux setup, you might be interested in `flux dmesg`, which is akin to the [Linux dmesg](https://man7.org/linux/man-pages/man1/dmesg.1.html) but delivers messages for Flux."
   ]
  },
  {
   "cell_type": "code",
   "execution_count": 58,
   "metadata": {
    "tags": []
   },
   "outputs": [
    {
     "name": "stdout",
     "output_type": "stream",
     "text": [
      "\u001b[1m\u001b[32m[May21 19:51]\u001b[0m \u001b[33mbroker.debug[0]\u001b[0m: \u001b[34minsmod connector-local\u001b[0m\n",
      "\u001b[32m[  +0.005402]\u001b[0m \u001b[33mbroker.info[0]\u001b[0m: start: none->join 12.9368ms\u001b[0m\n",
      "\u001b[32m[  +0.008454]\u001b[0m \u001b[33mbroker.info[0]\u001b[0m: parent-none: join->init 2.93317ms\u001b[0m\n",
      "\u001b[32m[  +0.027397]\u001b[0m \u001b[33mconnector-local.debug[0]\u001b[0m: \u001b[34mallow-guest-user=false\u001b[0m\n",
      "\u001b[32m[  +0.027451]\u001b[0m \u001b[33mconnector-local.debug[0]\u001b[0m: \u001b[34mallow-root-owner=false\u001b[0m\n",
      "\u001b[32m[  +0.041013]\u001b[0m \u001b[33mbroker.debug[0]\u001b[0m: \u001b[34maccepting connection from a100cf62dc4f (rank 3) status full\u001b[0m\n",
      "\u001b[32m[  +0.041447]\u001b[0m \u001b[33mbroker.debug[0]\u001b[0m: \u001b[34maccepting connection from a100cf62dc4f (rank 1) status full\u001b[0m\n",
      "\u001b[32m[  +0.041517]\u001b[0m \u001b[33mbroker.debug[0]\u001b[0m: \u001b[34maccepting connection from a100cf62dc4f (rank 2) status full\u001b[0m\n",
      "\u001b[32m[  +0.133438]\u001b[0m \u001b[33mbroker.debug[0]\u001b[0m: \u001b[34minsmod content\u001b[0m\n",
      "\u001b[32m[  +0.170387]\u001b[0m \u001b[33mbroker.debug[0]\u001b[0m: \u001b[34minsmod barrier\u001b[0m\n",
      "\u001b[32m[  +0.284711]\u001b[0m \u001b[33mbroker.debug[0]\u001b[0m: \u001b[34minsmod content-sqlite\u001b[0m\n",
      "\u001b[32m[  +0.312658]\u001b[0m \u001b[33mcontent-sqlite.debug[0]\u001b[0m: \u001b[34m/tmp/flux-nygpcr/content.sqlite (0 objects) journal_mode=OFF synchronous=OFF\u001b[0m\n",
      "\u001b[32m[  +0.313154]\u001b[0m \u001b[33mcontent.debug[0]\u001b[0m: \u001b[34mcontent backing store: enabled content-sqlite\u001b[0m\n",
      "\u001b[32m[  +0.350060]\u001b[0m \u001b[33mbroker.debug[0]\u001b[0m: \u001b[34minsmod kvs\u001b[0m\n",
      "\u001b[32m[  +0.391564]\u001b[0m \u001b[33mbroker.debug[0]\u001b[0m: \u001b[34minsmod kvs-watch\u001b[0m\n",
      "\u001b[32m[  +0.474022]\u001b[0m \u001b[33mbroker.debug[0]\u001b[0m: \u001b[34minsmod resource\u001b[0m\n",
      "\u001b[32m[  +0.562086]\u001b[0m \u001b[33mbroker.debug[0]\u001b[0m: \u001b[34minsmod cron\u001b[0m\n",
      "\u001b[32m[  +0.562626]\u001b[0m \u001b[33mcron.info[0]\u001b[0m: synchronizing cron tasks to event heartbeat.pulse\u001b[0m\n",
      "\u001b[32m[  +0.599858]\u001b[0m \u001b[33mbroker.debug[0]\u001b[0m: \u001b[34minsmod job-manager\u001b[0m\n",
      "\u001b[32m[  +0.604520]\u001b[0m \u001b[33mjob-manager.debug[0]\u001b[0m: \u001b[34mjobtap plugin .history registered method job-manager.history.get\u001b[0m\n",
      "\u001b[32m[  +0.605755]\u001b[0m \u001b[33mjob-manager.debug[0]\u001b[0m: \u001b[34mjobtap plugin .post-event registered method job-manager.post-event.post\u001b[0m\n",
      "\u001b[32m[  +0.607280]\u001b[0m \u001b[33mjob-manager.debug[0]\u001b[0m: \u001b[34mhousekeeping is not configured\u001b[0m\n",
      "\u001b[32m[  +0.607973]\u001b[0m \u001b[33mjob-manager.info[0]\u001b[0m: restart: 0 jobs\u001b[0m\n",
      "\u001b[32m[  +0.608288]\u001b[0m \u001b[33mjob-manager.info[0]\u001b[0m: restart: 0 running jobs\u001b[0m\n",
      "\u001b[32m[  +0.608510]\u001b[0m \u001b[33mjob-manager.info[0]\u001b[0m: restart: checkpoint.job-manager not found\u001b[0m\n",
      "\u001b[32m[  +0.608669]\u001b[0m \u001b[33mjob-manager.debug[0]\u001b[0m: \u001b[34mrestart: max_jobid=ƒ1\u001b[0m\n",
      "\u001b[32m[  +0.645613]\u001b[0m \u001b[33mbroker.debug[0]\u001b[0m: \u001b[34minsmod job-info\u001b[0m\n",
      "\u001b[32m[  +0.683151]\u001b[0m \u001b[33mbroker.debug[0]\u001b[0m: \u001b[34minsmod job-list\u001b[0m\n",
      "\u001b[32m[  +0.750683]\u001b[0m \u001b[33mbroker.debug[0]\u001b[0m: \u001b[34minsmod job-ingest\u001b[0m\n",
      "\u001b[32m[  +0.751926]\u001b[0m \u001b[33mjob-ingest.debug[0]\u001b[0m: \u001b[34mconfiguring validator with plugins=(null), args=(null) (enabled)\u001b[0m\n",
      "\u001b[32m[  +0.756057]\u001b[0m \u001b[33mjob-ingest.debug[0]\u001b[0m: \u001b[34mfluid ts=1ms\u001b[0m\n",
      "\u001b[32m[  +0.792923]\u001b[0m \u001b[33mbroker.debug[0]\u001b[0m: \u001b[34minsmod job-exec\u001b[0m\n",
      "\u001b[32m[  +0.835145]\u001b[0m \u001b[33mbroker.debug[0]\u001b[0m: \u001b[34minsmod heartbeat\u001b[0m\n",
      "\u001b[32m[  +0.843296]\u001b[0m \u001b[33mbroker.info[0]\u001b[0m: rc1.0: running /etc/flux/rc1.d/01-sched-fluxion\u001b[0m\n",
      "\u001b[32m[  +0.937478]\u001b[0m \u001b[33mbroker.debug[0]\u001b[0m: \u001b[34minsmod sched-fluxion-resource\u001b[0m\n",
      "\u001b[32m[  +0.937900]\u001b[0m \u001b[33msched-fluxion-resource.info[0]\u001b[0m: version 0.44.0-7-g34f30920\u001b[0m\n",
      "\u001b[32m[  +0.939829]\u001b[0m \u001b[33msched-fluxion-resource.debug[0]\u001b[0m: \u001b[34mmod_main: resource module starting\u001b[0m\n",
      "\u001b[32m[  +0.980168]\u001b[0m \u001b[33mbroker.debug[0]\u001b[0m: \u001b[34minsmod sched-fluxion-qmanager\u001b[0m\n",
      "\u001b[32m[  +0.980394]\u001b[0m \u001b[33msched-fluxion-qmanager.info[0]\u001b[0m: version 0.44.0-7-g34f30920\u001b[0m\n",
      "\u001b[32m[  +0.981404]\u001b[0m \u001b[33msched-fluxion-qmanager.debug[0]\u001b[0m: \u001b[34mservice_register\u001b[0m\n",
      "\u001b[32m[  +0.982103]\u001b[0m \u001b[33msched-fluxion-qmanager.debug[0]\u001b[0m: \u001b[34menforced policy (queue=default): fcfs\u001b[0m\n",
      "\u001b[32m[  +0.982430]\u001b[0m \u001b[33msched-fluxion-qmanager.debug[0]\u001b[0m: \u001b[34meffective queue params (queue=default): default\u001b[0m\n",
      "\u001b[32m[  +0.982498]\u001b[0m \u001b[33msched-fluxion-qmanager.debug[0]\u001b[0m: \u001b[34meffective policy params (queue=default): default\u001b[0m\n",
      "\u001b[32m[  +0.984002]\u001b[0m \u001b[33mbroker.info[0]\u001b[0m: rc1.0: running /etc/flux/rc1.d/02-cron\u001b[0m\n",
      "\u001b[32m[  +1.378086]\u001b[0m \u001b[33mbroker.info[0]\u001b[0m: rc1.0: /etc/flux/rc1 Exited (rc=0) 1.4s\u001b[0m\n",
      "\u001b[32m[  +1.378472]\u001b[0m \u001b[33mbroker.info[0]\u001b[0m: rc1-success: init->quorum 1.36994s\u001b[0m\n",
      "\u001b[32m[  +1.481261]\u001b[0m \u001b[33mbroker.info[0]\u001b[0m: online: a100cf62dc4f (ranks 0)\u001b[0m\n",
      "\u001b[32m[  +1.767881]\u001b[0m \u001b[33msched-fluxion-resource.warning[0]\u001b[0m: \u001b[1mcreate_reader: allowlist unsupported\u001b[0m\n",
      "\u001b[32m[  +1.773598]\u001b[0m \u001b[33msched-fluxion-resource.debug[0]\u001b[0m: \u001b[34mresource graph datastore loaded with rv1exec reader\u001b[0m\n",
      "\u001b[32m[  +1.773883]\u001b[0m \u001b[33msched-fluxion-resource.info[0]\u001b[0m: populate_resource_db: loaded resources from core's resource.acquire\u001b[0m\n",
      "\u001b[32m[  +1.776881]\u001b[0m \u001b[33msched-fluxion-resource.debug[0]\u001b[0m: \u001b[34mresource status changed (rankset=[all] status=DOWN)\u001b[0m\n",
      "\u001b[32m[  +1.776903]\u001b[0m \u001b[33msched-fluxion-resource.debug[0]\u001b[0m: \u001b[34mresource status changed (rankset=[0] status=UP)\u001b[0m\n",
      "\u001b[32m[  +1.777069]\u001b[0m \u001b[33msched-fluxion-resource.debug[0]\u001b[0m: \u001b[34mmod_main: resource graph database loaded\u001b[0m\n",
      "\u001b[32m[  +1.777577]\u001b[0m \u001b[33msched-fluxion-qmanager.debug[0]\u001b[0m: \u001b[34mhandshaking with sched-fluxion-resource completed\u001b[0m\n",
      "\u001b[32m[  +1.777848]\u001b[0m \u001b[33mjob-manager.debug[0]\u001b[0m: \u001b[34mscheduler: hello +partial-ok\u001b[0m\n",
      "\u001b[32m[  +1.778479]\u001b[0m \u001b[33mjob-manager.debug[0]\u001b[0m: \u001b[34mscheduler: ready unlimited\u001b[0m\n",
      "\u001b[32m[  +1.778572]\u001b[0m \u001b[33msched-fluxion-qmanager.debug[0]\u001b[0m: \u001b[34mhandshaking with job-manager completed\u001b[0m\n",
      "\u001b[32m[  +2.272310]\u001b[0m \u001b[33mbroker.info[0]\u001b[0m: online: a100cf62dc4f,a100cf62dc4f,a100cf62dc4f,a100cf62dc4f (ranks 0-3)\u001b[0m\n",
      "\u001b[32m[  +2.272758]\u001b[0m \u001b[33mbroker.info[0]\u001b[0m: quorum-full: quorum->run 0.894045s\u001b[0m\n",
      "\u001b[32m[  +2.272901]\u001b[0m \u001b[33msched-fluxion-resource.debug[0]\u001b[0m: \u001b[34mresource status changed (rankset=[1-3] status=UP)\u001b[0m\n",
      "\u001b[1m\u001b[32m[May21 22:31]\u001b[0m \u001b[33mkvs.debug[0]\u001b[0m: \u001b[34maggregated 2 transactions (2 ops)\u001b[0m\n",
      "\u001b[32m[  +0.000771]\u001b[0m \u001b[33mkvs.debug[0]\u001b[0m: \u001b[34maggregated 2 transactions (2 ops)\u001b[0m\n",
      "\u001b[32m[  +0.003297]\u001b[0m \u001b[33mkvs.debug[0]\u001b[0m: \u001b[34maggregated 2 transactions (2 ops)\u001b[0m\n",
      "\u001b[32m[ +23.375291]\u001b[0m \u001b[33mkvs.debug[0]\u001b[0m: \u001b[34maggregated 3 transactions (3 ops)\u001b[0m\n",
      "\u001b[32m[ +23.377798]\u001b[0m \u001b[33mkvs.debug[0]\u001b[0m: \u001b[34maggregated 2 transactions (2 ops)\u001b[0m\n",
      "\u001b[32m[ +28.256627]\u001b[0m \u001b[33mkvs.debug[0]\u001b[0m: \u001b[34maggregated 3 transactions (3 ops)\u001b[0m\n",
      "\u001b[32m[ +28.259229]\u001b[0m \u001b[33mkvs.debug[0]\u001b[0m: \u001b[34maggregated 2 transactions (2 ops)\u001b[0m\n",
      "\u001b[32m[ +28.397358]\u001b[0m \u001b[33mkvs.debug[0]\u001b[0m: \u001b[34maggregated 4 transactions (4 ops)\u001b[0m\n",
      "\u001b[1m\u001b[32m[May21 22:32]\u001b[0m \u001b[33mkvs.debug[0]\u001b[0m: \u001b[34maggregated 3 transactions (3 ops)\u001b[0m\n",
      "\u001b[32m[  +0.004236]\u001b[0m \u001b[33mkvs.debug[0]\u001b[0m: \u001b[34maggregated 3 transactions (3 ops)\u001b[0m\n",
      "\u001b[32m[ +28.174461]\u001b[0m \u001b[33mkvs.debug[0]\u001b[0m: \u001b[34maggregated 3 transactions (3 ops)\u001b[0m\n",
      "\u001b[32m[ +28.176897]\u001b[0m \u001b[33mkvs.debug[0]\u001b[0m: \u001b[34maggregated 2 transactions (2 ops)\u001b[0m\n",
      "\u001b[32m[ +37.720830]\u001b[0m \u001b[33mkvs.debug[0]\u001b[0m: \u001b[34maggregated 3 transactions (3 ops)\u001b[0m\n",
      "\u001b[32m[ +37.723531]\u001b[0m \u001b[33mkvs.debug[0]\u001b[0m: \u001b[34maggregated 3 transactions (3 ops)\u001b[0m\n",
      "\u001b[32m[ +37.853998]\u001b[0m \u001b[33mkvs.debug[0]\u001b[0m: \u001b[34maggregated 2 transactions (2 ops)\u001b[0m\n",
      "\u001b[1m\u001b[32m[May21 22:33]\u001b[0m \u001b[33mkvs.debug[0]\u001b[0m: \u001b[34maggregated 3 transactions (3 ops)\u001b[0m\n",
      "\u001b[32m[  +0.003143]\u001b[0m \u001b[33mkvs.debug[0]\u001b[0m: \u001b[34maggregated 3 transactions (3 ops)\u001b[0m\n",
      "\u001b[32m[ +41.781505]\u001b[0m \u001b[33mkvs.debug[0]\u001b[0m: \u001b[34maggregated 3 transactions (3 ops)\u001b[0m\n",
      "\u001b[32m[ +41.784053]\u001b[0m \u001b[33mkvs.debug[0]\u001b[0m: \u001b[34maggregated 2 transactions (2 ops)\u001b[0m\n",
      "\u001b[1m\u001b[32m[May21 22:34]\u001b[0m \u001b[33mkvs.debug[0]\u001b[0m: \u001b[34maggregated 2 transactions (2 ops)\u001b[0m\n",
      "\u001b[32m[  +0.000832]\u001b[0m \u001b[33mkvs.debug[0]\u001b[0m: \u001b[34maggregated 2 transactions (2 ops)\u001b[0m\n",
      "\u001b[32m[  +0.003005]\u001b[0m \u001b[33mkvs.debug[0]\u001b[0m: \u001b[34maggregated 2 transactions (2 ops)\u001b[0m\n",
      "\u001b[1m\u001b[32m[May21 22:36]\u001b[0m \u001b[33mkvs.debug[0]\u001b[0m: \u001b[34maggregated 2 transactions (2 ops)\u001b[0m\n",
      "\u001b[32m[  +0.001909]\u001b[0m \u001b[33mkvs.debug[0]\u001b[0m: \u001b[34maggregated 2 transactions (2 ops)\u001b[0m\n",
      "\u001b[32m[  +0.003307]\u001b[0m \u001b[33mkvs.debug[0]\u001b[0m: \u001b[34maggregated 2 transactions (2 ops)\u001b[0m\n",
      "\u001b[1m\u001b[32m[May21 22:46]\u001b[0m \u001b[33mkvs.debug[0]\u001b[0m: \u001b[34maggregated 5 transactions (5 ops)\u001b[0m\n",
      "\u001b[32m[  +0.000988]\u001b[0m \u001b[33mkvs.debug[0]\u001b[0m: \u001b[34maggregated 4 transactions (4 ops)\u001b[0m\n",
      "\u001b[32m[  +0.003171]\u001b[0m \u001b[33mkvs.debug[0]\u001b[0m: \u001b[34maggregated 4 transactions (4 ops)\u001b[0m\n",
      "\u001b[32m[  +0.004043]\u001b[0m \u001b[33mkvs.debug[0]\u001b[0m: \u001b[34maggregated 3 transactions (3 ops)\u001b[0m\n",
      "\u001b[32m[  +3.195327]\u001b[0m \u001b[33mkvs.debug[0]\u001b[0m: \u001b[34maggregated 2 transactions (2 ops)\u001b[0m\n",
      "\u001b[32m[ +22.074918]\u001b[0m \u001b[33mkvs.debug[0]\u001b[0m: \u001b[34maggregated 4 transactions (4 ops)\u001b[0m\n",
      "\u001b[32m[ +22.077063]\u001b[0m \u001b[33mkvs.debug[0]\u001b[0m: \u001b[34maggregated 3 transactions (3 ops)\u001b[0m\n",
      "\u001b[1m\u001b[32m[May21 22:47]\u001b[0m \u001b[33mkvs.debug[0]\u001b[0m: \u001b[34maggregated 2 transactions (2 ops)\u001b[0m\n",
      "\u001b[32m[  +0.001051]\u001b[0m \u001b[33mkvs.debug[0]\u001b[0m: \u001b[34maggregated 2 transactions (2 ops)\u001b[0m\n",
      "\u001b[32m[  +0.002549]\u001b[0m \u001b[33mkvs.debug[0]\u001b[0m: \u001b[34maggregated 2 transactions (2 ops)\u001b[0m\n",
      "\u001b[1m\u001b[32m[May22 01:08]\u001b[0m \u001b[33mkvs.debug[0]\u001b[0m: \u001b[34maggregated 2 transactions (2 ops)\u001b[0m\n",
      "\u001b[1m\u001b[32m[May22 01:13]\u001b[0m \u001b[33mjob-exec.debug[0]\u001b[0m: \u001b[34mexec aborted: id=ƒ3EFFE8Usy\u001b[0m\n",
      "\u001b[32m[  +0.000775]\u001b[0m \u001b[33mjob-exec.debug[0]\u001b[0m: \u001b[34mexec aborted: id=ƒ3EFFFcUAK\u001b[0m\n",
      "\u001b[32m[  +0.000802]\u001b[0m \u001b[33mjob-exec.debug[0]\u001b[0m: \u001b[34mexec aborted: id=ƒ3EFFFcUAL\u001b[0m\n",
      "\u001b[32m[  +0.017790]\u001b[0m \u001b[33mkvs.debug[0]\u001b[0m: \u001b[34maggregated 2 transactions (2 ops)\u001b[0m\n",
      "\u001b[1m\u001b[32m[May22 01:15]\u001b[0m \u001b[33mbroker.debug[0]\u001b[0m: \u001b[34mrmmod sched-fluxion-qmanager\u001b[0m\n",
      "\u001b[32m[  +0.001020]\u001b[0m \u001b[33mbroker.debug[0]\u001b[0m: \u001b[34mmodule sched-fluxion-qmanager exited\u001b[0m\n",
      "\u001b[32m[  +0.002652]\u001b[0m \u001b[33mjob-manager.debug[0]\u001b[0m: \u001b[34malloc: stop due to disconnect: Success\u001b[0m\n",
      "\u001b[32m[  +0.002941]\u001b[0m \u001b[33msched-fluxion-resource.debug[0]\u001b[0m: \u001b[34mdisconnect_request_cb: a notify request aborted\u001b[0m\n",
      "\u001b[32m[ +10.537435]\u001b[0m \u001b[33mbroker.debug[0]\u001b[0m: \u001b[34minsmod sched-simple\u001b[0m\n",
      "\u001b[32m[ +10.538173]\u001b[0m \u001b[33msched-simple.debug[0]\u001b[0m: \u001b[34mservice_register\u001b[0m\n",
      "\u001b[32m[ +10.538417]\u001b[0m \u001b[33msched-simple.err[0]\u001b[0m: \u001b[31mFailed to register feasibility service: File exists\u001b[0m\n",
      "\u001b[32m[ +10.539072]\u001b[0m \u001b[33msched-simple.crit[0]\u001b[0m: \u001b[1m\u001b[31mmodule exiting abnormally\u001b[0m\n",
      "\u001b[32m[ +10.539999]\u001b[0m \u001b[33mbroker.debug[0]\u001b[0m: \u001b[34mmodule sched-simple exited\u001b[0m\n",
      "\u001b[32m[ +19.767014]\u001b[0m \u001b[33mbroker.debug[0]\u001b[0m: \u001b[34minsmod sched-simple\u001b[0m\n",
      "\u001b[32m[ +19.767757]\u001b[0m \u001b[33msched-simple.debug[0]\u001b[0m: \u001b[34mservice_register\u001b[0m\n",
      "\u001b[32m[ +19.767903]\u001b[0m \u001b[33msched-simple.err[0]\u001b[0m: \u001b[31mFailed to register feasibility service: File exists\u001b[0m\n",
      "\u001b[32m[ +19.768274]\u001b[0m \u001b[33msched-simple.crit[0]\u001b[0m: \u001b[1m\u001b[31mmodule exiting abnormally\u001b[0m\n",
      "\u001b[32m[ +19.768464]\u001b[0m \u001b[33mbroker.debug[0]\u001b[0m: \u001b[34mmodule sched-simple exited\u001b[0m\n",
      "\u001b[32m[ +30.672673]\u001b[0m \u001b[33mbroker.debug[0]\u001b[0m: \u001b[34mrmmod sched-fluxion-resource\u001b[0m\n",
      "\u001b[32m[ +30.673611]\u001b[0m \u001b[33mbroker.debug[0]\u001b[0m: \u001b[34mmodule sched-fluxion-resource exited\u001b[0m\n",
      "\u001b[32m[ +30.673747]\u001b[0m \u001b[33mresource.debug[0]\u001b[0m: \u001b[34maborted 1 resource.acquire(s)\u001b[0m\n",
      "\u001b[1m\u001b[32m[May22 01:16]\u001b[0m \u001b[33mbroker.debug[0]\u001b[0m: \u001b[34minsmod sched-simple\u001b[0m\n",
      "\u001b[32m[  +0.000757]\u001b[0m \u001b[33msched-simple.debug[0]\u001b[0m: \u001b[34mservice_register\u001b[0m\n",
      "\u001b[32m[  +0.004032]\u001b[0m \u001b[33msched-simple.debug[0]\u001b[0m: \u001b[34mresource update: {\"resources\":{\"version\":1,\"execution\":{\"R_lite\":[{\"rank\":\"0-3\",\"children\":{\"core\":\"0-9\"}}],\"starttime\":0.0,\"expiration\":0.0,\"nodelist\":[\"a100cf62dc4f,a100cf62dc4f,a100cf62dc4f,a100cf62dc4f\"]}},\"up\":\"0-3\"}\u001b[0m\n",
      "\u001b[32m[  +0.004357]\u001b[0m \u001b[33mjob-manager.debug[0]\u001b[0m: \u001b[34mscheduler: hello +partial-ok\u001b[0m\n",
      "\u001b[32m[  +0.004577]\u001b[0m \u001b[33mjob-manager.debug[0]\u001b[0m: \u001b[34mscheduler: ready limited\u001b[0m\n",
      "\u001b[32m[  +0.006012]\u001b[0m \u001b[33msched-simple.debug[0]\u001b[0m: \u001b[34mready: 40 of 40 cores: rank[0-3]/core[0-9]\u001b[0m\n"
     ]
    }
   ],
   "source": [
    "!flux dmesg -H"
   ]
  },
  {
   "cell_type": "markdown",
   "metadata": {
    "tags": []
   },
   "source": [
    "<br>\n",
    "\n",
    "## Flux Modules\n",
    "\n",
    "To manage and query modules, Flux provides the `flux module` command. The sub-commands provided by `flux module` can be seen by running the cell below."
   ]
  },
  {
   "cell_type": "code",
   "execution_count": 2,
   "metadata": {
    "scrolled": true,
    "tags": []
   },
   "outputs": [
    {
     "name": "stdout",
     "output_type": "stream",
     "text": [
      "Usage: flux-module COMMAND [OPTIONS]\n",
      "  -h, --help             Display this message.\n",
      "\n",
      "flux module subcommands:\n",
      "   list            List loaded modules\n",
      "   remove          Unload module\n",
      "   load            Load module\n",
      "   reload          Reload module\n",
      "   stats           Display stats on module\n",
      "   debug           Get/set module debug flags\n"
     ]
    }
   ],
   "source": [
    "!flux module --help"
   ]
  },
  {
   "cell_type": "markdown",
   "metadata": {
    "tags": []
   },
   "source": [
    "Some examples of Flux modules include:\n",
    "* `job-ingest` (used by Flux submission commands like `flux batch` and `flux run`)\n",
    "* `job-list` (used by `flux jobs`)\n",
    "* `sched-fluxion-qmanager` (used by `flux tree`)\n",
    "* `sched-fluxion-resource` (also used by `flux tree`)\n",
    "\n",
    "We can see that these services are loaded and available by running the cell below."
   ]
  },
  {
   "cell_type": "code",
   "execution_count": 3,
   "metadata": {
    "collapsed": true,
    "jupyter": {
     "outputs_hidden": true
    }
   },
   "outputs": [
    {
     "name": "stdout",
     "output_type": "stream",
     "text": [
      "Module                   Idle  S Service\n",
      "job-exec                 idle  R \n",
      "heartbeat                   1  R \n",
      "job-list                 idle  R \n",
      "sched-fluxion-resource   idle  R \n",
      "content-sqlite           idle  R content-backing\n",
      "resource                 idle  R \n",
      "job-ingest               idle  R \n",
      "content                  idle  R \n",
      "job-info                 idle  R \n",
      "sched-fluxion-qmanager   idle  R sched\n",
      "kvs-watch                idle  R \n",
      "kvs                      idle  R \n",
      "cron                     idle  R \n",
      "job-manager              idle  R \n",
      "barrier                  idle  R \n",
      "connector-local             0  R \n"
     ]
    }
   ],
   "source": [
    "!flux module list"
   ]
  },
  {
   "cell_type": "code",
   "execution_count": 60,
   "metadata": {},
   "outputs": [
    {
     "name": "stdout",
     "output_type": "stream",
     "text": [
      "\u001b[0;39m90\u001b[0m\n"
     ]
    }
   ],
   "source": [
    "!flux module stats job-manager | jq .inactive_jobs"
   ]
  },
  {
   "cell_type": "markdown",
   "metadata": {},
   "source": [
    "Users and system administrators can easily load and unload modules using the `flux module load` and `flux module remove` commands. To show this, let's unload Fluxion (Flux's graph-based scheduler) and replace it with the built-in simple scheduler."
   ]
  },
  {
   "cell_type": "code",
   "execution_count": 4,
   "metadata": {
    "collapsed": true,
    "jupyter": {
     "outputs_hidden": true
    },
    "scrolled": true
   },
   "outputs": [
    {
     "name": "stdout",
     "output_type": "stream",
     "text": [
      "Module                   Idle  S Service\n",
      "job-exec                 idle  R \n",
      "heartbeat                   0  R \n",
      "job-list                 idle  R \n",
      "content-sqlite           idle  R content-backing\n",
      "resource                    0  R \n",
      "job-ingest               idle  R \n",
      "content                     0  R \n",
      "job-info                 idle  R \n",
      "kvs-watch                idle  R \n",
      "kvs                         0  R \n",
      "cron                     idle  R \n",
      "job-manager                 0  R \n",
      "sched-simple                0  R sched\n",
      "barrier                  idle  R \n",
      "connector-local             0  R \n"
     ]
    }
   ],
   "source": [
    "!flux module remove sched-fluxion-qmanager\n",
    "!flux module remove sched-fluxion-resource\n",
    "!flux module load sched-simple\n",
    "!flux module list"
   ]
  },
  {
   "cell_type": "markdown",
   "metadata": {},
   "source": [
    "In this code block, we unload the 2 services that comprise Fluxion: `sched-fluxion-qmanager` and `sched-fluxion-resource`. Next, we load the simple scheduler (`sched-simple`), and, finally, we look at the running servicees. We now see that Fluxion is not available, and the simple scheduler is. Next, let's reload Fluxion, but, this time, let's pass some extra arguments to specialize our Flux instance. In particular, we will limit the scheduling depth to 4 and populate Fluxion's resource graph with:\n",
    "* Nodes\n",
    "* Sockets\n",
    "* Cores"
   ]
  },
  {
   "cell_type": "code",
   "execution_count": 5,
   "metadata": {
    "scrolled": true,
    "tags": []
   },
   "outputs": [
    {
     "name": "stdout",
     "output_type": "stream",
     "text": [
      "Module                   Idle  S Service\n",
      "job-exec                 idle  R \n",
      "heartbeat                   1  R \n",
      "job-list                 idle  R \n",
      "sched-fluxion-qmanager      0  R sched\n",
      "content-sqlite           idle  R content-backing\n",
      "resource                    0  R \n",
      "job-ingest               idle  R \n",
      "content                     0  R \n",
      "job-info                 idle  R \n",
      "kvs-watch                idle  R \n",
      "sched-fluxion-resource      0  R \n",
      "kvs                         0  R \n",
      "cron                     idle  R \n",
      "job-manager                 0  R \n",
      "barrier                  idle  R \n",
      "connector-local             0  R \n"
     ]
    }
   ],
   "source": [
    "# Run flux dmesg to make sure sched-simple has no more work before unloading\n",
    "!flux dmesg -C\n",
    "!flux module remove sched-simple\n",
    "!flux module load sched-fluxion-resource load-allowlist=node,socket,core\n",
    "!flux module load sched-fluxion-qmanager queue-params=queue-depth=4\n",
    "!flux module list"
   ]
  },
  {
   "cell_type": "markdown",
   "metadata": {},
   "source": [
    "### flux kvs\n",
    "\n",
    "One of the core services built into Flux is the key-value store (KVS). It is used in many other services, including most of Flux's resource management services, and the `flux archive` service below.\n",
    "\n",
    "The `flux kvs` command provides a utility to list and manipulate values of the KVS. As a example of using `flux kvs`, let's use the command to examine information saved by the `resource` service."
   ]
  },
  {
   "cell_type": "code",
   "execution_count": null,
   "metadata": {},
   "outputs": [],
   "source": [
    "!flux kvs ls\n",
    "!flux kvs ls resource\n",
    "!flux kvs get resource.R | jq"
   ]
  },
  {
   "cell_type": "markdown",
   "metadata": {},
   "source": [
    "The KVS is such an essential component of Flux that we provide C and Python APIs to interact with it. To learn more about interacting with the KVS from these languages, take a look at these documentation pages:\n",
    "* C's `flux_kvs_commit` [family of functions](https://flux-framework.readthedocs.io/projects/flux-core/en/latest/man3/flux_kvs_commit.html)\n",
    "* C's `flux_kvs_copy` [family of functions](https://flux-framework.readthedocs.io/projects/flux-core/en/latest/man3/flux_kvs_copy.html)\n",
    "* C's `flux_kvs_getroot` [family of functions](https://flux-framework.readthedocs.io/projects/flux-core/en/latest/man3/flux_kvs_getroot.html)\n",
    "* C's `flux_kvs_lookup` [family of functions](https://flux-framework.readthedocs.io/projects/flux-core/en/latest/man3/flux_kvs_lookup.html)\n",
    "* C's `flux_kvs_namespace_create` [family of functions](https://flux-framework.readthedocs.io/projects/flux-core/en/latest/man3/flux_kvs_namespace_create.html)\n",
    "* C's `flux_kvs_txn_create` [family of functions](https://flux-framework.readthedocs.io/projects/flux-core/en/latest/man3/flux_kvs_txn_create.html)\n",
    "* Python's `flux.kvs` [module](https://flux-framework.readthedocs.io/projects/flux-core/en/latest/python/autogenerated/flux.kvs.html#module-flux.kvs)"
   ]
  },
  {
   "cell_type": "code",
   "execution_count": 64,
   "metadata": {},
   "outputs": [
    {
     "name": "stdout",
     "output_type": "stream",
     "text": [
      "We await donuts\n",
      "apple_fritter: excellent alternative\n",
      "old_fashioned: best\n",
      "plain_raised: good ol' standby\n",
      "The donut future has been fulfilled\n"
     ]
    },
    {
     "data": {
      "text/plain": [
       "0"
      ]
     },
     "execution_count": 64,
     "metadata": {},
     "output_type": "execute_result"
    }
   ],
   "source": [
    "## a humorous example of writing to the Flux KVS using the python bindings\n",
    "from functools import partial\n",
    "\n",
    "import flux\n",
    "import flux.future\n",
    "import flux.kvs\n",
    "\n",
    "handle = flux.Flux()\n",
    "\n",
    "def we_await_donuts(future):\n",
    "    print(\"We await donuts\")\n",
    "    with flux.kvs.KVSTxn(flux_handle=handle) as kt:\n",
    "        kt.mkdir(\"donuts\")\n",
    "        kt.put(\"donuts.old_fashioned\", \"best\")\n",
    "        kt.put(\"donuts.plain_raised\", \"good ol' standby\")\n",
    "        kt.put(\"donuts.apple_fritter\", \"excellent alternative\")\n",
    "\n",
    "def samir_brought_donuts(hand, watcher, revents, args, future):\n",
    "    ## Fetch donut ratings from the flux key-value store\n",
    "    donuts = flux.kvs.KVSDir(hand, \".donuts\")\n",
    "    for donut in donuts.files():\n",
    "        print(f'{donut}: {flux.kvs.get(hand, donuts.key_at(donut))}')\n",
    "    future.fulfill()\n",
    "\n",
    "def donuts_are_here(future):\n",
    "    print(\"The donut future has been fulfilled\")\n",
    "\n",
    "## Create a future for the donuts on our flux handle\n",
    "donut_future = flux.future.FutureExt(we_await_donuts, flux_handle=handle)\n",
    "\n",
    "## When the donut future (promise) is fulfilled, we tell everyone the donuts are here\n",
    "donut_future.then(donuts_are_here)\n",
    "\n",
    "## We schedule the donut future to be fulfilled in 1 minute \n",
    "donut_watcher = handle.timer_watcher_create(6, partial(samir_brought_donuts, future=donut_future))\n",
    "\n",
    "donut_watcher.start()\n",
    "\n",
    "handle.reactor_run()"
   ]
  },
  {
   "cell_type": "markdown",
   "metadata": {},
   "source": [
    "<br>\n",
    "\n",
    "## flux jobspec generation\n",
    "\n",
    "Underlying much interaction with jobs is the creation of job specifications. When you use the command line or Python SDK and submit from a command or script, under the hood (back to that plumbing reference) we are creating a job specification \"Jobspec\" that is passed further through Flux. The command `flux submit` makes it possible to provide a similar command, but instead of running it, to generate the jobspec. Let's do that now. We will generate and view a Jobspec for a simple \"hello world\" job. We do that by adding `--dry-run`."
   ]
  },
  {
   "cell_type": "code",
   "execution_count": 61,
   "metadata": {
    "scrolled": true
   },
   "outputs": [
    {
     "name": "stdout",
     "output_type": "stream",
     "text": [
      "\u001b[1;39m{\n",
      "  \u001b[0m\u001b[34;1m\"resources\"\u001b[0m\u001b[1;39m: \u001b[0m\u001b[1;39m[\n",
      "    \u001b[1;39m{\n",
      "      \u001b[0m\u001b[34;1m\"type\"\u001b[0m\u001b[1;39m: \u001b[0m\u001b[0;32m\"slot\"\u001b[0m\u001b[1;39m,\n",
      "      \u001b[0m\u001b[34;1m\"count\"\u001b[0m\u001b[1;39m: \u001b[0m\u001b[0;39m1\u001b[0m\u001b[1;39m,\n",
      "      \u001b[0m\u001b[34;1m\"with\"\u001b[0m\u001b[1;39m: \u001b[0m\u001b[1;39m[\n",
      "        \u001b[1;39m{\n",
      "          \u001b[0m\u001b[34;1m\"type\"\u001b[0m\u001b[1;39m: \u001b[0m\u001b[0;32m\"core\"\u001b[0m\u001b[1;39m,\n",
      "          \u001b[0m\u001b[34;1m\"count\"\u001b[0m\u001b[1;39m: \u001b[0m\u001b[0;39m1\u001b[0m\u001b[1;39m\n",
      "        \u001b[1;39m}\u001b[0m\u001b[1;39m\n",
      "      \u001b[1;39m]\u001b[0m\u001b[1;39m,\n",
      "      \u001b[0m\u001b[34;1m\"label\"\u001b[0m\u001b[1;39m: \u001b[0m\u001b[0;32m\"task\"\u001b[0m\u001b[1;39m\n",
      "    \u001b[1;39m}\u001b[0m\u001b[1;39m\n",
      "  \u001b[1;39m]\u001b[0m\u001b[1;39m,\n",
      "  \u001b[0m\u001b[34;1m\"tasks\"\u001b[0m\u001b[1;39m: \u001b[0m\u001b[1;39m[\n",
      "    \u001b[1;39m{\n",
      "      \u001b[0m\u001b[34;1m\"command\"\u001b[0m\u001b[1;39m: \u001b[0m\u001b[1;39m[\n",
      "        \u001b[0;32m\"echo\"\u001b[0m\u001b[1;39m,\n",
      "        \u001b[0;32m\"hello\"\u001b[0m\u001b[1;39m,\n",
      "        \u001b[0;32m\"potato\"\u001b[0m\u001b[1;39m,\n",
      "        \u001b[0;32m\"🥔️🍠️\"\u001b[0m\u001b[1;39m\n",
      "      \u001b[1;39m]\u001b[0m\u001b[1;39m,\n",
      "      \u001b[0m\u001b[34;1m\"slot\"\u001b[0m\u001b[1;39m: \u001b[0m\u001b[0;32m\"task\"\u001b[0m\u001b[1;39m,\n",
      "      \u001b[0m\u001b[34;1m\"count\"\u001b[0m\u001b[1;39m: \u001b[0m\u001b[1;39m{\n",
      "        \u001b[0m\u001b[34;1m\"per_slot\"\u001b[0m\u001b[1;39m: \u001b[0m\u001b[0;39m1\u001b[0m\u001b[1;39m\n",
      "      \u001b[1;39m}\u001b[0m\u001b[1;39m\n",
      "    \u001b[1;39m}\u001b[0m\u001b[1;39m\n",
      "  \u001b[1;39m]\u001b[0m\u001b[1;39m,\n",
      "  \u001b[0m\u001b[34;1m\"attributes\"\u001b[0m\u001b[1;39m: \u001b[0m\u001b[1;39m{\n",
      "    \u001b[0m\u001b[34;1m\"system\"\u001b[0m\u001b[1;39m: \u001b[0m\u001b[1;39m{\n",
      "      \u001b[0m\u001b[34;1m\"duration\"\u001b[0m\u001b[1;39m: \u001b[0m\u001b[0;39m0\u001b[0m\u001b[1;39m,\n",
      "      \u001b[0m\u001b[34;1m\"environment\"\u001b[0m\u001b[1;39m: \u001b[0m\u001b[1;39m{\n",
      "        \u001b[0m\u001b[34;1m\"SHELL\"\u001b[0m\u001b[1;39m: \u001b[0m\u001b[0;32m\"/usr/bin/bash\"\u001b[0m\u001b[1;39m,\n",
      "        \u001b[0m\u001b[34;1m\"FLUX_MODULE_PATH\"\u001b[0m\u001b[1;39m: \u001b[0m\u001b[0;32m\"/usr/lib/flux/modules\"\u001b[0m\u001b[1;39m,\n",
      "        \u001b[0m\u001b[34;1m\"HOSTNAME\"\u001b[0m\u001b[1;39m: \u001b[0m\u001b[0;32m\"a100cf62dc4f\"\u001b[0m\u001b[1;39m,\n",
      "        \u001b[0m\u001b[34;1m\"FLUX_START_URI\"\u001b[0m\u001b[1;39m: \u001b[0m\u001b[0;32m\"local:///tmp/flux-nygpcr/start\"\u001b[0m\u001b[1;39m,\n",
      "        \u001b[0m\u001b[34;1m\"NB_UID\"\u001b[0m\u001b[1;39m: \u001b[0m\u001b[0;32m\"1000\"\u001b[0m\u001b[1;39m,\n",
      "        \u001b[0m\u001b[34;1m\"PWD\"\u001b[0m\u001b[1;39m: \u001b[0m\u001b[0;32m\"/home/jovyan/flux-tutorial-2024/flux-for-lc/ch3\"\u001b[0m\u001b[1;39m,\n",
      "        \u001b[0m\u001b[34;1m\"JPY_SESSION_NAME\"\u001b[0m\u001b[1;39m: \u001b[0m\u001b[0;32m\"/home/jovyan/flux-tutorial-2024/flux-for-lc/ch3/03_flux_tutorial_conclusions.ipynb\"\u001b[0m\u001b[1;39m,\n",
      "        \u001b[0m\u001b[34;1m\"MANPATH\"\u001b[0m\u001b[1;39m: \u001b[0m\u001b[0;32m\"/usr/share/man\"\u001b[0m\u001b[1;39m,\n",
      "        \u001b[0m\u001b[34;1m\"FLUX_CONNECTOR_PATH\"\u001b[0m\u001b[1;39m: \u001b[0m\u001b[0;32m\"/usr/lib/flux/connectors\"\u001b[0m\u001b[1;39m,\n",
      "        \u001b[0m\u001b[34;1m\"_\"\u001b[0m\u001b[1;39m: \u001b[0m\u001b[0;32m\"/usr/bin/flux\"\u001b[0m\u001b[1;39m,\n",
      "        \u001b[0m\u001b[34;1m\"HOME\"\u001b[0m\u001b[1;39m: \u001b[0m\u001b[0;32m\"/home/jovyan\"\u001b[0m\u001b[1;39m,\n",
      "        \u001b[0m\u001b[34;1m\"LANG\"\u001b[0m\u001b[1;39m: \u001b[0m\u001b[0;32m\"C.UTF-8\"\u001b[0m\u001b[1;39m,\n",
      "        \u001b[0m\u001b[34;1m\"FORCE_COLOR\"\u001b[0m\u001b[1;39m: \u001b[0m\u001b[0;32m\"1\"\u001b[0m\u001b[1;39m,\n",
      "        \u001b[0m\u001b[34;1m\"PYDEVD_USE_FRAME_EVAL\"\u001b[0m\u001b[1;39m: \u001b[0m\u001b[0;32m\"NO\"\u001b[0m\u001b[1;39m,\n",
      "        \u001b[0m\u001b[34;1m\"JUPYTER_APP_LAUNCHER_PATH\"\u001b[0m\u001b[1;39m: \u001b[0m\u001b[0;32m\"/usr/local/share/jupyter/lab/jupyter_app_launcher/\"\u001b[0m\u001b[1;39m,\n",
      "        \u001b[0m\u001b[34;1m\"CLICOLOR\"\u001b[0m\u001b[1;39m: \u001b[0m\u001b[0;32m\"1\"\u001b[0m\u001b[1;39m,\n",
      "        \u001b[0m\u001b[34;1m\"CLICOLOR_FORCE\"\u001b[0m\u001b[1;39m: \u001b[0m\u001b[0;32m\"1\"\u001b[0m\u001b[1;39m,\n",
      "        \u001b[0m\u001b[34;1m\"JPY_PARENT_PID\"\u001b[0m\u001b[1;39m: \u001b[0m\u001b[0;32m\"157\"\u001b[0m\u001b[1;39m,\n",
      "        \u001b[0m\u001b[34;1m\"TERM\"\u001b[0m\u001b[1;39m: \u001b[0m\u001b[0;32m\"xterm-color\"\u001b[0m\u001b[1;39m,\n",
      "        \u001b[0m\u001b[34;1m\"GIT_PAGER\"\u001b[0m\u001b[1;39m: \u001b[0m\u001b[0;32m\"cat\"\u001b[0m\u001b[1;39m,\n",
      "        \u001b[0m\u001b[34;1m\"SHLVL\"\u001b[0m\u001b[1;39m: \u001b[0m\u001b[0;32m\"2\"\u001b[0m\u001b[1;39m,\n",
      "        \u001b[0m\u001b[34;1m\"PAGER\"\u001b[0m\u001b[1;39m: \u001b[0m\u001b[0;32m\"cat\"\u001b[0m\u001b[1;39m,\n",
      "        \u001b[0m\u001b[34;1m\"FLUX_URI\"\u001b[0m\u001b[1;39m: \u001b[0m\u001b[0;32m\"local:///tmp/flux-nygpcr/local-0\"\u001b[0m\u001b[1;39m,\n",
      "        \u001b[0m\u001b[34;1m\"MPLBACKEND\"\u001b[0m\u001b[1;39m: \u001b[0m\u001b[0;32m\"module://matplotlib_inline.backend_inline\"\u001b[0m\u001b[1;39m,\n",
      "        \u001b[0m\u001b[34;1m\"NB_USER\"\u001b[0m\u001b[1;39m: \u001b[0m\u001b[0;32m\"jovyan\"\u001b[0m\u001b[1;39m,\n",
      "        \u001b[0m\u001b[34;1m\"LUA_CPATH\"\u001b[0m\u001b[1;39m: \u001b[0m\u001b[0;32m\"/usr/lib/lua/5.2/?.so;;;\"\u001b[0m\u001b[1;39m,\n",
      "        \u001b[0m\u001b[34;1m\"FLUX_EXEC_PATH\"\u001b[0m\u001b[1;39m: \u001b[0m\u001b[0;32m\"/usr/libexec/flux/cmd\"\u001b[0m\u001b[1;39m,\n",
      "        \u001b[0m\u001b[34;1m\"PATH\"\u001b[0m\u001b[1;39m: \u001b[0m\u001b[0;32m\"/usr/local/sbin:/usr/local/bin:/usr/sbin:/usr/bin:/sbin:/bin\"\u001b[0m\u001b[1;39m,\n",
      "        \u001b[0m\u001b[34;1m\"FLUX_URI_RESOLVE_LOCAL\"\u001b[0m\u001b[1;39m: \u001b[0m\u001b[0;32m\"t\"\u001b[0m\u001b[1;39m,\n",
      "        \u001b[0m\u001b[34;1m\"LUA_PATH\"\u001b[0m\u001b[1;39m: \u001b[0m\u001b[0;32m\"/usr/share/lua/5.2/?.lua;;;\"\u001b[0m\u001b[1;39m,\n",
      "        \u001b[0m\u001b[34;1m\"BASE_IMAGE\"\u001b[0m\u001b[1;39m: \u001b[0m\u001b[0;32m\"jammy\"\u001b[0m\u001b[1;39m\n",
      "      \u001b[1;39m}\u001b[0m\u001b[1;39m,\n",
      "      \u001b[0m\u001b[34;1m\"cwd\"\u001b[0m\u001b[1;39m: \u001b[0m\u001b[0;32m\"/home/jovyan/flux-tutorial-2024/flux-for-lc/ch3\"\u001b[0m\u001b[1;39m,\n",
      "      \u001b[0m\u001b[34;1m\"shell\"\u001b[0m\u001b[1;39m: \u001b[0m\u001b[1;39m{\n",
      "        \u001b[0m\u001b[34;1m\"options\"\u001b[0m\u001b[1;39m: \u001b[0m\u001b[1;39m{\n",
      "          \u001b[0m\u001b[34;1m\"rlimit\"\u001b[0m\u001b[1;39m: \u001b[0m\u001b[1;39m{\n",
      "            \u001b[0m\u001b[34;1m\"cpu\"\u001b[0m\u001b[1;39m: \u001b[0m\u001b[0;39m-1\u001b[0m\u001b[1;39m,\n",
      "            \u001b[0m\u001b[34;1m\"fsize\"\u001b[0m\u001b[1;39m: \u001b[0m\u001b[0;39m-1\u001b[0m\u001b[1;39m,\n",
      "            \u001b[0m\u001b[34;1m\"data\"\u001b[0m\u001b[1;39m: \u001b[0m\u001b[0;39m-1\u001b[0m\u001b[1;39m,\n",
      "            \u001b[0m\u001b[34;1m\"stack\"\u001b[0m\u001b[1;39m: \u001b[0m\u001b[0;39m8388608\u001b[0m\u001b[1;39m,\n",
      "            \u001b[0m\u001b[34;1m\"core\"\u001b[0m\u001b[1;39m: \u001b[0m\u001b[0;39m0\u001b[0m\u001b[1;39m,\n",
      "            \u001b[0m\u001b[34;1m\"nofile\"\u001b[0m\u001b[1;39m: \u001b[0m\u001b[0;39m1048576\u001b[0m\u001b[1;39m,\n",
      "            \u001b[0m\u001b[34;1m\"as\"\u001b[0m\u001b[1;39m: \u001b[0m\u001b[0;39m-1\u001b[0m\u001b[1;39m,\n",
      "            \u001b[0m\u001b[34;1m\"rss\"\u001b[0m\u001b[1;39m: \u001b[0m\u001b[0;39m-1\u001b[0m\u001b[1;39m,\n",
      "            \u001b[0m\u001b[34;1m\"nproc\"\u001b[0m\u001b[1;39m: \u001b[0m\u001b[0;39m-1\u001b[0m\u001b[1;39m\n",
      "          \u001b[1;39m}\u001b[0m\u001b[1;39m\n",
      "        \u001b[1;39m}\u001b[0m\u001b[1;39m\n",
      "      \u001b[1;39m}\u001b[0m\u001b[1;39m\n",
      "    \u001b[1;39m}\u001b[0m\u001b[1;39m\n",
      "  \u001b[1;39m}\u001b[0m\u001b[1;39m,\n",
      "  \u001b[0m\u001b[34;1m\"version\"\u001b[0m\u001b[1;39m: \u001b[0m\u001b[0;39m1\u001b[0m\u001b[1;39m\n",
      "\u001b[1;39m}\u001b[0m\n"
     ]
    }
   ],
   "source": [
    "! flux submit --dry-run echo hello potato 🥔️🍠️ > potato-job.txt\n",
    "! cat potato-job.txt | jq"
   ]
  },
  {
   "cell_type": "markdown",
   "metadata": {},
   "source": [
    "You'll notice there is a lot of content in there! At this point you could write this to file (as we did, saving to `potato-job.txt`, edit it, and provide it directly to `flux job submit` to run. Let's try that now."
   ]
  },
  {
   "cell_type": "code",
   "execution_count": 62,
   "metadata": {
    "tags": []
   },
   "outputs": [
    {
     "name": "stdout",
     "output_type": "stream",
     "text": [
      "ƒ3KaQMY4kX\n",
      "hello potato 🥔️🍠️\n"
     ]
    }
   ],
   "source": [
    "! flux job submit ./potato-job.txt\n",
    "! flux job attach $(flux job last)"
   ]
  },
  {
   "cell_type": "markdown",
   "metadata": {
    "tags": []
   },
   "source": [
    "# This concludes Chapter 3."
   ]
  },
  {
   "cell_type": "markdown",
   "metadata": {},
   "source": [
    "## Some light reading...\n",
    "## The structure of Flux instances\n",
    "\n",
    "As mentioned in [Chapter 2](./01_flux_tutorial.ipynb), a Flux instance is comprised of one or more Flux brokers. A high-level depiction of the design of a Flux broker is shown in the figure below.\n",
    "\n",
    "<figure>\n",
    "<img src=\"../img/flux-broker-design.png\">\n",
    "<figcaption>\n",
    "<i>Image created by Ian Lumsden for the Flux tutorials</i></figcaption>\n",
    "</figure>\n",
    "\n",
    "Each broker is a program built on top of the ∅MQ networking library. The broker contains two main components. First, the broker implements Flux-specific networking abstractions over ∅MQ, such as remote-proceedure call (RPC) and publication-subscription (pub-sub). Second, the broker contains several core services, such as PMI (for MPI support), run control support (for enabling automatic startup of other services), and, most importantly, broker module management. The remainder of a Flux broker's functionality comes from broker modules: specially designed services that the broker can deploy in independent OS threads. Some examples of broker modules provided by Flux include:\n",
    "* Job scheduling (both traditional and hierarchical)\n",
    "* [Fluxion](https://github.com/flux-framework/flux-sched) (Flux's advanced graph-based scheduler)\n",
    "* Banks and accounting (for system-wide deployments of Flux)\n",
    "* [PMIx](https://github.com/openpmix/openpmix) (for OpenMPI)\n",
    "* An in-memory content store (useful for preloading data into pods on cloud)\n",
    "\n",
    "When Flux starts, it launches one or more brokers across the resources it manages. By default, Flux will launch one broker per node, but this can be configured (e.g., with the `--test-size` flag to `flux start` shown in [Chapter 1](./01_flux_tutorial.ipynb)). After launching the brokers, Flux will designate one broker as the \"leader\" and the rest as \"followers\". The leader serves as entrypoint into the Flux instance, and it serves as the starting point for most Flux commands. The distribution of brokers and the \"leader-follower\" designations are shown in the following figure:\n",
    "\n",
    "<figure>\n",
    "<img src=\"../img/flux-instance-pre-tbon.png\">\n",
    "<figcaption>\n",
    "<i>Image created by Vanessa Sochat for Flux Framework Components documentation</i></figcaption>\n",
    "</figure>\n",
    "\n",
    "After launching the brokers and designating a leader, Flux uses the brokers' network abstractions to connect the brokers together into what we call the \"tree-based overlay network\" or TBON for short. This network is shown in the figure below. This overlay network connects brokers together in a pre-defined tree-based topology (e.g., *k*-ary and binomial). Whenever brokers or instances of distributed services running on top of the brokers need to communicate, they can send messages up and down this tree-structured network. This tree-structured network is used over alternative designs (e.g., all-to-all networks used by MPI) because it provides better scalability (by minimizing communication), security, and fault tolerance for a service-focused framework. More information about these benefits and Flux's overall design can be found in our [publications](https://flux-framework.org/publications/) (particularly our [2014 paper on Flux](https://ieeexplore.ieee.org/document/7103433) presented at ICPP).\n",
    "\n",
    "<figure>\n",
    "<img src=\"../img/flux-instance-w-tbon.png\">\n",
    "<figcaption>\n",
    "<i>Image created by Vanessa Sochat for Flux Framework Components documentation</i></figcaption>\n",
    "</figure>\n",
    "\n",
    "Flux functionality can be extended with modules, which you might think of like services. For Flux instances, additional services are typically implemented as broker modules that can be deployed across one or more brokers. Once deployed, these services can leverage the other components of the broker, including message routing over the TBON and services provided by other broker modules. As a result, broker modules allow for the creation of composable, easily deployable services for Flux instances.\n",
    "    \n",
    "    \n",
    "# This concludes the Flux tutorial! 😄️\n",
    "\n",
    "In this tutorial, we:\n",
    "* Introduced Flux, and showed you how to get started\n",
    "* Showed how to perform traditional batch scheduling with Flux\n",
    "* Showed how to perform hierarchical scheduling with Flux\n",
    "* Described the structure of Flux instances and Flux modules\n",
    "\n",
    "And don't worry, you'll have more opportunities for using Flux! We hope you reach out to us on any of our [project repositories](https://flux-framework.org) and ask any questions that you have. We'd love your contribution to code, documentation, or just saying hello! 👋️ If you have feedback on the tutorial, please let us know so we can improve it for next year. \n",
    "\n",
    "> But what do I do now?\n",
    "\n",
    "Feel free to experiment more with Flux here, or (for more freedom) in the terminal. You can try more of the examples in the `flux-workflow-examples` directory in the window to the left. If you're using a shared system like the one on the HPCIC AWS tutorial please be mindful of other users and don't run compute intensive workloads. If you're running the tutorial in a job on an HPC cluster... compute away! ⚾️\n",
    "\n",
    "> Where can I learn to set this up on my own?\n",
    "\n",
    "If you're interested in installing Flux on your cluster, take a look at the [system instance instructions](https://flux-framework.readthedocs.io/projects/flux-core/en/latest/guide/admin.html). If you are interested in running Flux on Kubernetes, check out the [Flux Operator](https://github.com/flux-framework/flux-operator). \n",
    "\n",
    "> How can I run this tutorial on my own?\n",
    "\n",
    "All materials for this tutorial (including other versions of the tutorial) can be found in our [Tutorials repo](https://github.com/flux-framework/Tutorials). To run this tutorial on your own, you can clone this repo, enter the directory for the version of the tutorial you want to run, and follow the instructions in that directory's README. All versions of this tutorial are designed to either be deployed to cloud (e.g., AWS) or be run locally using Docker.\n",
    "\n",
    "\n",
    "## How can I learn more about Flux?\n",
    "\n",
    "We've got lots of resources for learning about Flux!\n",
    "- [https://flux-framework.org/](https://flux-framework.org/) Flux Framework portal for projects, releases, and publication.\n",
    " - [Flux Documentation](https://flux-framework.readthedocs.io/en/latest/).\n",
    " - [Flux Framework Cheat Sheet](https://flux-framework.org/cheat-sheet/)\n",
    " - [Flux Glossary of Terms](https://flux-framework.readthedocs.io/en/latest/glossary.html)\n",
    " - [Flux Comics](https://flux-framework.readthedocs.io/en/latest/comics/fluxonomicon.html) come and meet FluxBird - the pink bird who knows things!\n",
    " - [Flux Learning Guide](https://flux-framework.readthedocs.io/en/latest/guides/learning_guide.html) learn about what Flux does, how it works, and real research applications \n",
    " - [Getting Started with Flux and Go](https://converged-computing.github.io/flux-go/)\n",
    " - [Getting Started with Flux in C](https://converged-computing.github.io/flux-c-examples/) *looking for contributors*\n",
    "\n",
    "We also have talks and recent publications or work related to Flux in the cloud:\n",
    "\n",
    " - [Flux Alongside User-Space Kubernetes](https://arxiv.org/abs/2406.06995): A possible future for running Kubernetes in user space on a traditional HPC cluster (with Flux)!\n",
    " - [The Flux Operator](https://flux-framework.org/flux-operator/getting_started/user-guide.html): For deploying an entire Flux cluster in seconds in Kubernetes.\n",
    " - [Fluence, a scheduler-plugin for Kubernetes](https://github.com/flux-framework/flux-k8s): to schedule pods with Fluxion.\n",
    "\n",
    "And, of course, you can always reach out to us on any of our [project repositories](https://flux-framework.org) and ask any questions that you have. We'd love your contribution to code, documentation, or just saying hello!\n",
    "\n",
    "![https://flux-framework.org/flux-operator/_static/images/flux-operator.png](https://flux-framework.org/flux-operator/_static/images/flux-operator.png)\n",
    "\n",
    ">> See you next year! 👋️😎️"
   ]
  },
  {
   "cell_type": "markdown",
   "metadata": {},
   "source": [
    "## flux archive 📚️\n",
    "\n",
    "<div class=\"alert alert-block\" style=\"background-color:lightgreen\">\n",
    "<span style=\"font-weight:600\">Description:</span> Creating file and content archives to access later and between ranks\n",
    "</div>\n",
    "\n",
    "As Flux is used more in cloud environments, we might find ourselves in a situation where we have a cluster without a shared filesystem. The `flux archive` command helps with this situation. At a high level, `flux archive` allows us to save named pieces of data (e.g., files) to the Flux KVS for later retrieval.\n",
    "\n",
    "When using `flux archive`, we first have to create an named archive. In the code below, we will create a text file and then save it into an archive using `flux archive`. Note that, for larger files, you can speed up the creation and extraction of archives by using the `--mmap` flag."
   ]
  },
  {
   "cell_type": "code",
   "execution_count": 35,
   "metadata": {
    "collapsed": true,
    "jupyter": {
     "outputs_hidden": true,
     "source_hidden": true
    }
   },
   "outputs": [],
   "source": [
    "!echo \"Sweet dreams 🌚️ are made of cheese, who am I to diss a brie? 🧀️\" > shared-file.txt\n",
    "!flux archive create --name myarchive --directory $(pwd) shared-file.txt"
   ]
  },
  {
   "cell_type": "markdown",
   "metadata": {},
   "source": [
    "When we run this code, we are creating an archive in the leader broker. Now that the archive is created, we will want to extract its contents onto the other nodes of our cluster. To do this, we first need to ensure that the directory that we will extract into exists on those nodes. This can be done using `flux exec`. The `flux exec` command will execute a command on the nodes associated with specified brokers. Let's use `flux exec` to run `mkdir` on all the nodes of our cluster except the leader broker's node."
   ]
  },
  {
   "cell_type": "code",
   "execution_count": 36,
   "metadata": {
    "collapsed": true,
    "jupyter": {
     "outputs_hidden": true,
     "source_hidden": true
    }
   },
   "outputs": [],
   "source": [
    "!flux exec -r all -x 0 mkdir -p $(pwd)"
   ]
  },
  {
   "cell_type": "markdown",
   "metadata": {},
   "source": [
    "The flags provided to `flux exec` do the following:\n",
    "* `-r all`: run across all brokers in the Flux instance\n",
    "* `-x 0`: don't runn on broker 0 (i.e., the leader broker)\n",
    "\n",
    "Now that the directory has been created on all our nodes, we can extract the archive onto those nodes by combining `flux exec` and `flux archive extract`."
   ]
  },
  {
   "cell_type": "markdown",
   "metadata": {},
   "source": [
    "Finally, when we're done with the archive, we can remove it with `flux archive remove`."
   ]
  },
  {
   "cell_type": "code",
   "execution_count": 38,
   "metadata": {
    "collapsed": true,
    "jupyter": {
     "outputs_hidden": true
    },
    "tags": []
   },
   "outputs": [],
   "source": [
    "!flux archive remove --name myarchive"
   ]
  },
  {
   "cell_type": "markdown",
   "metadata": {},
   "source": [
    "Finally, note that `flux archive` was named `flux filemap` in earlier versions of Flux."
   ]
  },
  {
   "cell_type": "code",
   "execution_count": 37,
   "metadata": {
    "tags": []
   },
   "outputs": [
    {
     "name": "stdout",
     "output_type": "stream",
     "text": [
      "flux-archive: shared-file.txt: write: Attempt to overwrite existing file\n",
      "flux-archive: shared-file.txt: write: Attempt to overwrite existing file\n",
      "flux-archive: shared-file.txt: write: Attempt to overwrite existing file\n",
      "[1-3]: Exit 1\n"
     ]
    }
   ],
   "source": [
    "!flux exec -r all -x 0 flux archive extract --name myarchive --directory $(pwd) shared-file.txt"
   ]
  }
 ],
 "metadata": {
  "kernelspec": {
   "display_name": "Python 3 (ipykernel)",
   "language": "python",
   "name": "python3"
  },
  "language_info": {
   "codemirror_mode": {
    "name": "ipython",
    "version": 3
   },
   "file_extension": ".py",
   "mimetype": "text/x-python",
   "name": "python",
   "nbconvert_exporter": "python",
   "pygments_lexer": "ipython3",
   "version": "3.9.12"
  }
 },
 "nbformat": 4,
 "nbformat_minor": 4
}
